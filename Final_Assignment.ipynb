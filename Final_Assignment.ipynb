{
 "cells": [
  {
   "cell_type": "markdown",
   "metadata": {},
   "source": [
    "### Import libraries"
   ]
  },
  {
   "cell_type": "code",
   "execution_count": 119,
   "metadata": {},
   "outputs": [],
   "source": [
    "import pandas as pd\n",
    "import numpy as np\n",
    "import matplotlib.pyplot as plt\n",
    "import seaborn as sns\n",
    "%matplotlib inline"
   ]
  },
  {
   "cell_type": "markdown",
   "metadata": {},
   "source": [
    "### Read the dataset"
   ]
  },
  {
   "cell_type": "code",
   "execution_count": 120,
   "metadata": {
    "scrolled": false
   },
   "outputs": [
    {
     "data": {
      "text/html": [
       "<div>\n",
       "<style scoped>\n",
       "    .dataframe tbody tr th:only-of-type {\n",
       "        vertical-align: middle;\n",
       "    }\n",
       "\n",
       "    .dataframe tbody tr th {\n",
       "        vertical-align: top;\n",
       "    }\n",
       "\n",
       "    .dataframe thead th {\n",
       "        text-align: right;\n",
       "    }\n",
       "</style>\n",
       "<table border=\"1\" class=\"dataframe\">\n",
       "  <thead>\n",
       "    <tr style=\"text-align: right;\">\n",
       "      <th></th>\n",
       "      <th>SetID</th>\n",
       "      <th>Time of Application</th>\n",
       "      <th>State</th>\n",
       "      <th>Monthly Net Income</th>\n",
       "      <th>Paycheck Net Income</th>\n",
       "      <th>Rent or Own</th>\n",
       "      <th>Months at Residence</th>\n",
       "      <th>Bank Account Months</th>\n",
       "      <th>Pay Cycle</th>\n",
       "      <th>Loan Amount</th>\n",
       "      <th>Loan Funded Date</th>\n",
       "      <th>Loan Due Date</th>\n",
       "      <th>First Payment Default</th>\n",
       "      <th>First Payment Default1</th>\n",
       "      <th>Time_Diff</th>\n",
       "    </tr>\n",
       "  </thead>\n",
       "  <tbody>\n",
       "    <tr>\n",
       "      <th>0</th>\n",
       "      <td>436</td>\n",
       "      <td>2018-03-28T17:27:35Z</td>\n",
       "      <td>CA</td>\n",
       "      <td>2000.0</td>\n",
       "      <td>2000.0</td>\n",
       "      <td>R</td>\n",
       "      <td>12</td>\n",
       "      <td>6</td>\n",
       "      <td>Monthly</td>\n",
       "      <td>300.00</td>\n",
       "      <td>3/28/2018</td>\n",
       "      <td>4/11/2018</td>\n",
       "      <td>False</td>\n",
       "      <td>0</td>\n",
       "      <td>14</td>\n",
       "    </tr>\n",
       "    <tr>\n",
       "      <th>1</th>\n",
       "      <td>615</td>\n",
       "      <td>2018-03-23T13:19:32Z</td>\n",
       "      <td>TX</td>\n",
       "      <td>3500.0</td>\n",
       "      <td>3500.0</td>\n",
       "      <td>R</td>\n",
       "      <td>60</td>\n",
       "      <td>60</td>\n",
       "      <td>Monthly</td>\n",
       "      <td>641.91</td>\n",
       "      <td>3/23/2018</td>\n",
       "      <td>4/6/2018</td>\n",
       "      <td>False</td>\n",
       "      <td>0</td>\n",
       "      <td>14</td>\n",
       "    </tr>\n",
       "    <tr>\n",
       "      <th>2</th>\n",
       "      <td>1251</td>\n",
       "      <td>2018-02-28T12:04:56Z</td>\n",
       "      <td>CA</td>\n",
       "      <td>3000.0</td>\n",
       "      <td>3000.0</td>\n",
       "      <td>R</td>\n",
       "      <td>0</td>\n",
       "      <td>6</td>\n",
       "      <td>Monthly</td>\n",
       "      <td>117.65</td>\n",
       "      <td>2/28/2018</td>\n",
       "      <td>3/30/2018</td>\n",
       "      <td>True</td>\n",
       "      <td>1</td>\n",
       "      <td>30</td>\n",
       "    </tr>\n",
       "    <tr>\n",
       "      <th>3</th>\n",
       "      <td>440</td>\n",
       "      <td>2018-03-28T15:47:59Z</td>\n",
       "      <td>CA</td>\n",
       "      <td>1500.0</td>\n",
       "      <td>1500.0</td>\n",
       "      <td>R</td>\n",
       "      <td>12</td>\n",
       "      <td>6</td>\n",
       "      <td>Monthly</td>\n",
       "      <td>117.65</td>\n",
       "      <td>3/28/2018</td>\n",
       "      <td>4/28/2018</td>\n",
       "      <td>False</td>\n",
       "      <td>0</td>\n",
       "      <td>31</td>\n",
       "    </tr>\n",
       "    <tr>\n",
       "      <th>4</th>\n",
       "      <td>1692</td>\n",
       "      <td>2018-02-13T04:36:00Z</td>\n",
       "      <td>CA</td>\n",
       "      <td>2392.0</td>\n",
       "      <td>598.0</td>\n",
       "      <td>R</td>\n",
       "      <td>130</td>\n",
       "      <td>36</td>\n",
       "      <td>Weekly</td>\n",
       "      <td>300.00</td>\n",
       "      <td>2/13/2018</td>\n",
       "      <td>2/23/2018</td>\n",
       "      <td>False</td>\n",
       "      <td>0</td>\n",
       "      <td>10</td>\n",
       "    </tr>\n",
       "  </tbody>\n",
       "</table>\n",
       "</div>"
      ],
      "text/plain": [
       "   SetID   Time of Application State  Monthly Net Income  Paycheck Net Income  \\\n",
       "0    436  2018-03-28T17:27:35Z    CA              2000.0               2000.0   \n",
       "1    615  2018-03-23T13:19:32Z    TX              3500.0               3500.0   \n",
       "2   1251  2018-02-28T12:04:56Z    CA              3000.0               3000.0   \n",
       "3    440  2018-03-28T15:47:59Z    CA              1500.0               1500.0   \n",
       "4   1692  2018-02-13T04:36:00Z    CA              2392.0                598.0   \n",
       "\n",
       "  Rent or Own  Months at Residence  Bank Account Months Pay Cycle  \\\n",
       "0           R                   12                    6   Monthly   \n",
       "1           R                   60                   60   Monthly   \n",
       "2           R                    0                    6   Monthly   \n",
       "3           R                   12                    6   Monthly   \n",
       "4           R                  130                   36    Weekly   \n",
       "\n",
       "   Loan Amount Loan Funded Date Loan Due Date  First Payment Default  \\\n",
       "0       300.00        3/28/2018     4/11/2018                  False   \n",
       "1       641.91        3/23/2018      4/6/2018                  False   \n",
       "2       117.65        2/28/2018     3/30/2018                   True   \n",
       "3       117.65        3/28/2018     4/28/2018                  False   \n",
       "4       300.00        2/13/2018     2/23/2018                  False   \n",
       "\n",
       "   First Payment Default1  Time_Diff  \n",
       "0                       0         14  \n",
       "1                       0         14  \n",
       "2                       1         30  \n",
       "3                       0         31  \n",
       "4                       0         10  "
      ]
     },
     "execution_count": 120,
     "metadata": {},
     "output_type": "execute_result"
    }
   ],
   "source": [
    "train = pd.read_csv(\"2018-05-17-Recruit-Sample-Data-Train1.csv\")\n",
    "train.head()"
   ]
  },
  {
   "cell_type": "code",
   "execution_count": 121,
   "metadata": {},
   "outputs": [
    {
     "data": {
      "text/plain": [
       "(1600, 15)"
      ]
     },
     "execution_count": 121,
     "metadata": {},
     "output_type": "execute_result"
    }
   ],
   "source": [
    "train.shape"
   ]
  },
  {
   "cell_type": "markdown",
   "metadata": {},
   "source": [
    "### Convert Object type to Datetime and extract Month, Day and Hour"
   ]
  },
  {
   "cell_type": "code",
   "execution_count": 122,
   "metadata": {},
   "outputs": [],
   "source": [
    "train[\"Time_of_application\"] = pd.to_datetime(train['Time of Application'])"
   ]
  },
  {
   "cell_type": "code",
   "execution_count": 123,
   "metadata": {},
   "outputs": [],
   "source": [
    "## Drop the original 'Time of Application' column\n",
    "train = train.drop(['Time of Application'], axis =1)"
   ]
  },
  {
   "cell_type": "code",
   "execution_count": 124,
   "metadata": {},
   "outputs": [],
   "source": [
    "train['Month_only']= train['Time_of_application'].dt.month\n",
    "train['Day_only']= train['Time_of_application'].dt.day\n",
    "train['Hour_only']= train['Time_of_application'].dt.hour"
   ]
  },
  {
   "cell_type": "code",
   "execution_count": 125,
   "metadata": {},
   "outputs": [
    {
     "data": {
      "text/html": [
       "<div>\n",
       "<style scoped>\n",
       "    .dataframe tbody tr th:only-of-type {\n",
       "        vertical-align: middle;\n",
       "    }\n",
       "\n",
       "    .dataframe tbody tr th {\n",
       "        vertical-align: top;\n",
       "    }\n",
       "\n",
       "    .dataframe thead th {\n",
       "        text-align: right;\n",
       "    }\n",
       "</style>\n",
       "<table border=\"1\" class=\"dataframe\">\n",
       "  <thead>\n",
       "    <tr style=\"text-align: right;\">\n",
       "      <th></th>\n",
       "      <th>SetID</th>\n",
       "      <th>State</th>\n",
       "      <th>Monthly Net Income</th>\n",
       "      <th>Paycheck Net Income</th>\n",
       "      <th>Rent or Own</th>\n",
       "      <th>Months at Residence</th>\n",
       "      <th>Bank Account Months</th>\n",
       "      <th>Pay Cycle</th>\n",
       "      <th>Loan Amount</th>\n",
       "      <th>Loan Funded Date</th>\n",
       "      <th>Loan Due Date</th>\n",
       "      <th>First Payment Default</th>\n",
       "      <th>First Payment Default1</th>\n",
       "      <th>Time_Diff</th>\n",
       "      <th>Time_of_application</th>\n",
       "      <th>Month_only</th>\n",
       "      <th>Day_only</th>\n",
       "      <th>Hour_only</th>\n",
       "    </tr>\n",
       "  </thead>\n",
       "  <tbody>\n",
       "    <tr>\n",
       "      <th>0</th>\n",
       "      <td>436</td>\n",
       "      <td>CA</td>\n",
       "      <td>2000.0</td>\n",
       "      <td>2000.0</td>\n",
       "      <td>R</td>\n",
       "      <td>12</td>\n",
       "      <td>6</td>\n",
       "      <td>Monthly</td>\n",
       "      <td>300.00</td>\n",
       "      <td>3/28/2018</td>\n",
       "      <td>4/11/2018</td>\n",
       "      <td>False</td>\n",
       "      <td>0</td>\n",
       "      <td>14</td>\n",
       "      <td>2018-03-28 17:27:35</td>\n",
       "      <td>3</td>\n",
       "      <td>28</td>\n",
       "      <td>17</td>\n",
       "    </tr>\n",
       "    <tr>\n",
       "      <th>1</th>\n",
       "      <td>615</td>\n",
       "      <td>TX</td>\n",
       "      <td>3500.0</td>\n",
       "      <td>3500.0</td>\n",
       "      <td>R</td>\n",
       "      <td>60</td>\n",
       "      <td>60</td>\n",
       "      <td>Monthly</td>\n",
       "      <td>641.91</td>\n",
       "      <td>3/23/2018</td>\n",
       "      <td>4/6/2018</td>\n",
       "      <td>False</td>\n",
       "      <td>0</td>\n",
       "      <td>14</td>\n",
       "      <td>2018-03-23 13:19:32</td>\n",
       "      <td>3</td>\n",
       "      <td>23</td>\n",
       "      <td>13</td>\n",
       "    </tr>\n",
       "    <tr>\n",
       "      <th>2</th>\n",
       "      <td>1251</td>\n",
       "      <td>CA</td>\n",
       "      <td>3000.0</td>\n",
       "      <td>3000.0</td>\n",
       "      <td>R</td>\n",
       "      <td>0</td>\n",
       "      <td>6</td>\n",
       "      <td>Monthly</td>\n",
       "      <td>117.65</td>\n",
       "      <td>2/28/2018</td>\n",
       "      <td>3/30/2018</td>\n",
       "      <td>True</td>\n",
       "      <td>1</td>\n",
       "      <td>30</td>\n",
       "      <td>2018-02-28 12:04:56</td>\n",
       "      <td>2</td>\n",
       "      <td>28</td>\n",
       "      <td>12</td>\n",
       "    </tr>\n",
       "    <tr>\n",
       "      <th>3</th>\n",
       "      <td>440</td>\n",
       "      <td>CA</td>\n",
       "      <td>1500.0</td>\n",
       "      <td>1500.0</td>\n",
       "      <td>R</td>\n",
       "      <td>12</td>\n",
       "      <td>6</td>\n",
       "      <td>Monthly</td>\n",
       "      <td>117.65</td>\n",
       "      <td>3/28/2018</td>\n",
       "      <td>4/28/2018</td>\n",
       "      <td>False</td>\n",
       "      <td>0</td>\n",
       "      <td>31</td>\n",
       "      <td>2018-03-28 15:47:59</td>\n",
       "      <td>3</td>\n",
       "      <td>28</td>\n",
       "      <td>15</td>\n",
       "    </tr>\n",
       "    <tr>\n",
       "      <th>4</th>\n",
       "      <td>1692</td>\n",
       "      <td>CA</td>\n",
       "      <td>2392.0</td>\n",
       "      <td>598.0</td>\n",
       "      <td>R</td>\n",
       "      <td>130</td>\n",
       "      <td>36</td>\n",
       "      <td>Weekly</td>\n",
       "      <td>300.00</td>\n",
       "      <td>2/13/2018</td>\n",
       "      <td>2/23/2018</td>\n",
       "      <td>False</td>\n",
       "      <td>0</td>\n",
       "      <td>10</td>\n",
       "      <td>2018-02-13 04:36:00</td>\n",
       "      <td>2</td>\n",
       "      <td>13</td>\n",
       "      <td>4</td>\n",
       "    </tr>\n",
       "  </tbody>\n",
       "</table>\n",
       "</div>"
      ],
      "text/plain": [
       "   SetID State  Monthly Net Income  Paycheck Net Income Rent or Own  \\\n",
       "0    436    CA              2000.0               2000.0           R   \n",
       "1    615    TX              3500.0               3500.0           R   \n",
       "2   1251    CA              3000.0               3000.0           R   \n",
       "3    440    CA              1500.0               1500.0           R   \n",
       "4   1692    CA              2392.0                598.0           R   \n",
       "\n",
       "   Months at Residence  Bank Account Months Pay Cycle  Loan Amount  \\\n",
       "0                   12                    6   Monthly       300.00   \n",
       "1                   60                   60   Monthly       641.91   \n",
       "2                    0                    6   Monthly       117.65   \n",
       "3                   12                    6   Monthly       117.65   \n",
       "4                  130                   36    Weekly       300.00   \n",
       "\n",
       "  Loan Funded Date Loan Due Date  First Payment Default  \\\n",
       "0        3/28/2018     4/11/2018                  False   \n",
       "1        3/23/2018      4/6/2018                  False   \n",
       "2        2/28/2018     3/30/2018                   True   \n",
       "3        3/28/2018     4/28/2018                  False   \n",
       "4        2/13/2018     2/23/2018                  False   \n",
       "\n",
       "   First Payment Default1  Time_Diff Time_of_application  Month_only  \\\n",
       "0                       0         14 2018-03-28 17:27:35           3   \n",
       "1                       0         14 2018-03-23 13:19:32           3   \n",
       "2                       1         30 2018-02-28 12:04:56           2   \n",
       "3                       0         31 2018-03-28 15:47:59           3   \n",
       "4                       0         10 2018-02-13 04:36:00           2   \n",
       "\n",
       "   Day_only  Hour_only  \n",
       "0        28         17  \n",
       "1        23         13  \n",
       "2        28         12  \n",
       "3        28         15  \n",
       "4        13          4  "
      ]
     },
     "execution_count": 125,
     "metadata": {},
     "output_type": "execute_result"
    }
   ],
   "source": [
    "train.head()"
   ]
  },
  {
   "cell_type": "markdown",
   "metadata": {},
   "source": [
    "### Flag Variable:"
   ]
  },
  {
   "cell_type": "code",
   "execution_count": 126,
   "metadata": {},
   "outputs": [],
   "source": [
    "train['time_part_only']= pd.to_datetime(train['Time_of_application'], format = '%H:%M:%S').dt.time.astype(str)\n",
    "train['application_time_flag']= train['time_part_only'].apply(lambda x: 1 if x >= '08:00:00' and x <= '18:00:00' else (0))"
   ]
  },
  {
   "cell_type": "code",
   "execution_count": 127,
   "metadata": {},
   "outputs": [],
   "source": [
    "# drop time_part_only column\n",
    "train = train.drop(['time_part_only'], axis =1)"
   ]
  },
  {
   "cell_type": "code",
   "execution_count": 128,
   "metadata": {},
   "outputs": [
    {
     "data": {
      "text/plain": [
       "1    1249\n",
       "0     351\n",
       "Name: application_time_flag, dtype: int64"
      ]
     },
     "execution_count": 128,
     "metadata": {},
     "output_type": "execute_result"
    }
   ],
   "source": [
    "train['application_time_flag'].value_counts()"
   ]
  },
  {
   "cell_type": "markdown",
   "metadata": {},
   "source": [
    "### Data Preprocessing"
   ]
  },
  {
   "cell_type": "markdown",
   "metadata": {},
   "source": [
    "### Check for Duplicates ID:"
   ]
  },
  {
   "cell_type": "code",
   "execution_count": 129,
   "metadata": {},
   "outputs": [
    {
     "data": {
      "text/html": [
       "<div>\n",
       "<style scoped>\n",
       "    .dataframe tbody tr th:only-of-type {\n",
       "        vertical-align: middle;\n",
       "    }\n",
       "\n",
       "    .dataframe tbody tr th {\n",
       "        vertical-align: top;\n",
       "    }\n",
       "\n",
       "    .dataframe thead th {\n",
       "        text-align: right;\n",
       "    }\n",
       "</style>\n",
       "<table border=\"1\" class=\"dataframe\">\n",
       "  <thead>\n",
       "    <tr style=\"text-align: right;\">\n",
       "      <th></th>\n",
       "      <th>SetID</th>\n",
       "      <th>State</th>\n",
       "      <th>Monthly Net Income</th>\n",
       "      <th>Paycheck Net Income</th>\n",
       "      <th>Rent or Own</th>\n",
       "      <th>Months at Residence</th>\n",
       "      <th>Bank Account Months</th>\n",
       "      <th>Pay Cycle</th>\n",
       "      <th>Loan Amount</th>\n",
       "      <th>Loan Funded Date</th>\n",
       "      <th>Loan Due Date</th>\n",
       "      <th>First Payment Default</th>\n",
       "      <th>First Payment Default1</th>\n",
       "      <th>Time_Diff</th>\n",
       "      <th>Time_of_application</th>\n",
       "      <th>Month_only</th>\n",
       "      <th>Day_only</th>\n",
       "      <th>Hour_only</th>\n",
       "      <th>application_time_flag</th>\n",
       "    </tr>\n",
       "  </thead>\n",
       "  <tbody>\n",
       "  </tbody>\n",
       "</table>\n",
       "</div>"
      ],
      "text/plain": [
       "Empty DataFrame\n",
       "Columns: [SetID, State, Monthly Net Income, Paycheck Net Income, Rent or Own, Months at Residence, Bank Account Months, Pay Cycle, Loan Amount, Loan Funded Date, Loan Due Date, First Payment Default, First Payment Default1, Time_Diff, Time_of_application, Month_only, Day_only, Hour_only, application_time_flag]\n",
       "Index: []"
      ]
     },
     "execution_count": 129,
     "metadata": {},
     "output_type": "execute_result"
    }
   ],
   "source": [
    "counts = train['SetID'].value_counts()\n",
    "train[train['SetID'].isin(counts.index[counts > 1])]"
   ]
  },
  {
   "cell_type": "markdown",
   "metadata": {},
   "source": [
    "This shows that we dont have any duplicates ID in the dataset, therefore ID is the unique key on the givendataset."
   ]
  },
  {
   "cell_type": "markdown",
   "metadata": {},
   "source": [
    "### Missing value assesment :"
   ]
  },
  {
   "cell_type": "markdown",
   "metadata": {},
   "source": [
    "### Observe data types with missing values"
   ]
  },
  {
   "cell_type": "code",
   "execution_count": 130,
   "metadata": {},
   "outputs": [
    {
     "name": "stdout",
     "output_type": "stream",
     "text": [
      "<class 'pandas.core.frame.DataFrame'>\n",
      "RangeIndex: 1600 entries, 0 to 1599\n",
      "Data columns (total 19 columns):\n",
      "SetID                     1600 non-null int64\n",
      "State                     1600 non-null object\n",
      "Monthly Net Income        1600 non-null float64\n",
      "Paycheck Net Income       1600 non-null float64\n",
      "Rent or Own               1600 non-null object\n",
      "Months at Residence       1600 non-null int64\n",
      "Bank Account Months       1600 non-null int64\n",
      "Pay Cycle                 1600 non-null object\n",
      "Loan Amount               1600 non-null float64\n",
      "Loan Funded Date          1600 non-null object\n",
      "Loan Due Date             1600 non-null object\n",
      "First Payment Default     1600 non-null bool\n",
      "First Payment Default1    1600 non-null int64\n",
      "Time_Diff                 1600 non-null int64\n",
      "Time_of_application       1600 non-null datetime64[ns]\n",
      "Month_only                1600 non-null int64\n",
      "Day_only                  1600 non-null int64\n",
      "Hour_only                 1600 non-null int64\n",
      "application_time_flag     1600 non-null int64\n",
      "dtypes: bool(1), datetime64[ns](1), float64(3), int64(9), object(5)\n",
      "memory usage: 226.6+ KB\n"
     ]
    }
   ],
   "source": [
    "train.info() ##or train.dtypes"
   ]
  },
  {
   "cell_type": "code",
   "execution_count": 131,
   "metadata": {},
   "outputs": [
    {
     "data": {
      "text/plain": [
       "SetID                     1600\n",
       "State                        2\n",
       "Monthly Net Income         502\n",
       "Paycheck Net Income        492\n",
       "Rent or Own                  2\n",
       "Months at Residence        226\n",
       "Bank Account Months         55\n",
       "Pay Cycle                    4\n",
       "Loan Amount                113\n",
       "Loan Funded Date            73\n",
       "Loan Due Date               76\n",
       "First Payment Default        2\n",
       "First Payment Default1       2\n",
       "Time_Diff                   26\n",
       "Time_of_application       1590\n",
       "Month_only                   4\n",
       "Day_only                    31\n",
       "Hour_only                   24\n",
       "application_time_flag        2\n",
       "dtype: int64"
      ]
     },
     "execution_count": 131,
     "metadata": {},
     "output_type": "execute_result"
    }
   ],
   "source": [
    "train.nunique()"
   ]
  },
  {
   "cell_type": "code",
   "execution_count": 132,
   "metadata": {},
   "outputs": [
    {
     "data": {
      "text/plain": [
       "False"
      ]
     },
     "execution_count": 132,
     "metadata": {},
     "output_type": "execute_result"
    }
   ],
   "source": [
    "train.isnull().any().any()"
   ]
  },
  {
   "cell_type": "code",
   "execution_count": 133,
   "metadata": {},
   "outputs": [
    {
     "data": {
      "text/plain": [
       "0"
      ]
     },
     "execution_count": 133,
     "metadata": {},
     "output_type": "execute_result"
    }
   ],
   "source": [
    "train.isnull().any().sum()"
   ]
  },
  {
   "cell_type": "code",
   "execution_count": 134,
   "metadata": {
    "scrolled": true
   },
   "outputs": [
    {
     "data": {
      "text/plain": [
       "SetID                     False\n",
       "State                     False\n",
       "Monthly Net Income        False\n",
       "Paycheck Net Income       False\n",
       "Rent or Own               False\n",
       "Months at Residence       False\n",
       "Bank Account Months       False\n",
       "Pay Cycle                 False\n",
       "Loan Amount               False\n",
       "Loan Funded Date          False\n",
       "Loan Due Date             False\n",
       "First Payment Default     False\n",
       "First Payment Default1    False\n",
       "Time_Diff                 False\n",
       "Time_of_application       False\n",
       "Month_only                False\n",
       "Day_only                  False\n",
       "Hour_only                 False\n",
       "application_time_flag     False\n",
       "dtype: bool"
      ]
     },
     "execution_count": 134,
     "metadata": {},
     "output_type": "execute_result"
    }
   ],
   "source": [
    "train.isnull().any()"
   ]
  },
  {
   "cell_type": "code",
   "execution_count": 135,
   "metadata": {},
   "outputs": [
    {
     "data": {
      "text/plain": [
       "5     124\n",
       "12     85\n",
       "9      83\n",
       "26     76\n",
       "8      73\n",
       "2      73\n",
       "14     71\n",
       "1      69\n",
       "27     68\n",
       "13     66\n",
       "15     62\n",
       "20     61\n",
       "6      60\n",
       "3      59\n",
       "22     57\n",
       "28     53\n",
       "4      51\n",
       "7      50\n",
       "19     47\n",
       "23     44\n",
       "21     42\n",
       "31     37\n",
       "29     31\n",
       "25     27\n",
       "16     25\n",
       "24     22\n",
       "10     21\n",
       "30     21\n",
       "17     18\n",
       "18     14\n",
       "11     10\n",
       "Name: Day_only, dtype: int64"
      ]
     },
     "execution_count": 135,
     "metadata": {},
     "output_type": "execute_result"
    }
   ],
   "source": [
    "train['Day_only'].value_counts()"
   ]
  },
  {
   "cell_type": "code",
   "execution_count": 80,
   "metadata": {},
   "outputs": [
    {
     "data": {
      "text/html": [
       "<div>\n",
       "<style scoped>\n",
       "    .dataframe tbody tr th:only-of-type {\n",
       "        vertical-align: middle;\n",
       "    }\n",
       "\n",
       "    .dataframe tbody tr th {\n",
       "        vertical-align: top;\n",
       "    }\n",
       "\n",
       "    .dataframe thead th {\n",
       "        text-align: right;\n",
       "    }\n",
       "</style>\n",
       "<table border=\"1\" class=\"dataframe\">\n",
       "  <thead>\n",
       "    <tr style=\"text-align: right;\">\n",
       "      <th></th>\n",
       "      <th>SetID</th>\n",
       "      <th>Monthly Net Income</th>\n",
       "      <th>Paycheck Net Income</th>\n",
       "      <th>Months at Residence</th>\n",
       "      <th>Bank Account Months</th>\n",
       "      <th>Loan Amount</th>\n",
       "      <th>First Payment Default1</th>\n",
       "      <th>Time_Diff</th>\n",
       "    </tr>\n",
       "  </thead>\n",
       "  <tbody>\n",
       "    <tr>\n",
       "      <th>count</th>\n",
       "      <td>1600.0000</td>\n",
       "      <td>1600.000000</td>\n",
       "      <td>1600.000000</td>\n",
       "      <td>1600.000000</td>\n",
       "      <td>1600.000000</td>\n",
       "      <td>1600.000000</td>\n",
       "      <td>1600.000000</td>\n",
       "      <td>1600.000000</td>\n",
       "    </tr>\n",
       "    <tr>\n",
       "      <th>mean</th>\n",
       "      <td>1004.8700</td>\n",
       "      <td>4362.641250</td>\n",
       "      <td>2718.488750</td>\n",
       "      <td>63.285625</td>\n",
       "      <td>24.731250</td>\n",
       "      <td>317.974619</td>\n",
       "      <td>0.265625</td>\n",
       "      <td>16.117500</td>\n",
       "    </tr>\n",
       "    <tr>\n",
       "      <th>std</th>\n",
       "      <td>584.0755</td>\n",
       "      <td>5524.868265</td>\n",
       "      <td>4894.909919</td>\n",
       "      <td>70.777592</td>\n",
       "      <td>23.414134</td>\n",
       "      <td>176.993218</td>\n",
       "      <td>0.441804</td>\n",
       "      <td>6.725285</td>\n",
       "    </tr>\n",
       "    <tr>\n",
       "      <th>min</th>\n",
       "      <td>2.0000</td>\n",
       "      <td>70.000000</td>\n",
       "      <td>70.000000</td>\n",
       "      <td>0.000000</td>\n",
       "      <td>3.000000</td>\n",
       "      <td>117.650000</td>\n",
       "      <td>0.000000</td>\n",
       "      <td>6.000000</td>\n",
       "    </tr>\n",
       "    <tr>\n",
       "      <th>25%</th>\n",
       "      <td>492.7500</td>\n",
       "      <td>2000.000000</td>\n",
       "      <td>1250.000000</td>\n",
       "      <td>17.000000</td>\n",
       "      <td>6.000000</td>\n",
       "      <td>235.300000</td>\n",
       "      <td>0.000000</td>\n",
       "      <td>11.000000</td>\n",
       "    </tr>\n",
       "    <tr>\n",
       "      <th>50%</th>\n",
       "      <td>1012.5000</td>\n",
       "      <td>3200.000000</td>\n",
       "      <td>2100.000000</td>\n",
       "      <td>39.000000</td>\n",
       "      <td>24.000000</td>\n",
       "      <td>300.000000</td>\n",
       "      <td>0.000000</td>\n",
       "      <td>15.000000</td>\n",
       "    </tr>\n",
       "    <tr>\n",
       "      <th>75%</th>\n",
       "      <td>1514.2500</td>\n",
       "      <td>5139.000000</td>\n",
       "      <td>3500.000000</td>\n",
       "      <td>81.000000</td>\n",
       "      <td>36.000000</td>\n",
       "      <td>320.592500</td>\n",
       "      <td>1.000000</td>\n",
       "      <td>20.000000</td>\n",
       "    </tr>\n",
       "    <tr>\n",
       "      <th>max</th>\n",
       "      <td>2000.0000</td>\n",
       "      <td>184000.000000</td>\n",
       "      <td>184000.000000</td>\n",
       "      <td>690.000000</td>\n",
       "      <td>410.000000</td>\n",
       "      <td>644.240000</td>\n",
       "      <td>1.000000</td>\n",
       "      <td>31.000000</td>\n",
       "    </tr>\n",
       "  </tbody>\n",
       "</table>\n",
       "</div>"
      ],
      "text/plain": [
       "           SetID  Monthly Net Income  Paycheck Net Income  \\\n",
       "count  1600.0000         1600.000000          1600.000000   \n",
       "mean   1004.8700         4362.641250          2718.488750   \n",
       "std     584.0755         5524.868265          4894.909919   \n",
       "min       2.0000           70.000000            70.000000   \n",
       "25%     492.7500         2000.000000          1250.000000   \n",
       "50%    1012.5000         3200.000000          2100.000000   \n",
       "75%    1514.2500         5139.000000          3500.000000   \n",
       "max    2000.0000       184000.000000        184000.000000   \n",
       "\n",
       "       Months at Residence  Bank Account Months  Loan Amount  \\\n",
       "count          1600.000000          1600.000000  1600.000000   \n",
       "mean             63.285625            24.731250   317.974619   \n",
       "std              70.777592            23.414134   176.993218   \n",
       "min               0.000000             3.000000   117.650000   \n",
       "25%              17.000000             6.000000   235.300000   \n",
       "50%              39.000000            24.000000   300.000000   \n",
       "75%              81.000000            36.000000   320.592500   \n",
       "max             690.000000           410.000000   644.240000   \n",
       "\n",
       "       First Payment Default1    Time_Diff  \n",
       "count             1600.000000  1600.000000  \n",
       "mean                 0.265625    16.117500  \n",
       "std                  0.441804     6.725285  \n",
       "min                  0.000000     6.000000  \n",
       "25%                  0.000000    11.000000  \n",
       "50%                  0.000000    15.000000  \n",
       "75%                  1.000000    20.000000  \n",
       "max                  1.000000    31.000000  "
      ]
     },
     "execution_count": 80,
     "metadata": {},
     "output_type": "execute_result"
    }
   ],
   "source": [
    "train.describe()"
   ]
  },
  {
   "cell_type": "code",
   "execution_count": 137,
   "metadata": {},
   "outputs": [
    {
     "data": {
      "image/png": "[encoded data removed]",
      "text/plain": [
       "<Figure size 1080x576 with 1 Axes>"
      ]
     },
     "metadata": {
      "needs_background": "light"
     },
     "output_type": "display_data"
    }
   ],
   "source": [
    "plt.figure(figsize=(15,8))\n",
    "ax = train[\"Loan Amount\"].hist(bins=15, density=True, stacked=True, color='teal', alpha=0.6)\n",
    "train[\"Loan Amount\"].plot(kind='density', color='teal')\n",
    "ax.set(xlabel='Loan Amount')\n",
    "plt.show()"
   ]
  },
  {
   "cell_type": "markdown",
   "metadata": {},
   "source": [
    "### Dependent Variable Distribution:"
   ]
  },
  {
   "cell_type": "code",
   "execution_count": 138,
   "metadata": {},
   "outputs": [
    {
     "data": {
      "image/png": "[encoded data removed]",
      "text/plain": [
       "<Figure size 576x288 with 2 Axes>"
      ]
     },
     "metadata": {
      "needs_background": "light"
     },
     "output_type": "display_data"
    }
   ],
   "source": [
    "f,ax = plt.subplots(1,2, figsize= (8,4))\n",
    "train['First Payment Default'].value_counts().plot.pie(explode=[0,0.1], autopct = '%1.1f%%', ax= ax[0], shadow= True)\n",
    "ax[0].set_title(\"Label\")\n",
    "ax[0].set_ylabel('')\n",
    "sns.countplot('First Payment Default', data = train, ax= ax[1])\n",
    "ax[1].set_title('Label')\n",
    "plt.show()"
   ]
  },
  {
   "cell_type": "markdown",
   "metadata": {},
   "source": [
    "we observed that distribution of classes (False/True) is skewed so we need to do stratified sampling approach while training the model."
   ]
  },
  {
   "cell_type": "code",
   "execution_count": 139,
   "metadata": {},
   "outputs": [
    {
     "data": {
      "image/png": "[encoded data removed]",
      "text/plain": [
       "<Figure size 576x360 with 2 Axes>"
      ]
     },
     "metadata": {
      "needs_background": "light"
     },
     "output_type": "display_data"
    }
   ],
   "source": [
    "continuous_features = ['Monthly Net Income', 'Paycheck Net Income', 'Months at Residence', 'Bank Account Months', 'Loan Amount']\n",
    "X = train[continuous_features]\n",
    "plt.subplots(figsize=(8, 5))\n",
    "sns.heatmap(X.corr(), annot=True, cmap=\"RdYlGn\")\n",
    "plt.show()"
   ]
  },
  {
   "cell_type": "code",
   "execution_count": 140,
   "metadata": {},
   "outputs": [
    {
     "data": {
      "text/plain": [
       "<seaborn.axisgrid.FacetGrid at 0x24ada4daa90>"
      ]
     },
     "execution_count": 140,
     "metadata": {},
     "output_type": "execute_result"
    },
    {
     "data": {
      "image/png": "[encoded data removed]",
      "text/plain": [
       "<Figure size 432x216 with 2 Axes>"
      ]
     },
     "metadata": {
      "needs_background": "light"
     },
     "output_type": "display_data"
    }
   ],
   "source": [
    "g = sns.FacetGrid(train, col='First Payment Default')\n",
    "g.map(plt.hist, 'Loan Amount', bins=5)"
   ]
  },
  {
   "cell_type": "code",
   "execution_count": 142,
   "metadata": {},
   "outputs": [
    {
     "name": "stderr",
     "output_type": "stream",
     "text": [
      "C:\\Users\\rc_as\\Anaconda3\\lib\\site-packages\\seaborn\\categorical.py:3666: UserWarning: The `factorplot` function has been renamed to `catplot`. The original name will be removed in a future release. Please update your code. Note that the default `kind` in `factorplot` (`'point'`) has changed `'strip'` in `catplot`.\n",
      "  warnings.warn(msg)\n",
      "C:\\Users\\rc_as\\Anaconda3\\lib\\site-packages\\scipy\\stats\\stats.py:1713: FutureWarning: Using a non-tuple sequence for multidimensional indexing is deprecated; use `arr[tuple(seq)]` instead of `arr[seq]`. In the future this will be interpreted as an array index, `arr[np.array(seq)]`, which will result either in an error or a different result.\n",
      "  return np.add.reduce(sorted[indexer] * weights, axis=axis) / sumval\n"
     ]
    },
    {
     "data": {
      "image/png": "[encoded data removed]",
      "text/plain": [
       "<Figure size 900x360 with 1 Axes>"
      ]
     },
     "metadata": {
      "needs_background": "light"
     },
     "output_type": "display_data"
    }
   ],
   "source": [
    "axes = sns.factorplot('Pay Cycle','First Payment Default', data=train, aspect = 2.5, )"
   ]
  },
  {
   "cell_type": "markdown",
   "metadata": {},
   "source": [
    "### Create the list of Columns Family:"
   ]
  },
  {
   "cell_type": "code",
   "execution_count": 145,
   "metadata": {},
   "outputs": [
    {
     "data": {
      "text/plain": [
       "SetID                              int64\n",
       "State                             object\n",
       "Monthly Net Income               float64\n",
       "Paycheck Net Income              float64\n",
       "Rent or Own                       object\n",
       "Months at Residence                int64\n",
       "Bank Account Months                int64\n",
       "Pay Cycle                         object\n",
       "Loan Amount                      float64\n",
       "Loan Funded Date                  object\n",
       "Loan Due Date                     object\n",
       "First Payment Default               bool\n",
       "First Payment Default1             int64\n",
       "Time_Diff                          int64\n",
       "Time_of_application       datetime64[ns]\n",
       "Month_only                         int64\n",
       "Day_only                           int64\n",
       "Hour_only                          int64\n",
       "application_time_flag              int64\n",
       "dtype: object"
      ]
     },
     "execution_count": 145,
     "metadata": {},
     "output_type": "execute_result"
    }
   ],
   "source": [
    "train.dtypes"
   ]
  },
  {
   "cell_type": "code",
   "execution_count": 81,
   "metadata": {},
   "outputs": [
    {
     "data": {
      "text/html": [
       "<div>\n",
       "<style scoped>\n",
       "    .dataframe tbody tr th:only-of-type {\n",
       "        vertical-align: middle;\n",
       "    }\n",
       "\n",
       "    .dataframe tbody tr th {\n",
       "        vertical-align: top;\n",
       "    }\n",
       "\n",
       "    .dataframe thead th {\n",
       "        text-align: right;\n",
       "    }\n",
       "</style>\n",
       "<table border=\"1\" class=\"dataframe\">\n",
       "  <thead>\n",
       "    <tr style=\"text-align: right;\">\n",
       "      <th></th>\n",
       "      <th>State</th>\n",
       "      <th>Monthly Net Income</th>\n",
       "      <th>Paycheck Net Income</th>\n",
       "      <th>Rent or Own</th>\n",
       "      <th>Months at Residence</th>\n",
       "      <th>Bank Account Months</th>\n",
       "      <th>Pay Cycle</th>\n",
       "      <th>Loan Amount</th>\n",
       "      <th>First Payment Default1</th>\n",
       "      <th>Time_Diff</th>\n",
       "    </tr>\n",
       "  </thead>\n",
       "  <tbody>\n",
       "    <tr>\n",
       "      <th>0</th>\n",
       "      <td>CA</td>\n",
       "      <td>2000.0</td>\n",
       "      <td>2000.0</td>\n",
       "      <td>R</td>\n",
       "      <td>12</td>\n",
       "      <td>6</td>\n",
       "      <td>Monthly</td>\n",
       "      <td>300.00</td>\n",
       "      <td>0</td>\n",
       "      <td>14</td>\n",
       "    </tr>\n",
       "    <tr>\n",
       "      <th>1</th>\n",
       "      <td>TX</td>\n",
       "      <td>3500.0</td>\n",
       "      <td>3500.0</td>\n",
       "      <td>R</td>\n",
       "      <td>60</td>\n",
       "      <td>60</td>\n",
       "      <td>Monthly</td>\n",
       "      <td>641.91</td>\n",
       "      <td>0</td>\n",
       "      <td>14</td>\n",
       "    </tr>\n",
       "    <tr>\n",
       "      <th>2</th>\n",
       "      <td>CA</td>\n",
       "      <td>3000.0</td>\n",
       "      <td>3000.0</td>\n",
       "      <td>R</td>\n",
       "      <td>0</td>\n",
       "      <td>6</td>\n",
       "      <td>Monthly</td>\n",
       "      <td>117.65</td>\n",
       "      <td>1</td>\n",
       "      <td>30</td>\n",
       "    </tr>\n",
       "    <tr>\n",
       "      <th>3</th>\n",
       "      <td>CA</td>\n",
       "      <td>1500.0</td>\n",
       "      <td>1500.0</td>\n",
       "      <td>R</td>\n",
       "      <td>12</td>\n",
       "      <td>6</td>\n",
       "      <td>Monthly</td>\n",
       "      <td>117.65</td>\n",
       "      <td>0</td>\n",
       "      <td>31</td>\n",
       "    </tr>\n",
       "    <tr>\n",
       "      <th>4</th>\n",
       "      <td>CA</td>\n",
       "      <td>2392.0</td>\n",
       "      <td>598.0</td>\n",
       "      <td>R</td>\n",
       "      <td>130</td>\n",
       "      <td>36</td>\n",
       "      <td>Weekly</td>\n",
       "      <td>300.00</td>\n",
       "      <td>0</td>\n",
       "      <td>10</td>\n",
       "    </tr>\n",
       "  </tbody>\n",
       "</table>\n",
       "</div>"
      ],
      "text/plain": [
       "  State  Monthly Net Income  Paycheck Net Income Rent or Own  \\\n",
       "0    CA              2000.0               2000.0           R   \n",
       "1    TX              3500.0               3500.0           R   \n",
       "2    CA              3000.0               3000.0           R   \n",
       "3    CA              1500.0               1500.0           R   \n",
       "4    CA              2392.0                598.0           R   \n",
       "\n",
       "   Months at Residence  Bank Account Months Pay Cycle  Loan Amount  \\\n",
       "0                   12                    6   Monthly       300.00   \n",
       "1                   60                   60   Monthly       641.91   \n",
       "2                    0                    6   Monthly       117.65   \n",
       "3                   12                    6   Monthly       117.65   \n",
       "4                  130                   36    Weekly       300.00   \n",
       "\n",
       "   First Payment Default1  Time_Diff  \n",
       "0                       0         14  \n",
       "1                       0         14  \n",
       "2                       1         30  \n",
       "3                       0         31  \n",
       "4                       0         10  "
      ]
     },
     "execution_count": 81,
     "metadata": {},
     "output_type": "execute_result"
    }
   ],
   "source": [
    "train1=train.drop(columns=['SetID','Time of Application','First Payment Default','Loan Due Date','Loan Funded Date'])\n",
    "train1.head()"
   ]
  },
  {
   "cell_type": "markdown",
   "metadata": {},
   "source": [
    "### Converting string into categorical variables in Train data"
   ]
  },
  {
   "cell_type": "code",
   "execution_count": 82,
   "metadata": {},
   "outputs": [
    {
     "data": {
      "text/html": [
       "<div>\n",
       "<style scoped>\n",
       "    .dataframe tbody tr th:only-of-type {\n",
       "        vertical-align: middle;\n",
       "    }\n",
       "\n",
       "    .dataframe tbody tr th {\n",
       "        vertical-align: top;\n",
       "    }\n",
       "\n",
       "    .dataframe thead th {\n",
       "        text-align: right;\n",
       "    }\n",
       "</style>\n",
       "<table border=\"1\" class=\"dataframe\">\n",
       "  <thead>\n",
       "    <tr style=\"text-align: right;\">\n",
       "      <th></th>\n",
       "      <th>State</th>\n",
       "      <th>Monthly Net Income</th>\n",
       "      <th>Paycheck Net Income</th>\n",
       "      <th>Rent or Own</th>\n",
       "      <th>Months at Residence</th>\n",
       "      <th>Bank Account Months</th>\n",
       "      <th>Pay Cycle</th>\n",
       "      <th>Loan Amount</th>\n",
       "      <th>First Payment Default1</th>\n",
       "      <th>Time_Diff</th>\n",
       "    </tr>\n",
       "  </thead>\n",
       "  <tbody>\n",
       "    <tr>\n",
       "      <th>0</th>\n",
       "      <td>1</td>\n",
       "      <td>2000.0</td>\n",
       "      <td>2000.0</td>\n",
       "      <td>1</td>\n",
       "      <td>12</td>\n",
       "      <td>6</td>\n",
       "      <td>3</td>\n",
       "      <td>300.00</td>\n",
       "      <td>0</td>\n",
       "      <td>14</td>\n",
       "    </tr>\n",
       "    <tr>\n",
       "      <th>1</th>\n",
       "      <td>2</td>\n",
       "      <td>3500.0</td>\n",
       "      <td>3500.0</td>\n",
       "      <td>1</td>\n",
       "      <td>60</td>\n",
       "      <td>60</td>\n",
       "      <td>3</td>\n",
       "      <td>641.91</td>\n",
       "      <td>0</td>\n",
       "      <td>14</td>\n",
       "    </tr>\n",
       "    <tr>\n",
       "      <th>2</th>\n",
       "      <td>1</td>\n",
       "      <td>3000.0</td>\n",
       "      <td>3000.0</td>\n",
       "      <td>1</td>\n",
       "      <td>0</td>\n",
       "      <td>6</td>\n",
       "      <td>3</td>\n",
       "      <td>117.65</td>\n",
       "      <td>1</td>\n",
       "      <td>30</td>\n",
       "    </tr>\n",
       "    <tr>\n",
       "      <th>3</th>\n",
       "      <td>1</td>\n",
       "      <td>1500.0</td>\n",
       "      <td>1500.0</td>\n",
       "      <td>1</td>\n",
       "      <td>12</td>\n",
       "      <td>6</td>\n",
       "      <td>3</td>\n",
       "      <td>117.65</td>\n",
       "      <td>0</td>\n",
       "      <td>31</td>\n",
       "    </tr>\n",
       "    <tr>\n",
       "      <th>4</th>\n",
       "      <td>1</td>\n",
       "      <td>2392.0</td>\n",
       "      <td>598.0</td>\n",
       "      <td>1</td>\n",
       "      <td>130</td>\n",
       "      <td>36</td>\n",
       "      <td>1</td>\n",
       "      <td>300.00</td>\n",
       "      <td>0</td>\n",
       "      <td>10</td>\n",
       "    </tr>\n",
       "  </tbody>\n",
       "</table>\n",
       "</div>"
      ],
      "text/plain": [
       "   State  Monthly Net Income  Paycheck Net Income Rent or Own  \\\n",
       "0      1              2000.0               2000.0           1   \n",
       "1      2              3500.0               3500.0           1   \n",
       "2      1              3000.0               3000.0           1   \n",
       "3      1              1500.0               1500.0           1   \n",
       "4      1              2392.0                598.0           1   \n",
       "\n",
       "   Months at Residence  Bank Account Months  Pay Cycle  Loan Amount  \\\n",
       "0                   12                    6          3       300.00   \n",
       "1                   60                   60          3       641.91   \n",
       "2                    0                    6          3       117.65   \n",
       "3                   12                    6          3       117.65   \n",
       "4                  130                   36          1       300.00   \n",
       "\n",
       "   First Payment Default1  Time_Diff  \n",
       "0                       0         14  \n",
       "1                       0         14  \n",
       "2                       1         30  \n",
       "3                       0         31  \n",
       "4                       0         10  "
      ]
     },
     "execution_count": 82,
     "metadata": {},
     "output_type": "execute_result"
    }
   ],
   "source": [
    "mymap ={'CA':1, 'TX':2, 'R':1, 'O':'2', 'Weekly':1,'BiWeekly':2,'Monthly':3,'BiMonthly':4}\n",
    "train2 = train1.applymap(lambda s: mymap.get(s) if s in mymap else s)\n",
    "train2.head()"
   ]
  },
  {
   "cell_type": "code",
   "execution_count": 84,
   "metadata": {},
   "outputs": [
    {
     "name": "stdout",
     "output_type": "stream",
     "text": [
      "First Payment Default1\n",
      "0    1175\n",
      "1     425\n",
      "dtype: int64\n"
     ]
    }
   ],
   "source": [
    "class_count=train.groupby('First Payment Default1').size()\n",
    "print(class_count)"
   ]
  },
  {
   "cell_type": "code",
   "execution_count": null,
   "metadata": {},
   "outputs": [],
   "source": [
    "train2.plot.box() \n",
    "#train2.plot(kind='box',subplots=True,layout=(3,3),sharex=False,sharey=False)"
   ]
  },
  {
   "cell_type": "markdown",
   "metadata": {},
   "source": [
    "## Analyzing by visualization of data"
   ]
  },
  {
   "cell_type": "markdown",
   "metadata": {},
   "source": [
    "### Observing Correlation of variables"
   ]
  },
  {
   "cell_type": "code",
   "execution_count": 85,
   "metadata": {},
   "outputs": [
    {
     "data": {
      "text/html": [
       "<div>\n",
       "<style scoped>\n",
       "    .dataframe tbody tr th:only-of-type {\n",
       "        vertical-align: middle;\n",
       "    }\n",
       "\n",
       "    .dataframe tbody tr th {\n",
       "        vertical-align: top;\n",
       "    }\n",
       "\n",
       "    .dataframe thead th {\n",
       "        text-align: right;\n",
       "    }\n",
       "</style>\n",
       "<table border=\"1\" class=\"dataframe\">\n",
       "  <thead>\n",
       "    <tr style=\"text-align: right;\">\n",
       "      <th></th>\n",
       "      <th>State</th>\n",
       "      <th>Monthly Net Income</th>\n",
       "      <th>Paycheck Net Income</th>\n",
       "      <th>Months at Residence</th>\n",
       "      <th>Bank Account Months</th>\n",
       "      <th>Pay Cycle</th>\n",
       "      <th>Loan Amount</th>\n",
       "      <th>First Payment Default1</th>\n",
       "      <th>Time_Diff</th>\n",
       "    </tr>\n",
       "  </thead>\n",
       "  <tbody>\n",
       "    <tr>\n",
       "      <th>State</th>\n",
       "      <td>1.000000</td>\n",
       "      <td>0.193677</td>\n",
       "      <td>0.162404</td>\n",
       "      <td>-0.055095</td>\n",
       "      <td>0.019691</td>\n",
       "      <td>0.095541</td>\n",
       "      <td>0.831175</td>\n",
       "      <td>0.116733</td>\n",
       "      <td>0.001078</td>\n",
       "    </tr>\n",
       "    <tr>\n",
       "      <th>Monthly Net Income</th>\n",
       "      <td>0.193677</td>\n",
       "      <td>1.000000</td>\n",
       "      <td>0.936308</td>\n",
       "      <td>-0.030648</td>\n",
       "      <td>0.069021</td>\n",
       "      <td>-0.025316</td>\n",
       "      <td>0.179618</td>\n",
       "      <td>0.082547</td>\n",
       "      <td>-0.116471</td>\n",
       "    </tr>\n",
       "    <tr>\n",
       "      <th>Paycheck Net Income</th>\n",
       "      <td>0.162404</td>\n",
       "      <td>0.936308</td>\n",
       "      <td>1.000000</td>\n",
       "      <td>0.000516</td>\n",
       "      <td>0.045390</td>\n",
       "      <td>0.082779</td>\n",
       "      <td>0.148856</td>\n",
       "      <td>0.068984</td>\n",
       "      <td>0.032979</td>\n",
       "    </tr>\n",
       "    <tr>\n",
       "      <th>Months at Residence</th>\n",
       "      <td>-0.055095</td>\n",
       "      <td>-0.030648</td>\n",
       "      <td>0.000516</td>\n",
       "      <td>1.000000</td>\n",
       "      <td>0.166267</td>\n",
       "      <td>0.007976</td>\n",
       "      <td>0.046890</td>\n",
       "      <td>-0.028628</td>\n",
       "      <td>-0.026228</td>\n",
       "    </tr>\n",
       "    <tr>\n",
       "      <th>Bank Account Months</th>\n",
       "      <td>0.019691</td>\n",
       "      <td>0.069021</td>\n",
       "      <td>0.045390</td>\n",
       "      <td>0.166267</td>\n",
       "      <td>1.000000</td>\n",
       "      <td>0.013263</td>\n",
       "      <td>0.125348</td>\n",
       "      <td>-0.037772</td>\n",
       "      <td>-0.047653</td>\n",
       "    </tr>\n",
       "    <tr>\n",
       "      <th>Pay Cycle</th>\n",
       "      <td>0.095541</td>\n",
       "      <td>-0.025316</td>\n",
       "      <td>0.082779</td>\n",
       "      <td>0.007976</td>\n",
       "      <td>0.013263</td>\n",
       "      <td>1.000000</td>\n",
       "      <td>0.077226</td>\n",
       "      <td>-0.015944</td>\n",
       "      <td>0.304748</td>\n",
       "    </tr>\n",
       "    <tr>\n",
       "      <th>Loan Amount</th>\n",
       "      <td>0.831175</td>\n",
       "      <td>0.179618</td>\n",
       "      <td>0.148856</td>\n",
       "      <td>0.046890</td>\n",
       "      <td>0.125348</td>\n",
       "      <td>0.077226</td>\n",
       "      <td>1.000000</td>\n",
       "      <td>0.126960</td>\n",
       "      <td>-0.051239</td>\n",
       "    </tr>\n",
       "    <tr>\n",
       "      <th>First Payment Default1</th>\n",
       "      <td>0.116733</td>\n",
       "      <td>0.082547</td>\n",
       "      <td>0.068984</td>\n",
       "      <td>-0.028628</td>\n",
       "      <td>-0.037772</td>\n",
       "      <td>-0.015944</td>\n",
       "      <td>0.126960</td>\n",
       "      <td>1.000000</td>\n",
       "      <td>0.032006</td>\n",
       "    </tr>\n",
       "    <tr>\n",
       "      <th>Time_Diff</th>\n",
       "      <td>0.001078</td>\n",
       "      <td>-0.116471</td>\n",
       "      <td>0.032979</td>\n",
       "      <td>-0.026228</td>\n",
       "      <td>-0.047653</td>\n",
       "      <td>0.304748</td>\n",
       "      <td>-0.051239</td>\n",
       "      <td>0.032006</td>\n",
       "      <td>1.000000</td>\n",
       "    </tr>\n",
       "  </tbody>\n",
       "</table>\n",
       "</div>"
      ],
      "text/plain": [
       "                           State  Monthly Net Income  Paycheck Net Income  \\\n",
       "State                   1.000000            0.193677             0.162404   \n",
       "Monthly Net Income      0.193677            1.000000             0.936308   \n",
       "Paycheck Net Income     0.162404            0.936308             1.000000   \n",
       "Months at Residence    -0.055095           -0.030648             0.000516   \n",
       "Bank Account Months     0.019691            0.069021             0.045390   \n",
       "Pay Cycle               0.095541           -0.025316             0.082779   \n",
       "Loan Amount             0.831175            0.179618             0.148856   \n",
       "First Payment Default1  0.116733            0.082547             0.068984   \n",
       "Time_Diff               0.001078           -0.116471             0.032979   \n",
       "\n",
       "                        Months at Residence  Bank Account Months  Pay Cycle  \\\n",
       "State                             -0.055095             0.019691   0.095541   \n",
       "Monthly Net Income                -0.030648             0.069021  -0.025316   \n",
       "Paycheck Net Income                0.000516             0.045390   0.082779   \n",
       "Months at Residence                1.000000             0.166267   0.007976   \n",
       "Bank Account Months                0.166267             1.000000   0.013263   \n",
       "Pay Cycle                          0.007976             0.013263   1.000000   \n",
       "Loan Amount                        0.046890             0.125348   0.077226   \n",
       "First Payment Default1            -0.028628            -0.037772  -0.015944   \n",
       "Time_Diff                         -0.026228            -0.047653   0.304748   \n",
       "\n",
       "                        Loan Amount  First Payment Default1  Time_Diff  \n",
       "State                      0.831175                0.116733   0.001078  \n",
       "Monthly Net Income         0.179618                0.082547  -0.116471  \n",
       "Paycheck Net Income        0.148856                0.068984   0.032979  \n",
       "Months at Residence        0.046890               -0.028628  -0.026228  \n",
       "Bank Account Months        0.125348               -0.037772  -0.047653  \n",
       "Pay Cycle                  0.077226               -0.015944   0.304748  \n",
       "Loan Amount                1.000000                0.126960  -0.051239  \n",
       "First Payment Default1     0.126960                1.000000   0.032006  \n",
       "Time_Diff                 -0.051239                0.032006   1.000000  "
      ]
     },
     "execution_count": 85,
     "metadata": {},
     "output_type": "execute_result"
    }
   ],
   "source": [
    "train2.corr()"
   ]
  },
  {
   "cell_type": "code",
   "execution_count": 86,
   "metadata": {},
   "outputs": [
    {
     "data": {
      "image/png": "[encoded data removed]",
      "text/plain": [
       "<Figure size 1080x648 with 2 Axes>"
      ]
     },
     "metadata": {
      "needs_background": "light"
     },
     "output_type": "display_data"
    }
   ],
   "source": [
    "plt.figure(figsize=(15,9))\n",
    "sns.heatmap(train2.corr(), annot=True, cmap='YlGnBu')\n",
    "plt.show()"
   ]
  },
  {
   "cell_type": "code",
   "execution_count": null,
   "metadata": {},
   "outputs": [],
   "source": [
    "g = sns.relplot(x=\"State\", y=\"Loan Amount\", kind=\"line\", data=train)\n",
    "g.fig.autofmt_xdate"
   ]
  },
  {
   "cell_type": "code",
   "execution_count": 49,
   "metadata": {},
   "outputs": [
    {
     "data": {
      "text/plain": [
       "<bound method Figure.autofmt_xdate of <Figure size 360x360 with 1 Axes>>"
      ]
     },
     "execution_count": 49,
     "metadata": {},
     "output_type": "execute_result"
    },
    {
     "data": {
      "image/png": "[encoded data removed]",
      "text/plain": [
       "<Figure size 360x360 with 1 Axes>"
      ]
     },
     "metadata": {
      "needs_background": "light"
     },
     "output_type": "display_data"
    }
   ],
   "source": [
    "g = sns.relplot(x=\"State\", y=\"Loan Amount\", kind=\"line\", data=train)\n",
    "g.fig.autofmt_xdate"
   ]
  },
  {
   "cell_type": "code",
   "execution_count": 53,
   "metadata": {},
   "outputs": [
    {
     "data": {
      "text/plain": [
       "<bound method Figure.autofmt_xdate of <Figure size 360x360 with 1 Axes>>"
      ]
     },
     "execution_count": 53,
     "metadata": {},
     "output_type": "execute_result"
    },
    {
     "data": {
      "image/png": "[encoded data removed]",
      "text/plain": [
       "<Figure size 360x360 with 1 Axes>"
      ]
     },
     "metadata": {
      "needs_background": "light"
     },
     "output_type": "display_data"
    }
   ],
   "source": [
    "g = sns.relplot(x=\"Pay Cycle\", y=\"Paycheck Net Income\", kind=\"line\", data=train)\n",
    "g.fig.autofmt_xdate"
   ]
  },
  {
   "cell_type": "code",
   "execution_count": 55,
   "metadata": {},
   "outputs": [
    {
     "data": {
      "text/plain": [
       "<bound method Figure.autofmt_xdate of <Figure size 360x360 with 1 Axes>>"
      ]
     },
     "execution_count": 55,
     "metadata": {},
     "output_type": "execute_result"
    },
    {
     "data": {
      "image/png": "[encoded data removed]",
      "text/plain": [
       "<Figure size 360x360 with 1 Axes>"
      ]
     },
     "metadata": {
      "needs_background": "light"
     },
     "output_type": "display_data"
    }
   ],
   "source": [
    "g = sns.relplot(x=\"Pay Cycle\", y=\"First Payment Default1.1\", kind=\"line\", data=train)\n",
    "g.fig.autofmt_xdate"
   ]
  },
  {
   "cell_type": "code",
   "execution_count": 56,
   "metadata": {},
   "outputs": [
    {
     "data": {
      "text/plain": [
       "<bound method Figure.autofmt_xdate of <Figure size 360x360 with 1 Axes>>"
      ]
     },
     "execution_count": 56,
     "metadata": {},
     "output_type": "execute_result"
    },
    {
     "data": {
      "image/png": "[encoded data removed]",
      "text/plain": [
       "<Figure size 360x360 with 1 Axes>"
      ]
     },
     "metadata": {
      "needs_background": "light"
     },
     "output_type": "display_data"
    }
   ],
   "source": [
    "g = sns.relplot(x=\"Pay Cycle\", y=\"Time_Diff\", kind=\"line\", data=train)\n",
    "g.fig.autofmt_xdate"
   ]
  },
  {
   "cell_type": "code",
   "execution_count": 57,
   "metadata": {},
   "outputs": [
    {
     "data": {
      "text/plain": [
       "<bound method Figure.autofmt_xdate of <Figure size 360x360 with 1 Axes>>"
      ]
     },
     "execution_count": 57,
     "metadata": {},
     "output_type": "execute_result"
    },
    {
     "data": {
      "image/png": "[encoded data removed]",
      "text/plain": [
       "<Figure size 360x360 with 1 Axes>"
      ]
     },
     "metadata": {
      "needs_background": "light"
     },
     "output_type": "display_data"
    }
   ],
   "source": [
    "g = sns.relplot(x=\"Bank Account Months\", y=\"Months at Residence\", kind=\"line\", data=train)\n",
    "g.fig.autofmt_xdate"
   ]
  },
  {
   "cell_type": "code",
   "execution_count": 89,
   "metadata": {},
   "outputs": [
    {
     "data": {
      "text/plain": [
       "<bound method Figure.autofmt_xdate of <Figure size 360x360 with 1 Axes>>"
      ]
     },
     "execution_count": 89,
     "metadata": {},
     "output_type": "execute_result"
    },
    {
     "data": {
      "image/png": "[encoded data removed]",
      "text/plain": [
       "<Figure size 360x360 with 1 Axes>"
      ]
     },
     "metadata": {
      "needs_background": "light"
     },
     "output_type": "display_data"
    }
   ],
   "source": [
    "g = sns.relplot(x=\"Monthly Net Income\", y=\"Paycheck Net Income\", kind=\"line\", data=train)\n",
    "g.fig.autofmt_xdate"
   ]
  },
  {
   "cell_type": "code",
   "execution_count": 91,
   "metadata": {},
   "outputs": [
    {
     "data": {
      "text/plain": [
       "<bound method Figure.autofmt_xdate of <Figure size 360x360 with 1 Axes>>"
      ]
     },
     "execution_count": 91,
     "metadata": {},
     "output_type": "execute_result"
    },
    {
     "data": {
      "image/png": "[encoded data removed]",
      "text/plain": [
       "<Figure size 360x360 with 1 Axes>"
      ]
     },
     "metadata": {
      "needs_background": "light"
     },
     "output_type": "display_data"
    }
   ],
   "source": [
    "g = sns.relplot(x=\"Time_Diff\", y=\"First Payment Default1\", kind=\"line\", data=train)\n",
    "g.fig.autofmt_xdate"
   ]
  },
  {
   "cell_type": "code",
   "execution_count": 92,
   "metadata": {},
   "outputs": [
    {
     "data": {
      "text/plain": [
       "<matplotlib.axes._subplots.AxesSubplot at 0x24ab07d1080>"
      ]
     },
     "execution_count": 92,
     "metadata": {},
     "output_type": "execute_result"
    },
    {
     "data": {
      "image/png": "[encoded data removed]",
      "text/plain": [
       "<Figure size 432x288 with 1 Axes>"
      ]
     },
     "metadata": {
      "needs_background": "light"
     },
     "output_type": "display_data"
    }
   ],
   "source": [
    "sns.countplot(data=train,x='State',hue='First Payment Default1')"
   ]
  },
  {
   "cell_type": "markdown",
   "metadata": {},
   "source": [
    "### In both States, more people do not pay first time."
   ]
  },
  {
   "cell_type": "code",
   "execution_count": 95,
   "metadata": {},
   "outputs": [
    {
     "data": {
      "text/plain": [
       "<matplotlib.axes._subplots.AxesSubplot at 0x24ad8d7cc88>"
      ]
     },
     "execution_count": 95,
     "metadata": {},
     "output_type": "execute_result"
    },
    {
     "data": {
      "image/png": "[encoded data removed]",
      "text/plain": [
       "<Figure size 432x288 with 1 Axes>"
      ]
     },
     "metadata": {
      "needs_background": "light"
     },
     "output_type": "display_data"
    }
   ],
   "source": [
    "sns.countplot(data=train,x='Pay Cycle',hue='First Payment Default1')"
   ]
  },
  {
   "cell_type": "markdown",
   "metadata": {},
   "source": [
    "### Relatively people with weekly cycle do not take loan but loan takers for BiWeekly customers is maximum. \n",
    "### More people with BiWeekly PayCycle do not pay first time."
   ]
  },
  {
   "cell_type": "markdown",
   "metadata": {},
   "source": [
    "## Where 'CA':1, 'TX':2, 'R':1, 'O':'2'"
   ]
  },
  {
   "cell_type": "code",
   "execution_count": 96,
   "metadata": {},
   "outputs": [
    {
     "data": {
      "text/plain": [
       "<seaborn.axisgrid.FacetGrid at 0x24ad8f3c748>"
      ]
     },
     "execution_count": 96,
     "metadata": {},
     "output_type": "execute_result"
    },
    {
     "data": {
      "image/png": "[encoded data removed]",
      "text/plain": [
       "<Figure size 432x216 with 2 Axes>"
      ]
     },
     "metadata": {
      "needs_background": "light"
     },
     "output_type": "display_data"
    }
   ],
   "source": [
    "g = sns.FacetGrid(train2, col='First Payment Default1')\n",
    "g.map(plt.hist, 'Loan Amount', bins=5)"
   ]
  },
  {
   "cell_type": "code",
   "execution_count": 97,
   "metadata": {},
   "outputs": [
    {
     "data": {
      "text/plain": [
       "<seaborn.axisgrid.FacetGrid at 0x24ad9132b38>"
      ]
     },
     "execution_count": 97,
     "metadata": {},
     "output_type": "execute_result"
    },
    {
     "data": {
      "image/png": "[encoded data removed]",
      "text/plain": [
       "<Figure size 432x216 with 2 Axes>"
      ]
     },
     "metadata": {
      "needs_background": "light"
     },
     "output_type": "display_data"
    }
   ],
   "source": [
    "g = sns.FacetGrid(train2, col='First Payment Default1')\n",
    "g.map(plt.hist, 'Monthly Net Income', bins=5)"
   ]
  },
  {
   "cell_type": "code",
   "execution_count": 103,
   "metadata": {},
   "outputs": [
    {
     "data": {
      "text/plain": [
       "<seaborn.axisgrid.FacetGrid at 0x24ada199ac8>"
      ]
     },
     "execution_count": 103,
     "metadata": {},
     "output_type": "execute_result"
    },
    {
     "data": {
      "image/png": "[encoded data removed]",
      "text/plain": [
       "<Figure size 432x216 with 2 Axes>"
      ]
     },
     "metadata": {
      "needs_background": "light"
     },
     "output_type": "display_data"
    }
   ],
   "source": [
    "g = sns.FacetGrid(train2, col='First Payment Default1')\n",
    "g.map(plt.hist, 'Pay Cycle', bins=5)"
   ]
  },
  {
   "cell_type": "code",
   "execution_count": 33,
   "metadata": {
    "scrolled": true
   },
   "outputs": [
    {
     "data": {
      "text/plain": [
       "<Figure size 5760x648 with 0 Axes>"
      ]
     },
     "metadata": {},
     "output_type": "display_data"
    },
    {
     "data": {
      "image/png": "[encoded data removed]",
      "text/plain": [
       "<Figure size 432x288 with 9 Axes>"
      ]
     },
     "metadata": {
      "needs_background": "light"
     },
     "output_type": "display_data"
    }
   ],
   "source": [
    "#Histograms\n",
    "fig=plt.figure(figsize=(80,9))\n",
    "train2.hist()\n",
    "plt.tight_layout()\n",
    "plt.show()\n",
    "# help to see possible outliers,gaussian,skewed or even exponetial"
   ]
  },
  {
   "cell_type": "code",
   "execution_count": 36,
   "metadata": {},
   "outputs": [
    {
     "data": {
      "text/plain": [
       "Index(['State', 'Monthly Net Income', 'Paycheck Net Income', 'Rent or Own',\n",
       "       'Months at Residence', 'Bank Account Months', 'Pay Cycle',\n",
       "       'Loan Amount', 'First Payment Default1.1', 'Time_Diff'],\n",
       "      dtype='object')"
      ]
     },
     "execution_count": 36,
     "metadata": {},
     "output_type": "execute_result"
    }
   ],
   "source": [
    "train2.columns"
   ]
  },
  {
   "cell_type": "markdown",
   "metadata": {},
   "source": [
    "## Observing Outliers"
   ]
  },
  {
   "cell_type": "code",
   "execution_count": 361,
   "metadata": {
    "scrolled": true
   },
   "outputs": [
    {
     "data": {
      "text/plain": [
       "<matplotlib.axes._subplots.AxesSubplot at 0x273ed2bb4e0>"
      ]
     },
     "execution_count": 361,
     "metadata": {},
     "output_type": "execute_result"
    },
    {
     "data": {
      "image/png": "[encoded data removed]",
      "text/plain": [
       "<Figure size 432x288 with 1 Axes>"
      ]
     },
     "metadata": {
      "needs_background": "light"
     },
     "output_type": "display_data"
    }
   ],
   "source": [
    "train2.plot.box() "
   ]
  },
  {
   "cell_type": "markdown",
   "metadata": {},
   "source": [
    "### Outliers can be ignored in this type of data."
   ]
  },
  {
   "cell_type": "markdown",
   "metadata": {},
   "source": [
    "### Remove space in variable names"
   ]
  },
  {
   "cell_type": "code",
   "execution_count": 363,
   "metadata": {},
   "outputs": [],
   "source": [
    "train2.columns=['State','MonthlyNetIncome','PaycheckNetIncome','RentorOwn','MonthsatResidence','BankAccountMonths',\n",
    "                'PayCycle','LoanAmount','FirstPaymentDefault','Time_Diff']"
   ]
  },
  {
   "cell_type": "code",
   "execution_count": 364,
   "metadata": {
    "scrolled": true
   },
   "outputs": [
    {
     "data": {
      "text/html": [
       "<div>\n",
       "<style scoped>\n",
       "    .dataframe tbody tr th:only-of-type {\n",
       "        vertical-align: middle;\n",
       "    }\n",
       "\n",
       "    .dataframe tbody tr th {\n",
       "        vertical-align: top;\n",
       "    }\n",
       "\n",
       "    .dataframe thead th {\n",
       "        text-align: right;\n",
       "    }\n",
       "</style>\n",
       "<table border=\"1\" class=\"dataframe\">\n",
       "  <thead>\n",
       "    <tr style=\"text-align: right;\">\n",
       "      <th></th>\n",
       "      <th>State</th>\n",
       "      <th>MonthlyNetIncome</th>\n",
       "      <th>PaycheckNetIncome</th>\n",
       "      <th>RentorOwn</th>\n",
       "      <th>MonthsatResidence</th>\n",
       "      <th>BankAccountMonths</th>\n",
       "      <th>PayCycle</th>\n",
       "      <th>LoanAmount</th>\n",
       "      <th>FirstPaymentDefault</th>\n",
       "      <th>Time_Diff</th>\n",
       "    </tr>\n",
       "  </thead>\n",
       "  <tbody>\n",
       "    <tr>\n",
       "      <th>0</th>\n",
       "      <td>1</td>\n",
       "      <td>2000.0</td>\n",
       "      <td>2000.0</td>\n",
       "      <td>1</td>\n",
       "      <td>12</td>\n",
       "      <td>6</td>\n",
       "      <td>3</td>\n",
       "      <td>300.00</td>\n",
       "      <td>0</td>\n",
       "      <td>14</td>\n",
       "    </tr>\n",
       "    <tr>\n",
       "      <th>1</th>\n",
       "      <td>2</td>\n",
       "      <td>3500.0</td>\n",
       "      <td>3500.0</td>\n",
       "      <td>1</td>\n",
       "      <td>60</td>\n",
       "      <td>60</td>\n",
       "      <td>3</td>\n",
       "      <td>641.91</td>\n",
       "      <td>0</td>\n",
       "      <td>14</td>\n",
       "    </tr>\n",
       "    <tr>\n",
       "      <th>2</th>\n",
       "      <td>1</td>\n",
       "      <td>3000.0</td>\n",
       "      <td>3000.0</td>\n",
       "      <td>1</td>\n",
       "      <td>0</td>\n",
       "      <td>6</td>\n",
       "      <td>3</td>\n",
       "      <td>117.65</td>\n",
       "      <td>1</td>\n",
       "      <td>30</td>\n",
       "    </tr>\n",
       "    <tr>\n",
       "      <th>3</th>\n",
       "      <td>1</td>\n",
       "      <td>1500.0</td>\n",
       "      <td>1500.0</td>\n",
       "      <td>1</td>\n",
       "      <td>12</td>\n",
       "      <td>6</td>\n",
       "      <td>3</td>\n",
       "      <td>117.65</td>\n",
       "      <td>0</td>\n",
       "      <td>31</td>\n",
       "    </tr>\n",
       "    <tr>\n",
       "      <th>4</th>\n",
       "      <td>1</td>\n",
       "      <td>2392.0</td>\n",
       "      <td>598.0</td>\n",
       "      <td>1</td>\n",
       "      <td>130</td>\n",
       "      <td>36</td>\n",
       "      <td>1</td>\n",
       "      <td>300.00</td>\n",
       "      <td>0</td>\n",
       "      <td>10</td>\n",
       "    </tr>\n",
       "  </tbody>\n",
       "</table>\n",
       "</div>"
      ],
      "text/plain": [
       "   State  MonthlyNetIncome  PaycheckNetIncome RentorOwn  MonthsatResidence  \\\n",
       "0      1            2000.0             2000.0         1                 12   \n",
       "1      2            3500.0             3500.0         1                 60   \n",
       "2      1            3000.0             3000.0         1                  0   \n",
       "3      1            1500.0             1500.0         1                 12   \n",
       "4      1            2392.0              598.0         1                130   \n",
       "\n",
       "   BankAccountMonths  PayCycle  LoanAmount  FirstPaymentDefault  Time_Diff  \n",
       "0                  6         3      300.00                    0         14  \n",
       "1                 60         3      641.91                    0         14  \n",
       "2                  6         3      117.65                    1         30  \n",
       "3                  6         3      117.65                    0         31  \n",
       "4                 36         1      300.00                    0         10  "
      ]
     },
     "execution_count": 364,
     "metadata": {},
     "output_type": "execute_result"
    }
   ],
   "source": [
    "train2.head()"
   ]
  },
  {
   "cell_type": "markdown",
   "metadata": {},
   "source": [
    "## Model Fitting"
   ]
  },
  {
   "cell_type": "code",
   "execution_count": 365,
   "metadata": {},
   "outputs": [],
   "source": [
    "import statsmodels.formula.api as smf\n",
    "import statsmodels.api as sm\n",
    "import statsmodels.formula.api as smf"
   ]
  },
  {
   "cell_type": "code",
   "execution_count": 366,
   "metadata": {},
   "outputs": [
    {
     "data": {
      "text/plain": [
       "Index(['State', 'MonthlyNetIncome', 'PaycheckNetIncome', 'RentorOwn',\n",
       "       'MonthsatResidence', 'BankAccountMonths', 'PayCycle', 'LoanAmount',\n",
       "       'FirstPaymentDefault', 'Time_Diff'],\n",
       "      dtype='object')"
      ]
     },
     "execution_count": 366,
     "metadata": {},
     "output_type": "execute_result"
    }
   ],
   "source": [
    "train2.columns"
   ]
  },
  {
   "cell_type": "markdown",
   "metadata": {},
   "source": [
    "### Use Linear Regression Model to identify significant variable"
   ]
  },
  {
   "cell_type": "code",
   "execution_count": 367,
   "metadata": {},
   "outputs": [
    {
     "name": "stdout",
     "output_type": "stream",
     "text": [
      "                             OLS Regression Results                            \n",
      "===============================================================================\n",
      "Dep. Variable:     FirstPaymentDefault   R-squared:                       0.028\n",
      "Model:                             OLS   Adj. R-squared:                  0.023\n",
      "Method:                  Least Squares   F-statistic:                     5.181\n",
      "Date:                 Sat, 22 Jun 2019   Prob (F-statistic):           5.88e-07\n",
      "Time:                         22:36:23   Log-Likelihood:                -939.65\n",
      "No. Observations:                 1600   AIC:                             1899.\n",
      "Df Residuals:                     1590   BIC:                             1953.\n",
      "Df Model:                            9                                         \n",
      "Covariance Type:             nonrobust                                         \n",
      "=====================================================================================\n",
      "                        coef    std err          t      P>|t|      [0.025      0.975]\n",
      "-------------------------------------------------------------------------------------\n",
      "Intercept             0.1399      0.058      2.402      0.016       0.026       0.254\n",
      "RentorOwn[T.2]        0.0360      0.036      0.990      0.322      -0.035       0.107\n",
      "State                -0.0021      0.045     -0.046      0.964      -0.091       0.087\n",
      "MonthlyNetIncome   1.387e-05   6.48e-06      2.140      0.033    1.16e-06    2.66e-05\n",
      "PaycheckNetIncome     -1e-05   7.24e-06     -1.381      0.167   -2.42e-05     4.2e-06\n",
      "MonthsatResidence    -0.0002      0.000     -1.028      0.304      -0.001       0.000\n",
      "BankAccountMonths    -0.0010      0.000     -1.953      0.051      -0.002    4.36e-06\n",
      "PayCycle             -0.0187      0.015     -1.259      0.208      -0.048       0.010\n",
      "LoanAmount            0.0003      0.000      2.738      0.006    8.91e-05       0.001\n",
      "Time_Diff             0.0045      0.002      2.459      0.014       0.001       0.008\n",
      "==============================================================================\n",
      "Omnibus:                      336.024   Durbin-Watson:                   1.975\n",
      "Prob(Omnibus):                  0.000   Jarque-Bera (JB):              324.029\n",
      "Skew:                           1.026   Prob(JB):                     4.34e-71\n",
      "Kurtosis:                       2.192   Cond. No.                     5.19e+04\n",
      "==============================================================================\n",
      "\n",
      "Warnings:\n",
      "[1] Standard Errors assume that the covariance matrix of the errors is correctly specified.\n",
      "[2] The condition number is large, 5.19e+04. This might indicate that there are\n",
      "strong multicollinearity or other numerical problems.\n"
     ]
    }
   ],
   "source": [
    "results = smf.ols('FirstPaymentDefault ~ State+ MonthlyNetIncome+PaycheckNetIncome+ RentorOwn+ MonthsatResidence+ BankAccountMonths+ PayCycle+ LoanAmount+Time_Diff', data=train2).fit()\n",
    "print(results.summary())"
   ]
  },
  {
   "cell_type": "markdown",
   "metadata": {},
   "source": [
    "## Identify significant variables step by step (Backward Selection Method)\n",
    "### 1. State"
   ]
  },
  {
   "cell_type": "code",
   "execution_count": 368,
   "metadata": {},
   "outputs": [
    {
     "name": "stdout",
     "output_type": "stream",
     "text": [
      "                             OLS Regression Results                            \n",
      "===============================================================================\n",
      "Dep. Variable:     FirstPaymentDefault   R-squared:                       0.028\n",
      "Model:                             OLS   Adj. R-squared:                  0.024\n",
      "Method:                  Least Squares   F-statistic:                     5.832\n",
      "Date:                 Sat, 22 Jun 2019   Prob (F-statistic):           2.31e-07\n",
      "Time:                         22:37:01   Log-Likelihood:                -939.66\n",
      "No. Observations:                 1600   AIC:                             1897.\n",
      "Df Residuals:                     1591   BIC:                             1946.\n",
      "Df Model:                            8                                         \n",
      "Covariance Type:             nonrobust                                         \n",
      "=====================================================================================\n",
      "                        coef    std err          t      P>|t|      [0.025      0.975]\n",
      "-------------------------------------------------------------------------------------\n",
      "Intercept             0.1388      0.053      2.638      0.008       0.036       0.242\n",
      "RentorOwn[T.2]        0.0360      0.036      0.990      0.322      -0.035       0.107\n",
      "MonthlyNetIncome   1.385e-05   6.46e-06      2.144      0.032    1.18e-06    2.65e-05\n",
      "PaycheckNetIncome -9.981e-06   7.23e-06     -1.381      0.167   -2.42e-05    4.19e-06\n",
      "MonthsatResidence    -0.0002      0.000     -1.032      0.302      -0.001       0.000\n",
      "BankAccountMonths    -0.0009      0.000     -1.964      0.050      -0.002   -1.43e-06\n",
      "PayCycle             -0.0187      0.015     -1.263      0.207      -0.048       0.010\n",
      "LoanAmount            0.0003   6.38e-05      4.857      0.000       0.000       0.000\n",
      "Time_Diff             0.0045      0.002      2.464      0.014       0.001       0.008\n",
      "==============================================================================\n",
      "Omnibus:                      335.997   Durbin-Watson:                   1.975\n",
      "Prob(Omnibus):                  0.000   Jarque-Bera (JB):              324.022\n",
      "Skew:                           1.026   Prob(JB):                     4.36e-71\n",
      "Kurtosis:                       2.192   Cond. No.                     4.34e+04\n",
      "==============================================================================\n",
      "\n",
      "Warnings:\n",
      "[1] Standard Errors assume that the covariance matrix of the errors is correctly specified.\n",
      "[2] The condition number is large, 4.34e+04. This might indicate that there are\n",
      "strong multicollinearity or other numerical problems.\n"
     ]
    }
   ],
   "source": [
    "results = smf.ols('FirstPaymentDefault ~  MonthlyNetIncome+PaycheckNetIncome+ RentorOwn+ MonthsatResidence+ BankAccountMonths+ PayCycle+ LoanAmount+Time_Diff', data=train2).fit()\n",
    "print(results.summary())"
   ]
  },
  {
   "cell_type": "markdown",
   "metadata": {},
   "source": [
    "### 2. RentorOwn"
   ]
  },
  {
   "cell_type": "code",
   "execution_count": 369,
   "metadata": {},
   "outputs": [
    {
     "name": "stdout",
     "output_type": "stream",
     "text": [
      "                             OLS Regression Results                            \n",
      "===============================================================================\n",
      "Dep. Variable:     FirstPaymentDefault   R-squared:                       0.028\n",
      "Model:                             OLS   Adj. R-squared:                  0.024\n",
      "Method:                  Least Squares   F-statistic:                     6.525\n",
      "Date:                 Sat, 22 Jun 2019   Prob (F-statistic):           1.31e-07\n",
      "Time:                         22:37:07   Log-Likelihood:                -940.15\n",
      "No. Observations:                 1600   AIC:                             1896.\n",
      "Df Residuals:                     1592   BIC:                             1939.\n",
      "Df Model:                            7                                         \n",
      "Covariance Type:             nonrobust                                         \n",
      "=====================================================================================\n",
      "                        coef    std err          t      P>|t|      [0.025      0.975]\n",
      "-------------------------------------------------------------------------------------\n",
      "Intercept             0.1398      0.053      2.658      0.008       0.037       0.243\n",
      "MonthlyNetIncome   1.321e-05   6.42e-06      2.056      0.040    6.07e-07    2.58e-05\n",
      "PaycheckNetIncome -9.162e-06   7.18e-06     -1.276      0.202   -2.32e-05    4.92e-06\n",
      "MonthsatResidence    -0.0001      0.000     -0.730      0.465      -0.000       0.000\n",
      "BankAccountMonths    -0.0010      0.000     -2.116      0.035      -0.002   -7.37e-05\n",
      "PayCycle             -0.0183      0.015     -1.235      0.217      -0.047       0.011\n",
      "LoanAmount            0.0003   6.36e-05      4.945      0.000       0.000       0.000\n",
      "Time_Diff             0.0045      0.002      2.437      0.015       0.001       0.008\n",
      "==============================================================================\n",
      "Omnibus:                      338.275   Durbin-Watson:                   1.975\n",
      "Prob(Omnibus):                  0.000   Jarque-Bera (JB):              324.306\n",
      "Skew:                           1.025   Prob(JB):                     3.78e-71\n",
      "Kurtosis:                       2.189   Cond. No.                     4.34e+04\n",
      "==============================================================================\n",
      "\n",
      "Warnings:\n",
      "[1] Standard Errors assume that the covariance matrix of the errors is correctly specified.\n",
      "[2] The condition number is large, 4.34e+04. This might indicate that there are\n",
      "strong multicollinearity or other numerical problems.\n"
     ]
    }
   ],
   "source": [
    "results = smf.ols('FirstPaymentDefault ~  MonthlyNetIncome+PaycheckNetIncome+ MonthsatResidence+ BankAccountMonths+ PayCycle+ LoanAmount+Time_Diff', data=train2).fit()\n",
    "print(results.summary())"
   ]
  },
  {
   "cell_type": "markdown",
   "metadata": {},
   "source": [
    "### 3. MonthsatResidence"
   ]
  },
  {
   "cell_type": "code",
   "execution_count": 370,
   "metadata": {},
   "outputs": [
    {
     "name": "stdout",
     "output_type": "stream",
     "text": [
      "                             OLS Regression Results                            \n",
      "===============================================================================\n",
      "Dep. Variable:     FirstPaymentDefault   R-squared:                       0.028\n",
      "Model:                             OLS   Adj. R-squared:                  0.024\n",
      "Method:                  Least Squares   F-statistic:                     7.526\n",
      "Date:                 Sat, 22 Jun 2019   Prob (F-statistic):           5.67e-08\n",
      "Time:                         22:37:11   Log-Likelihood:                -940.42\n",
      "No. Observations:                 1600   AIC:                             1895.\n",
      "Df Residuals:                     1593   BIC:                             1932.\n",
      "Df Model:                            6                                         \n",
      "Covariance Type:             nonrobust                                         \n",
      "=====================================================================================\n",
      "                        coef    std err          t      P>|t|      [0.025      0.975]\n",
      "-------------------------------------------------------------------------------------\n",
      "Intercept             0.1319      0.051      2.563      0.010       0.031       0.233\n",
      "MonthlyNetIncome    1.38e-05   6.37e-06      2.165      0.031     1.3e-06    2.63e-05\n",
      "PaycheckNetIncome -9.768e-06   7.13e-06     -1.370      0.171   -2.38e-05    4.22e-06\n",
      "BankAccountMonths    -0.0011      0.000     -2.272      0.023      -0.002      -0.000\n",
      "PayCycle             -0.0182      0.015     -1.224      0.221      -0.047       0.011\n",
      "LoanAmount            0.0003   6.36e-05      4.920      0.000       0.000       0.000\n",
      "Time_Diff             0.0046      0.002      2.489      0.013       0.001       0.008\n",
      "==============================================================================\n",
      "Omnibus:                      338.625   Durbin-Watson:                   1.976\n",
      "Prob(Omnibus):                  0.000   Jarque-Bera (JB):              324.832\n",
      "Skew:                           1.026   Prob(JB):                     2.91e-71\n",
      "Kurtosis:                       2.189   Cond. No.                     4.25e+04\n",
      "==============================================================================\n",
      "\n",
      "Warnings:\n",
      "[1] Standard Errors assume that the covariance matrix of the errors is correctly specified.\n",
      "[2] The condition number is large, 4.25e+04. This might indicate that there are\n",
      "strong multicollinearity or other numerical problems.\n"
     ]
    }
   ],
   "source": [
    "results = smf.ols('FirstPaymentDefault ~  MonthlyNetIncome+PaycheckNetIncome+ BankAccountMonths+ PayCycle+ LoanAmount+Time_Diff', data=train2).fit()\n",
    "print(results.summary())"
   ]
  },
  {
   "cell_type": "markdown",
   "metadata": {},
   "source": [
    "### 4. PayCycle"
   ]
  },
  {
   "cell_type": "code",
   "execution_count": 371,
   "metadata": {},
   "outputs": [
    {
     "name": "stdout",
     "output_type": "stream",
     "text": [
      "                             OLS Regression Results                            \n",
      "===============================================================================\n",
      "Dep. Variable:     FirstPaymentDefault   R-squared:                       0.027\n",
      "Model:                             OLS   Adj. R-squared:                  0.024\n",
      "Method:                  Least Squares   F-statistic:                     8.728\n",
      "Date:                 Sat, 22 Jun 2019   Prob (F-statistic):           3.53e-08\n",
      "Time:                         22:37:15   Log-Likelihood:                -941.17\n",
      "No. Observations:                 1600   AIC:                             1894.\n",
      "Df Residuals:                     1594   BIC:                             1927.\n",
      "Df Model:                            5                                         \n",
      "Covariance Type:             nonrobust                                         \n",
      "=====================================================================================\n",
      "                        coef    std err          t      P>|t|      [0.025      0.975]\n",
      "-------------------------------------------------------------------------------------\n",
      "Intercept             0.0943      0.041      2.283      0.023       0.013       0.175\n",
      "MonthlyNetIncome   1.539e-05   6.24e-06      2.467      0.014    3.15e-06    2.76e-05\n",
      "PaycheckNetIncome -1.163e-05   6.97e-06     -1.669      0.095   -2.53e-05    2.04e-06\n",
      "BankAccountMonths    -0.0011      0.000     -2.304      0.021      -0.002      -0.000\n",
      "LoanAmount            0.0003   6.32e-05      4.817      0.000       0.000       0.000\n",
      "Time_Diff             0.0041      0.002      2.282      0.023       0.001       0.008\n",
      "==============================================================================\n",
      "Omnibus:                      339.139   Durbin-Watson:                   1.978\n",
      "Prob(Omnibus):                  0.000   Jarque-Bera (JB):              325.390\n",
      "Skew:                           1.027   Prob(JB):                     2.20e-71\n",
      "Kurtosis:                       2.188   Cond. No.                     3.36e+04\n",
      "==============================================================================\n",
      "\n",
      "Warnings:\n",
      "[1] Standard Errors assume that the covariance matrix of the errors is correctly specified.\n",
      "[2] The condition number is large, 3.36e+04. This might indicate that there are\n",
      "strong multicollinearity or other numerical problems.\n"
     ]
    }
   ],
   "source": [
    "results = smf.ols('FirstPaymentDefault ~  MonthlyNetIncome+PaycheckNetIncome+ BankAccountMonths+ LoanAmount+Time_Diff', data=train2).fit()\n",
    "print(results.summary())"
   ]
  },
  {
   "cell_type": "markdown",
   "metadata": {},
   "source": [
    "### 4. PaycheckNetIncome"
   ]
  },
  {
   "cell_type": "code",
   "execution_count": 372,
   "metadata": {},
   "outputs": [
    {
     "name": "stdout",
     "output_type": "stream",
     "text": [
      "                             OLS Regression Results                            \n",
      "===============================================================================\n",
      "Dep. Variable:     FirstPaymentDefault   R-squared:                       0.025\n",
      "Model:                             OLS   Adj. R-squared:                  0.023\n",
      "Method:                  Least Squares   F-statistic:                     10.20\n",
      "Date:                 Sat, 22 Jun 2019   Prob (F-statistic):           3.71e-08\n",
      "Time:                         22:37:19   Log-Likelihood:                -942.57\n",
      "No. Observations:                 1600   AIC:                             1895.\n",
      "Df Residuals:                     1595   BIC:                             1922.\n",
      "Df Model:                            4                                         \n",
      "Covariance Type:             nonrobust                                         \n",
      "=====================================================================================\n",
      "                        coef    std err          t      P>|t|      [0.025      0.975]\n",
      "-------------------------------------------------------------------------------------\n",
      "Intercept             0.1230      0.038      3.274      0.001       0.049       0.197\n",
      "MonthlyNetIncome    5.54e-06   2.02e-06      2.737      0.006    1.57e-06    9.51e-06\n",
      "BankAccountMonths    -0.0011      0.000     -2.242      0.025      -0.002      -0.000\n",
      "LoanAmount            0.0003   6.32e-05      4.890      0.000       0.000       0.000\n",
      "Time_Diff             0.0029      0.002      1.755      0.079      -0.000       0.006\n",
      "==============================================================================\n",
      "Omnibus:                      345.520   Durbin-Watson:                   1.978\n",
      "Prob(Omnibus):                  0.000   Jarque-Bera (JB):              330.256\n",
      "Skew:                           1.035   Prob(JB):                     1.93e-72\n",
      "Kurtosis:                       2.182   Cond. No.                     2.42e+04\n",
      "==============================================================================\n",
      "\n",
      "Warnings:\n",
      "[1] Standard Errors assume that the covariance matrix of the errors is correctly specified.\n",
      "[2] The condition number is large, 2.42e+04. This might indicate that there are\n",
      "strong multicollinearity or other numerical problems.\n"
     ]
    }
   ],
   "source": [
    "results = smf.ols('FirstPaymentDefault ~  MonthlyNetIncome+ BankAccountMonths+ LoanAmount+Time_Diff', data=train2).fit()\n",
    "print(results.summary())"
   ]
  },
  {
   "cell_type": "markdown",
   "metadata": {},
   "source": [
    "### 6. Time_Diff"
   ]
  },
  {
   "cell_type": "code",
   "execution_count": 373,
   "metadata": {
    "scrolled": false
   },
   "outputs": [
    {
     "name": "stdout",
     "output_type": "stream",
     "text": [
      "                             OLS Regression Results                            \n",
      "===============================================================================\n",
      "Dep. Variable:     FirstPaymentDefault   R-squared:                       0.023\n",
      "Model:                             OLS   Adj. R-squared:                  0.021\n",
      "Method:                  Least Squares   F-statistic:                     12.56\n",
      "Date:                 Sat, 22 Jun 2019   Prob (F-statistic):           4.07e-08\n",
      "Time:                         22:37:29   Log-Likelihood:                -944.11\n",
      "No. Observations:                 1600   AIC:                             1896.\n",
      "Df Residuals:                     1596   BIC:                             1918.\n",
      "Df Model:                            3                                         \n",
      "Covariance Type:             nonrobust                                         \n",
      "=====================================================================================\n",
      "                        coef    std err          t      P>|t|      [0.025      0.975]\n",
      "-------------------------------------------------------------------------------------\n",
      "Intercept             0.1727      0.025      6.984      0.000       0.124       0.221\n",
      "MonthlyNetIncome   5.158e-06   2.01e-06      2.562      0.011    1.21e-06    9.11e-06\n",
      "BankAccountMonths    -0.0011      0.000     -2.307      0.021      -0.002      -0.000\n",
      "LoanAmount            0.0003   6.32e-05      4.842      0.000       0.000       0.000\n",
      "==============================================================================\n",
      "Omnibus:                      347.340   Durbin-Watson:                   1.982\n",
      "Prob(Omnibus):                  0.000   Jarque-Bera (JB):              332.072\n",
      "Skew:                           1.038   Prob(JB):                     7.79e-73\n",
      "Kurtosis:                       2.181   Cond. No.                     1.59e+04\n",
      "==============================================================================\n",
      "\n",
      "Warnings:\n",
      "[1] Standard Errors assume that the covariance matrix of the errors is correctly specified.\n",
      "[2] The condition number is large, 1.59e+04. This might indicate that there are\n",
      "strong multicollinearity or other numerical problems.\n"
     ]
    }
   ],
   "source": [
    "results = smf.ols('FirstPaymentDefault ~  MonthlyNetIncome+ BankAccountMonths+ LoanAmount', data=train2).fit()\n",
    "print(results.summary())"
   ]
  },
  {
   "cell_type": "markdown",
   "metadata": {},
   "source": [
    "### Now all P-values are less than 0.05"
   ]
  },
  {
   "cell_type": "markdown",
   "metadata": {},
   "source": [
    "### Divide train data into X and Y"
   ]
  },
  {
   "cell_type": "markdown",
   "metadata": {},
   "source": [
    "### State and Loan Amount, Monthly Net Income and Paycheck Net Income are highly corelated variables so one of each pair needs to be replaced.\n",
    "### Removing State and PaycheckNetIncome from the data frame:"
   ]
  },
  {
   "cell_type": "code",
   "execution_count": 374,
   "metadata": {},
   "outputs": [
    {
     "data": {
      "text/html": [
       "<div>\n",
       "<style scoped>\n",
       "    .dataframe tbody tr th:only-of-type {\n",
       "        vertical-align: middle;\n",
       "    }\n",
       "\n",
       "    .dataframe tbody tr th {\n",
       "        vertical-align: top;\n",
       "    }\n",
       "\n",
       "    .dataframe thead th {\n",
       "        text-align: right;\n",
       "    }\n",
       "</style>\n",
       "<table border=\"1\" class=\"dataframe\">\n",
       "  <thead>\n",
       "    <tr style=\"text-align: right;\">\n",
       "      <th></th>\n",
       "      <th>MonthlyNetIncome</th>\n",
       "      <th>RentorOwn</th>\n",
       "      <th>MonthsatResidence</th>\n",
       "      <th>BankAccountMonths</th>\n",
       "      <th>PayCycle</th>\n",
       "      <th>LoanAmount</th>\n",
       "      <th>Time_Diff</th>\n",
       "    </tr>\n",
       "  </thead>\n",
       "  <tbody>\n",
       "    <tr>\n",
       "      <th>0</th>\n",
       "      <td>2000.0</td>\n",
       "      <td>1</td>\n",
       "      <td>12</td>\n",
       "      <td>6</td>\n",
       "      <td>3</td>\n",
       "      <td>300.00</td>\n",
       "      <td>14</td>\n",
       "    </tr>\n",
       "    <tr>\n",
       "      <th>1</th>\n",
       "      <td>3500.0</td>\n",
       "      <td>1</td>\n",
       "      <td>60</td>\n",
       "      <td>60</td>\n",
       "      <td>3</td>\n",
       "      <td>641.91</td>\n",
       "      <td>14</td>\n",
       "    </tr>\n",
       "    <tr>\n",
       "      <th>2</th>\n",
       "      <td>3000.0</td>\n",
       "      <td>1</td>\n",
       "      <td>0</td>\n",
       "      <td>6</td>\n",
       "      <td>3</td>\n",
       "      <td>117.65</td>\n",
       "      <td>30</td>\n",
       "    </tr>\n",
       "    <tr>\n",
       "      <th>3</th>\n",
       "      <td>1500.0</td>\n",
       "      <td>1</td>\n",
       "      <td>12</td>\n",
       "      <td>6</td>\n",
       "      <td>3</td>\n",
       "      <td>117.65</td>\n",
       "      <td>31</td>\n",
       "    </tr>\n",
       "    <tr>\n",
       "      <th>4</th>\n",
       "      <td>2392.0</td>\n",
       "      <td>1</td>\n",
       "      <td>130</td>\n",
       "      <td>36</td>\n",
       "      <td>1</td>\n",
       "      <td>300.00</td>\n",
       "      <td>10</td>\n",
       "    </tr>\n",
       "  </tbody>\n",
       "</table>\n",
       "</div>"
      ],
      "text/plain": [
       "   MonthlyNetIncome RentorOwn  MonthsatResidence  BankAccountMonths  PayCycle  \\\n",
       "0            2000.0         1                 12                  6         3   \n",
       "1            3500.0         1                 60                 60         3   \n",
       "2            3000.0         1                  0                  6         3   \n",
       "3            1500.0         1                 12                  6         3   \n",
       "4            2392.0         1                130                 36         1   \n",
       "\n",
       "   LoanAmount  Time_Diff  \n",
       "0      300.00         14  \n",
       "1      641.91         14  \n",
       "2      117.65         30  \n",
       "3      117.65         31  \n",
       "4      300.00         10  "
      ]
     },
     "execution_count": 374,
     "metadata": {},
     "output_type": "execute_result"
    }
   ],
   "source": [
    "X = train2[['MonthlyNetIncome', 'RentorOwn','MonthsatResidence', 'BankAccountMonths','PayCycle', 'LoanAmount','Time_Diff']]\n",
    "X.head()"
   ]
  },
  {
   "cell_type": "code",
   "execution_count": 375,
   "metadata": {},
   "outputs": [
    {
     "data": {
      "text/plain": [
       "0    0\n",
       "1    0\n",
       "2    1\n",
       "3    0\n",
       "4    0\n",
       "Name: FirstPaymentDefault, dtype: int64"
      ]
     },
     "execution_count": 375,
     "metadata": {},
     "output_type": "execute_result"
    }
   ],
   "source": [
    "y = train2['FirstPaymentDefault']\n",
    "y.head()"
   ]
  },
  {
   "cell_type": "markdown",
   "metadata": {},
   "source": [
    "### Split train data into Train and validation set"
   ]
  },
  {
   "cell_type": "code",
   "execution_count": 376,
   "metadata": {},
   "outputs": [],
   "source": [
    "from sklearn.model_selection import train_test_split\n",
    "X_train, X_test, y_train, y_test = train_test_split(X, y, test_size=0.2, random_state=42)"
   ]
  },
  {
   "cell_type": "markdown",
   "metadata": {},
   "source": [
    "### Data analysis using Classifying models"
   ]
  },
  {
   "cell_type": "markdown",
   "metadata": {},
   "source": [
    "## 1.  Logistic Regression"
   ]
  },
  {
   "cell_type": "code",
   "execution_count": 377,
   "metadata": {},
   "outputs": [
    {
     "name": "stderr",
     "output_type": "stream",
     "text": [
      "C:\\Users\\rc_as\\Anaconda3\\lib\\site-packages\\sklearn\\linear_model\\logistic.py:433: FutureWarning: Default solver will be changed to 'lbfgs' in 0.22. Specify a solver to silence this warning.\n",
      "  FutureWarning)\n"
     ]
    }
   ],
   "source": [
    "from sklearn.linear_model import LogisticRegression\n",
    "logisticRegr = LogisticRegression()\n",
    "logisticRegr = logisticRegr.fit(X_train,y_train)"
   ]
  },
  {
   "cell_type": "code",
   "execution_count": 274,
   "metadata": {},
   "outputs": [
    {
     "data": {
      "text/plain": [
       "0.7375"
      ]
     },
     "execution_count": 274,
     "metadata": {},
     "output_type": "execute_result"
    }
   ],
   "source": [
    "score = logisticRegr.score(X_test, y_test)\n",
    "score"
   ]
  },
  {
   "cell_type": "markdown",
   "metadata": {},
   "source": [
    "### Logistic Regression for significant variables selected from Linear Regression Model(Above)"
   ]
  },
  {
   "cell_type": "code",
   "execution_count": 378,
   "metadata": {
    "scrolled": false
   },
   "outputs": [
    {
     "name": "stderr",
     "output_type": "stream",
     "text": [
      "C:\\Users\\rc_as\\Anaconda3\\lib\\site-packages\\sklearn\\linear_model\\logistic.py:433: FutureWarning: Default solver will be changed to 'lbfgs' in 0.22. Specify a solver to silence this warning.\n",
      "  FutureWarning)\n"
     ]
    },
    {
     "data": {
      "text/plain": [
       "0.7375"
      ]
     },
     "execution_count": 378,
     "metadata": {},
     "output_type": "execute_result"
    }
   ],
   "source": [
    "X = train2[['MonthlyNetIncome', 'BankAccountMonths','PayCycle','LoanAmount','Time_Diff']]\n",
    "Y = train2['FirstPaymentDefault']\n",
    "logisticRegr = LogisticRegression()\n",
    "logisticRegr = logisticRegr.fit(X_train,y_train)\n",
    "lr = logisticRegr.score(X_test, y_test)\n",
    "lr"
   ]
  },
  {
   "cell_type": "markdown",
   "metadata": {},
   "source": [
    "### Even after keeping significant variables there is no change in Accuracy."
   ]
  },
  {
   "cell_type": "markdown",
   "metadata": {},
   "source": [
    "## 2. Decision Tree"
   ]
  },
  {
   "cell_type": "code",
   "execution_count": 379,
   "metadata": {},
   "outputs": [
    {
     "name": "stderr",
     "output_type": "stream",
     "text": [
      "C:\\Users\\rc_as\\Anaconda3\\lib\\site-packages\\sklearn\\ensemble\\forest.py:246: FutureWarning: The default value of n_estimators will change from 10 in version 0.20 to 100 in 0.22.\n",
      "  \"10 in version 0.20 to 100 in 0.22.\", FutureWarning)\n"
     ]
    },
    {
     "data": {
      "text/plain": [
       "0.99453125"
      ]
     },
     "execution_count": 379,
     "metadata": {},
     "output_type": "execute_result"
    }
   ],
   "source": [
    "from sklearn.ensemble import ExtraTreesClassifier\n",
    "tree = ExtraTreesClassifier()\n",
    "tree.fit(X_train, y_train)\n",
    "score1=tree.score(X_train, y_train)\n",
    "score1"
   ]
  },
  {
   "cell_type": "code",
   "execution_count": 380,
   "metadata": {},
   "outputs": [
    {
     "data": {
      "text/plain": [
       "0.7"
      ]
     },
     "execution_count": 380,
     "metadata": {},
     "output_type": "execute_result"
    }
   ],
   "source": [
    "dt=tree.score(X_test, y_test)\n",
    "dt"
   ]
  },
  {
   "cell_type": "markdown",
   "metadata": {},
   "source": [
    "## 3. Random Forest"
   ]
  },
  {
   "cell_type": "code",
   "execution_count": 381,
   "metadata": {
    "scrolled": true
   },
   "outputs": [
    {
     "name": "stdout",
     "output_type": "stream",
     "text": [
      "Accuracy of RF on training data: 0.96015625\n"
     ]
    },
    {
     "name": "stderr",
     "output_type": "stream",
     "text": [
      "C:\\Users\\rc_as\\Anaconda3\\lib\\site-packages\\sklearn\\ensemble\\forest.py:246: FutureWarning: The default value of n_estimators will change from 10 in version 0.20 to 100 in 0.22.\n",
      "  \"10 in version 0.20 to 100 in 0.22.\", FutureWarning)\n"
     ]
    },
    {
     "data": {
      "text/plain": [
       "0.721875"
      ]
     },
     "execution_count": 381,
     "metadata": {},
     "output_type": "execute_result"
    }
   ],
   "source": [
    "from sklearn.ensemble import RandomForestClassifier\n",
    "rf = RandomForestClassifier()\n",
    "rf.fit(X_train,y_train)\n",
    "print('Accuracy of RF on training data: {}'.format(rf.score(X_train, y_train)))\n",
    "rf=rf.score(X_test, y_test)\n",
    "rf"
   ]
  },
  {
   "cell_type": "markdown",
   "metadata": {},
   "source": [
    "## 4. Support Vector Machine (SVM)"
   ]
  },
  {
   "cell_type": "code",
   "execution_count": 382,
   "metadata": {},
   "outputs": [
    {
     "name": "stdout",
     "output_type": "stream",
     "text": [
      "Accuracy of SVM_Linear on training data: 0.73203125\n"
     ]
    },
    {
     "data": {
      "text/plain": [
       "0.7375"
      ]
     },
     "execution_count": 382,
     "metadata": {},
     "output_type": "execute_result"
    }
   ],
   "source": [
    "from sklearn.svm import LinearSVC\n",
    "svm_linear = LinearSVC(penalty ='l1', dual =False)\n",
    "svm_linear.fit(X_train, y_train)\n",
    "print('Accuracy of SVM_Linear on training data: {}'.format(svm_linear.score(X_train, y_train)))\n",
    "svm=svm_linear.score(X_test, y_test)\n",
    "svm"
   ]
  },
  {
   "cell_type": "markdown",
   "metadata": {},
   "source": [
    "## 5. SVM Radial "
   ]
  },
  {
   "cell_type": "code",
   "execution_count": 383,
   "metadata": {},
   "outputs": [
    {
     "name": "stdout",
     "output_type": "stream",
     "text": [
      "[[233   3]\n",
      " [ 77   7]]\n",
      "              precision    recall  f1-score   support\n",
      "\n",
      "           0       0.75      0.99      0.85       236\n",
      "           1       0.70      0.08      0.15        84\n",
      "\n",
      "   micro avg       0.75      0.75      0.75       320\n",
      "   macro avg       0.73      0.54      0.50       320\n",
      "weighted avg       0.74      0.75      0.67       320\n",
      "\n"
     ]
    },
    {
     "name": "stderr",
     "output_type": "stream",
     "text": [
      "C:\\Users\\rc_as\\Anaconda3\\lib\\site-packages\\sklearn\\svm\\base.py:196: FutureWarning: The default value of gamma will change from 'auto' to 'scale' in version 0.22 to account better for unscaled features. Set gamma explicitly to 'auto' or 'scale' to avoid this warning.\n",
      "  \"avoid this warning.\", FutureWarning)\n"
     ]
    }
   ],
   "source": [
    "from sklearn.svm import SVC\n",
    "svm_radial = SVC(kernel='rbf')\n",
    "svm_radial.fit(X_train, y_train)\n",
    "Y_pred = svm_radial.predict(X_test)\n",
    "from sklearn.metrics import classification_report, confusion_matrix  \n",
    "print(confusion_matrix(y_test,Y_pred))  \n",
    "print(classification_report(y_test,Y_pred))"
   ]
  },
  {
   "cell_type": "code",
   "execution_count": 384,
   "metadata": {},
   "outputs": [
    {
     "data": {
      "text/plain": [
       "0.75"
      ]
     },
     "execution_count": 384,
     "metadata": {},
     "output_type": "execute_result"
    }
   ],
   "source": [
    "svmr=svm_radial.score(X_test, y_test)\n",
    "svmr"
   ]
  },
  {
   "cell_type": "code",
   "execution_count": 385,
   "metadata": {},
   "outputs": [
    {
     "data": {
      "text/html": [
       "<div>\n",
       "<style scoped>\n",
       "    .dataframe tbody tr th:only-of-type {\n",
       "        vertical-align: middle;\n",
       "    }\n",
       "\n",
       "    .dataframe tbody tr th {\n",
       "        vertical-align: top;\n",
       "    }\n",
       "\n",
       "    .dataframe thead th {\n",
       "        text-align: right;\n",
       "    }\n",
       "</style>\n",
       "<table border=\"1\" class=\"dataframe\">\n",
       "  <thead>\n",
       "    <tr style=\"text-align: right;\">\n",
       "      <th></th>\n",
       "      <th>Model</th>\n",
       "      <th>Score</th>\n",
       "    </tr>\n",
       "  </thead>\n",
       "  <tbody>\n",
       "    <tr>\n",
       "      <th>4</th>\n",
       "      <td>SVM Radial</td>\n",
       "      <td>0.750000</td>\n",
       "    </tr>\n",
       "    <tr>\n",
       "      <th>0</th>\n",
       "      <td>Logistic Regression</td>\n",
       "      <td>0.737500</td>\n",
       "    </tr>\n",
       "    <tr>\n",
       "      <th>3</th>\n",
       "      <td>Support Vector Machines</td>\n",
       "      <td>0.737500</td>\n",
       "    </tr>\n",
       "    <tr>\n",
       "      <th>2</th>\n",
       "      <td>Random Forest</td>\n",
       "      <td>0.721875</td>\n",
       "    </tr>\n",
       "    <tr>\n",
       "      <th>1</th>\n",
       "      <td>Decision Tree</td>\n",
       "      <td>0.700000</td>\n",
       "    </tr>\n",
       "  </tbody>\n",
       "</table>\n",
       "</div>"
      ],
      "text/plain": [
       "                     Model     Score\n",
       "4               SVM Radial  0.750000\n",
       "0      Logistic Regression  0.737500\n",
       "3  Support Vector Machines  0.737500\n",
       "2            Random Forest  0.721875\n",
       "1            Decision Tree  0.700000"
      ]
     },
     "execution_count": 385,
     "metadata": {},
     "output_type": "execute_result"
    }
   ],
   "source": [
    "models = pd.DataFrame({\n",
    "    'Model': ['Logistic Regression','Decision Tree','Random Forest','Support Vector Machines',\"SVM Radial\" ],\n",
    "    'Score': [lr, dt, rf, svm, svmr]})\n",
    "models.sort_values(by='Score', ascending=False)"
   ]
  },
  {
   "cell_type": "markdown",
   "metadata": {},
   "source": [
    "## Overall, Accuracy of SVM Radial is best(75%)"
   ]
  },
  {
   "cell_type": "markdown",
   "metadata": {},
   "source": [
    "## Prediction on Test data"
   ]
  },
  {
   "cell_type": "code",
   "execution_count": 429,
   "metadata": {},
   "outputs": [
    {
     "data": {
      "text/html": [
       "<div>\n",
       "<style scoped>\n",
       "    .dataframe tbody tr th:only-of-type {\n",
       "        vertical-align: middle;\n",
       "    }\n",
       "\n",
       "    .dataframe tbody tr th {\n",
       "        vertical-align: top;\n",
       "    }\n",
       "\n",
       "    .dataframe thead th {\n",
       "        text-align: right;\n",
       "    }\n",
       "</style>\n",
       "<table border=\"1\" class=\"dataframe\">\n",
       "  <thead>\n",
       "    <tr style=\"text-align: right;\">\n",
       "      <th></th>\n",
       "      <th>SetID</th>\n",
       "      <th>Time of Application</th>\n",
       "      <th>State</th>\n",
       "      <th>Monthly Net Income</th>\n",
       "      <th>Paycheck Net Income</th>\n",
       "      <th>Rent or Own</th>\n",
       "      <th>Months at Residence</th>\n",
       "      <th>Bank Account Months</th>\n",
       "      <th>Pay Cycle</th>\n",
       "      <th>Loan Amount</th>\n",
       "      <th>Loan Funded Date</th>\n",
       "      <th>Loan Due Date</th>\n",
       "      <th>Time_Diff</th>\n",
       "    </tr>\n",
       "  </thead>\n",
       "  <tbody>\n",
       "    <tr>\n",
       "      <th>0</th>\n",
       "      <td>1</td>\n",
       "      <td>2018-04-09T23:25:18Z</td>\n",
       "      <td>CA</td>\n",
       "      <td>1894.0</td>\n",
       "      <td>947.0</td>\n",
       "      <td>R</td>\n",
       "      <td>8</td>\n",
       "      <td>30</td>\n",
       "      <td>BiWeekly</td>\n",
       "      <td>300.00</td>\n",
       "      <td>4/10/2018</td>\n",
       "      <td>4/20/2018</td>\n",
       "      <td>10</td>\n",
       "    </tr>\n",
       "    <tr>\n",
       "      <th>1</th>\n",
       "      <td>4</td>\n",
       "      <td>2018-04-09T20:34:56Z</td>\n",
       "      <td>TX</td>\n",
       "      <td>5000.0</td>\n",
       "      <td>5000.0</td>\n",
       "      <td>O</td>\n",
       "      <td>36</td>\n",
       "      <td>36</td>\n",
       "      <td>Monthly</td>\n",
       "      <td>642.46</td>\n",
       "      <td>4/10/2018</td>\n",
       "      <td>4/27/2018</td>\n",
       "      <td>17</td>\n",
       "    </tr>\n",
       "    <tr>\n",
       "      <th>2</th>\n",
       "      <td>14</td>\n",
       "      <td>2018-04-09T17:41:37Z</td>\n",
       "      <td>TX</td>\n",
       "      <td>2500.0</td>\n",
       "      <td>2500.0</td>\n",
       "      <td>O</td>\n",
       "      <td>108</td>\n",
       "      <td>6</td>\n",
       "      <td>Monthly</td>\n",
       "      <td>644.24</td>\n",
       "      <td>4/9/2018</td>\n",
       "      <td>5/10/2018</td>\n",
       "      <td>31</td>\n",
       "    </tr>\n",
       "    <tr>\n",
       "      <th>3</th>\n",
       "      <td>19</td>\n",
       "      <td>2018-04-09T16:33:35Z</td>\n",
       "      <td>CA</td>\n",
       "      <td>2902.0</td>\n",
       "      <td>1451.0</td>\n",
       "      <td>R</td>\n",
       "      <td>48</td>\n",
       "      <td>36</td>\n",
       "      <td>BiWeekly</td>\n",
       "      <td>300.00</td>\n",
       "      <td>4/9/2018</td>\n",
       "      <td>4/20/2018</td>\n",
       "      <td>11</td>\n",
       "    </tr>\n",
       "    <tr>\n",
       "      <th>4</th>\n",
       "      <td>28</td>\n",
       "      <td>2018-04-09T14:51:15Z</td>\n",
       "      <td>CA</td>\n",
       "      <td>5000.0</td>\n",
       "      <td>5000.0</td>\n",
       "      <td>R</td>\n",
       "      <td>12</td>\n",
       "      <td>12</td>\n",
       "      <td>Monthly</td>\n",
       "      <td>235.30</td>\n",
       "      <td>4/9/2018</td>\n",
       "      <td>4/30/2018</td>\n",
       "      <td>21</td>\n",
       "    </tr>\n",
       "  </tbody>\n",
       "</table>\n",
       "</div>"
      ],
      "text/plain": [
       "   SetID   Time of Application State  Monthly Net Income  Paycheck Net Income  \\\n",
       "0      1  2018-04-09T23:25:18Z    CA              1894.0                947.0   \n",
       "1      4  2018-04-09T20:34:56Z    TX              5000.0               5000.0   \n",
       "2     14  2018-04-09T17:41:37Z    TX              2500.0               2500.0   \n",
       "3     19  2018-04-09T16:33:35Z    CA              2902.0               1451.0   \n",
       "4     28  2018-04-09T14:51:15Z    CA              5000.0               5000.0   \n",
       "\n",
       "  Rent or Own  Months at Residence  Bank Account Months Pay Cycle  \\\n",
       "0           R                    8                   30  BiWeekly   \n",
       "1           O                   36                   36   Monthly   \n",
       "2           O                  108                    6   Monthly   \n",
       "3           R                   48                   36  BiWeekly   \n",
       "4           R                   12                   12   Monthly   \n",
       "\n",
       "   Loan Amount Loan Funded Date Loan Due Date  Time_Diff  \n",
       "0       300.00        4/10/2018     4/20/2018         10  \n",
       "1       642.46        4/10/2018     4/27/2018         17  \n",
       "2       644.24         4/9/2018     5/10/2018         31  \n",
       "3       300.00         4/9/2018     4/20/2018         11  \n",
       "4       235.30         4/9/2018     4/30/2018         21  "
      ]
     },
     "execution_count": 429,
     "metadata": {},
     "output_type": "execute_result"
    }
   ],
   "source": [
    "predictedData  = pd.read_csv(\"2018-05-17 - Recruit Sample Data Test.csv\")\n",
    "predictedData.head()"
   ]
  },
  {
   "cell_type": "code",
   "execution_count": 430,
   "metadata": {},
   "outputs": [],
   "source": [
    "test = predictedData"
   ]
  },
  {
   "cell_type": "code",
   "execution_count": 431,
   "metadata": {},
   "outputs": [
    {
     "data": {
      "text/plain": [
       "Index(['SetID', 'Time of Application', 'State', 'Monthly Net Income',\n",
       "       'Paycheck Net Income', 'Rent or Own', 'Months at Residence',\n",
       "       'Bank Account Months', 'Pay Cycle', 'Loan Amount', 'Loan Funded Date',\n",
       "       'Loan Due Date', 'Time_Diff'],\n",
       "      dtype='object')"
      ]
     },
     "execution_count": 431,
     "metadata": {},
     "output_type": "execute_result"
    }
   ],
   "source": [
    "test.columns"
   ]
  },
  {
   "cell_type": "code",
   "execution_count": 434,
   "metadata": {},
   "outputs": [],
   "source": [
    "test=test[['Monthly Net Income','Rent or Own','Months at Residence','Bank Account Months','Pay Cycle','Loan Amount','Time_Diff']] "
   ]
  },
  {
   "cell_type": "code",
   "execution_count": 438,
   "metadata": {},
   "outputs": [],
   "source": [
    "test.columns=['MonthlyNetIncome','RentOrOwn','MonthsAtResidence','BankAccountMonths', 'PayCycle', 'LoanAmount','Time_Diff']"
   ]
  },
  {
   "cell_type": "code",
   "execution_count": 439,
   "metadata": {
    "scrolled": true
   },
   "outputs": [
    {
     "data": {
      "text/html": [
       "<div>\n",
       "<style scoped>\n",
       "    .dataframe tbody tr th:only-of-type {\n",
       "        vertical-align: middle;\n",
       "    }\n",
       "\n",
       "    .dataframe tbody tr th {\n",
       "        vertical-align: top;\n",
       "    }\n",
       "\n",
       "    .dataframe thead th {\n",
       "        text-align: right;\n",
       "    }\n",
       "</style>\n",
       "<table border=\"1\" class=\"dataframe\">\n",
       "  <thead>\n",
       "    <tr style=\"text-align: right;\">\n",
       "      <th></th>\n",
       "      <th>MonthlyNetIncome</th>\n",
       "      <th>RentOrOwn</th>\n",
       "      <th>MonthsAtResidence</th>\n",
       "      <th>BankAccountMonths</th>\n",
       "      <th>PayCycle</th>\n",
       "      <th>LoanAmount</th>\n",
       "      <th>Time_Diff</th>\n",
       "    </tr>\n",
       "  </thead>\n",
       "  <tbody>\n",
       "    <tr>\n",
       "      <th>0</th>\n",
       "      <td>1894.0</td>\n",
       "      <td>1</td>\n",
       "      <td>8</td>\n",
       "      <td>30</td>\n",
       "      <td>2</td>\n",
       "      <td>300.00</td>\n",
       "      <td>10</td>\n",
       "    </tr>\n",
       "    <tr>\n",
       "      <th>1</th>\n",
       "      <td>5000.0</td>\n",
       "      <td>2</td>\n",
       "      <td>36</td>\n",
       "      <td>36</td>\n",
       "      <td>3</td>\n",
       "      <td>642.46</td>\n",
       "      <td>17</td>\n",
       "    </tr>\n",
       "    <tr>\n",
       "      <th>2</th>\n",
       "      <td>2500.0</td>\n",
       "      <td>2</td>\n",
       "      <td>108</td>\n",
       "      <td>6</td>\n",
       "      <td>3</td>\n",
       "      <td>644.24</td>\n",
       "      <td>31</td>\n",
       "    </tr>\n",
       "    <tr>\n",
       "      <th>3</th>\n",
       "      <td>2902.0</td>\n",
       "      <td>1</td>\n",
       "      <td>48</td>\n",
       "      <td>36</td>\n",
       "      <td>2</td>\n",
       "      <td>300.00</td>\n",
       "      <td>11</td>\n",
       "    </tr>\n",
       "    <tr>\n",
       "      <th>4</th>\n",
       "      <td>5000.0</td>\n",
       "      <td>1</td>\n",
       "      <td>12</td>\n",
       "      <td>12</td>\n",
       "      <td>3</td>\n",
       "      <td>235.30</td>\n",
       "      <td>21</td>\n",
       "    </tr>\n",
       "  </tbody>\n",
       "</table>\n",
       "</div>"
      ],
      "text/plain": [
       "   MonthlyNetIncome RentOrOwn  MonthsAtResidence  BankAccountMonths  PayCycle  \\\n",
       "0            1894.0         1                  8                 30         2   \n",
       "1            5000.0         2                 36                 36         3   \n",
       "2            2500.0         2                108                  6         3   \n",
       "3            2902.0         1                 48                 36         2   \n",
       "4            5000.0         1                 12                 12         3   \n",
       "\n",
       "   LoanAmount  Time_Diff  \n",
       "0      300.00         10  \n",
       "1      642.46         17  \n",
       "2      644.24         31  \n",
       "3      300.00         11  \n",
       "4      235.30         21  "
      ]
     },
     "execution_count": 439,
     "metadata": {},
     "output_type": "execute_result"
    }
   ],
   "source": [
    "mymap1 ={'R':1, 'O':'2', 'Weekly':1,'BiWeekly':2,'Monthly':3,'BiMonthly':4}\n",
    "test = test.applymap(lambda s: mymap1.get(s) if s in mymap1 else s)\n",
    "test.head()"
   ]
  },
  {
   "cell_type": "code",
   "execution_count": 440,
   "metadata": {},
   "outputs": [],
   "source": [
    "Y = test"
   ]
  },
  {
   "cell_type": "markdown",
   "metadata": {},
   "source": [
    "## SVM Radial for Prediction"
   ]
  },
  {
   "cell_type": "code",
   "execution_count": 441,
   "metadata": {},
   "outputs": [
    {
     "data": {
      "text/html": [
       "<div>\n",
       "<style scoped>\n",
       "    .dataframe tbody tr th:only-of-type {\n",
       "        vertical-align: middle;\n",
       "    }\n",
       "\n",
       "    .dataframe tbody tr th {\n",
       "        vertical-align: top;\n",
       "    }\n",
       "\n",
       "    .dataframe thead th {\n",
       "        text-align: right;\n",
       "    }\n",
       "</style>\n",
       "<table border=\"1\" class=\"dataframe\">\n",
       "  <thead>\n",
       "    <tr style=\"text-align: right;\">\n",
       "      <th></th>\n",
       "      <th>SetID</th>\n",
       "      <th>Time of Application</th>\n",
       "      <th>State</th>\n",
       "      <th>Monthly Net Income</th>\n",
       "      <th>Paycheck Net Income</th>\n",
       "      <th>Rent or Own</th>\n",
       "      <th>Months at Residence</th>\n",
       "      <th>Bank Account Months</th>\n",
       "      <th>Pay Cycle</th>\n",
       "      <th>Loan Amount</th>\n",
       "      <th>Loan Funded Date</th>\n",
       "      <th>Loan Due Date</th>\n",
       "      <th>Time_Diff</th>\n",
       "      <th>FirstPaymentDefault</th>\n",
       "    </tr>\n",
       "  </thead>\n",
       "  <tbody>\n",
       "    <tr>\n",
       "      <th>0</th>\n",
       "      <td>1</td>\n",
       "      <td>2018-04-09T23:25:18Z</td>\n",
       "      <td>CA</td>\n",
       "      <td>1894.0</td>\n",
       "      <td>947.0</td>\n",
       "      <td>R</td>\n",
       "      <td>8</td>\n",
       "      <td>30</td>\n",
       "      <td>BiWeekly</td>\n",
       "      <td>300.00</td>\n",
       "      <td>4/10/2018</td>\n",
       "      <td>4/20/2018</td>\n",
       "      <td>10</td>\n",
       "      <td>0</td>\n",
       "    </tr>\n",
       "    <tr>\n",
       "      <th>1</th>\n",
       "      <td>4</td>\n",
       "      <td>2018-04-09T20:34:56Z</td>\n",
       "      <td>TX</td>\n",
       "      <td>5000.0</td>\n",
       "      <td>5000.0</td>\n",
       "      <td>O</td>\n",
       "      <td>36</td>\n",
       "      <td>36</td>\n",
       "      <td>Monthly</td>\n",
       "      <td>642.46</td>\n",
       "      <td>4/10/2018</td>\n",
       "      <td>4/27/2018</td>\n",
       "      <td>17</td>\n",
       "      <td>0</td>\n",
       "    </tr>\n",
       "    <tr>\n",
       "      <th>2</th>\n",
       "      <td>14</td>\n",
       "      <td>2018-04-09T17:41:37Z</td>\n",
       "      <td>TX</td>\n",
       "      <td>2500.0</td>\n",
       "      <td>2500.0</td>\n",
       "      <td>O</td>\n",
       "      <td>108</td>\n",
       "      <td>6</td>\n",
       "      <td>Monthly</td>\n",
       "      <td>644.24</td>\n",
       "      <td>4/9/2018</td>\n",
       "      <td>5/10/2018</td>\n",
       "      <td>31</td>\n",
       "      <td>0</td>\n",
       "    </tr>\n",
       "    <tr>\n",
       "      <th>3</th>\n",
       "      <td>19</td>\n",
       "      <td>2018-04-09T16:33:35Z</td>\n",
       "      <td>CA</td>\n",
       "      <td>2902.0</td>\n",
       "      <td>1451.0</td>\n",
       "      <td>R</td>\n",
       "      <td>48</td>\n",
       "      <td>36</td>\n",
       "      <td>BiWeekly</td>\n",
       "      <td>300.00</td>\n",
       "      <td>4/9/2018</td>\n",
       "      <td>4/20/2018</td>\n",
       "      <td>11</td>\n",
       "      <td>0</td>\n",
       "    </tr>\n",
       "    <tr>\n",
       "      <th>4</th>\n",
       "      <td>28</td>\n",
       "      <td>2018-04-09T14:51:15Z</td>\n",
       "      <td>CA</td>\n",
       "      <td>5000.0</td>\n",
       "      <td>5000.0</td>\n",
       "      <td>R</td>\n",
       "      <td>12</td>\n",
       "      <td>12</td>\n",
       "      <td>Monthly</td>\n",
       "      <td>235.30</td>\n",
       "      <td>4/9/2018</td>\n",
       "      <td>4/30/2018</td>\n",
       "      <td>21</td>\n",
       "      <td>0</td>\n",
       "    </tr>\n",
       "    <tr>\n",
       "      <th>5</th>\n",
       "      <td>37</td>\n",
       "      <td>2018-04-09T13:01:38Z</td>\n",
       "      <td>CA</td>\n",
       "      <td>3500.0</td>\n",
       "      <td>1750.0</td>\n",
       "      <td>R</td>\n",
       "      <td>12</td>\n",
       "      <td>12</td>\n",
       "      <td>BiMonthly</td>\n",
       "      <td>300.00</td>\n",
       "      <td>4/9/2018</td>\n",
       "      <td>4/25/2018</td>\n",
       "      <td>16</td>\n",
       "      <td>0</td>\n",
       "    </tr>\n",
       "    <tr>\n",
       "      <th>6</th>\n",
       "      <td>41</td>\n",
       "      <td>2018-04-09T12:02:01Z</td>\n",
       "      <td>CA</td>\n",
       "      <td>3000.0</td>\n",
       "      <td>1500.0</td>\n",
       "      <td>R</td>\n",
       "      <td>120</td>\n",
       "      <td>30</td>\n",
       "      <td>BiMonthly</td>\n",
       "      <td>235.30</td>\n",
       "      <td>4/9/2018</td>\n",
       "      <td>4/27/2018</td>\n",
       "      <td>18</td>\n",
       "      <td>0</td>\n",
       "    </tr>\n",
       "    <tr>\n",
       "      <th>7</th>\n",
       "      <td>45</td>\n",
       "      <td>2018-04-09T11:37:54Z</td>\n",
       "      <td>CA</td>\n",
       "      <td>5000.0</td>\n",
       "      <td>2500.0</td>\n",
       "      <td>O</td>\n",
       "      <td>108</td>\n",
       "      <td>6</td>\n",
       "      <td>BiWeekly</td>\n",
       "      <td>117.65</td>\n",
       "      <td>4/9/2018</td>\n",
       "      <td>4/18/2018</td>\n",
       "      <td>9</td>\n",
       "      <td>0</td>\n",
       "    </tr>\n",
       "    <tr>\n",
       "      <th>8</th>\n",
       "      <td>46</td>\n",
       "      <td>2018-04-09T11:34:34Z</td>\n",
       "      <td>CA</td>\n",
       "      <td>1820.0</td>\n",
       "      <td>910.0</td>\n",
       "      <td>R</td>\n",
       "      <td>12</td>\n",
       "      <td>36</td>\n",
       "      <td>BiWeekly</td>\n",
       "      <td>117.65</td>\n",
       "      <td>4/9/2018</td>\n",
       "      <td>4/27/2018</td>\n",
       "      <td>18</td>\n",
       "      <td>0</td>\n",
       "    </tr>\n",
       "    <tr>\n",
       "      <th>9</th>\n",
       "      <td>51</td>\n",
       "      <td>2018-04-09T11:06:47Z</td>\n",
       "      <td>TX</td>\n",
       "      <td>3000.0</td>\n",
       "      <td>3000.0</td>\n",
       "      <td>R</td>\n",
       "      <td>24</td>\n",
       "      <td>24</td>\n",
       "      <td>Monthly</td>\n",
       "      <td>641.91</td>\n",
       "      <td>4/9/2018</td>\n",
       "      <td>4/23/2018</td>\n",
       "      <td>14</td>\n",
       "      <td>0</td>\n",
       "    </tr>\n",
       "  </tbody>\n",
       "</table>\n",
       "</div>"
      ],
      "text/plain": [
       "   SetID   Time of Application State  Monthly Net Income  Paycheck Net Income  \\\n",
       "0      1  2018-04-09T23:25:18Z    CA              1894.0                947.0   \n",
       "1      4  2018-04-09T20:34:56Z    TX              5000.0               5000.0   \n",
       "2     14  2018-04-09T17:41:37Z    TX              2500.0               2500.0   \n",
       "3     19  2018-04-09T16:33:35Z    CA              2902.0               1451.0   \n",
       "4     28  2018-04-09T14:51:15Z    CA              5000.0               5000.0   \n",
       "5     37  2018-04-09T13:01:38Z    CA              3500.0               1750.0   \n",
       "6     41  2018-04-09T12:02:01Z    CA              3000.0               1500.0   \n",
       "7     45  2018-04-09T11:37:54Z    CA              5000.0               2500.0   \n",
       "8     46  2018-04-09T11:34:34Z    CA              1820.0                910.0   \n",
       "9     51  2018-04-09T11:06:47Z    TX              3000.0               3000.0   \n",
       "\n",
       "  Rent or Own  Months at Residence  Bank Account Months  Pay Cycle  \\\n",
       "0           R                    8                   30   BiWeekly   \n",
       "1           O                   36                   36    Monthly   \n",
       "2           O                  108                    6    Monthly   \n",
       "3           R                   48                   36   BiWeekly   \n",
       "4           R                   12                   12    Monthly   \n",
       "5           R                   12                   12  BiMonthly   \n",
       "6           R                  120                   30  BiMonthly   \n",
       "7           O                  108                    6   BiWeekly   \n",
       "8           R                   12                   36   BiWeekly   \n",
       "9           R                   24                   24    Monthly   \n",
       "\n",
       "   Loan Amount Loan Funded Date Loan Due Date  Time_Diff  FirstPaymentDefault  \n",
       "0       300.00        4/10/2018     4/20/2018         10                    0  \n",
       "1       642.46        4/10/2018     4/27/2018         17                    0  \n",
       "2       644.24         4/9/2018     5/10/2018         31                    0  \n",
       "3       300.00         4/9/2018     4/20/2018         11                    0  \n",
       "4       235.30         4/9/2018     4/30/2018         21                    0  \n",
       "5       300.00         4/9/2018     4/25/2018         16                    0  \n",
       "6       235.30         4/9/2018     4/27/2018         18                    0  \n",
       "7       117.65         4/9/2018     4/18/2018          9                    0  \n",
       "8       117.65         4/9/2018     4/27/2018         18                    0  \n",
       "9       641.91         4/9/2018     4/23/2018         14                    0  "
      ]
     },
     "execution_count": 441,
     "metadata": {},
     "output_type": "execute_result"
    }
   ],
   "source": [
    "predictedData['FirstPaymentDefault'] = svm_radial.predict(Y)\n",
    "predictedData.head(10)"
   ]
  },
  {
   "cell_type": "code",
   "execution_count": 443,
   "metadata": {},
   "outputs": [
    {
     "data": {
      "text/html": [
       "<div>\n",
       "<style scoped>\n",
       "    .dataframe tbody tr th:only-of-type {\n",
       "        vertical-align: middle;\n",
       "    }\n",
       "\n",
       "    .dataframe tbody tr th {\n",
       "        vertical-align: top;\n",
       "    }\n",
       "\n",
       "    .dataframe thead th {\n",
       "        text-align: right;\n",
       "    }\n",
       "</style>\n",
       "<table border=\"1\" class=\"dataframe\">\n",
       "  <thead>\n",
       "    <tr style=\"text-align: right;\">\n",
       "      <th></th>\n",
       "      <th>SetID</th>\n",
       "      <th>Time of Application</th>\n",
       "      <th>State</th>\n",
       "      <th>Monthly Net Income</th>\n",
       "      <th>Paycheck Net Income</th>\n",
       "      <th>Rent or Own</th>\n",
       "      <th>Months at Residence</th>\n",
       "      <th>Bank Account Months</th>\n",
       "      <th>Pay Cycle</th>\n",
       "      <th>Loan Amount</th>\n",
       "      <th>Loan Funded Date</th>\n",
       "      <th>Loan Due Date</th>\n",
       "      <th>Time_Diff</th>\n",
       "      <th>FirstPaymentDefault</th>\n",
       "    </tr>\n",
       "  </thead>\n",
       "  <tbody>\n",
       "    <tr>\n",
       "      <th>0</th>\n",
       "      <td>True</td>\n",
       "      <td>2018-04-09T23:25:18Z</td>\n",
       "      <td>CA</td>\n",
       "      <td>1894.0</td>\n",
       "      <td>947.0</td>\n",
       "      <td>R</td>\n",
       "      <td>8</td>\n",
       "      <td>30</td>\n",
       "      <td>BiWeekly</td>\n",
       "      <td>300.00</td>\n",
       "      <td>4/10/2018</td>\n",
       "      <td>4/20/2018</td>\n",
       "      <td>10</td>\n",
       "      <td>False</td>\n",
       "    </tr>\n",
       "    <tr>\n",
       "      <th>1</th>\n",
       "      <td>4</td>\n",
       "      <td>2018-04-09T20:34:56Z</td>\n",
       "      <td>TX</td>\n",
       "      <td>5000.0</td>\n",
       "      <td>5000.0</td>\n",
       "      <td>O</td>\n",
       "      <td>36</td>\n",
       "      <td>36</td>\n",
       "      <td>Monthly</td>\n",
       "      <td>642.46</td>\n",
       "      <td>4/10/2018</td>\n",
       "      <td>4/27/2018</td>\n",
       "      <td>17</td>\n",
       "      <td>False</td>\n",
       "    </tr>\n",
       "    <tr>\n",
       "      <th>2</th>\n",
       "      <td>14</td>\n",
       "      <td>2018-04-09T17:41:37Z</td>\n",
       "      <td>TX</td>\n",
       "      <td>2500.0</td>\n",
       "      <td>2500.0</td>\n",
       "      <td>O</td>\n",
       "      <td>108</td>\n",
       "      <td>6</td>\n",
       "      <td>Monthly</td>\n",
       "      <td>644.24</td>\n",
       "      <td>4/9/2018</td>\n",
       "      <td>5/10/2018</td>\n",
       "      <td>31</td>\n",
       "      <td>False</td>\n",
       "    </tr>\n",
       "    <tr>\n",
       "      <th>3</th>\n",
       "      <td>19</td>\n",
       "      <td>2018-04-09T16:33:35Z</td>\n",
       "      <td>CA</td>\n",
       "      <td>2902.0</td>\n",
       "      <td>1451.0</td>\n",
       "      <td>R</td>\n",
       "      <td>48</td>\n",
       "      <td>36</td>\n",
       "      <td>BiWeekly</td>\n",
       "      <td>300.00</td>\n",
       "      <td>4/9/2018</td>\n",
       "      <td>4/20/2018</td>\n",
       "      <td>11</td>\n",
       "      <td>False</td>\n",
       "    </tr>\n",
       "    <tr>\n",
       "      <th>4</th>\n",
       "      <td>28</td>\n",
       "      <td>2018-04-09T14:51:15Z</td>\n",
       "      <td>CA</td>\n",
       "      <td>5000.0</td>\n",
       "      <td>5000.0</td>\n",
       "      <td>R</td>\n",
       "      <td>12</td>\n",
       "      <td>12</td>\n",
       "      <td>Monthly</td>\n",
       "      <td>235.30</td>\n",
       "      <td>4/9/2018</td>\n",
       "      <td>4/30/2018</td>\n",
       "      <td>21</td>\n",
       "      <td>False</td>\n",
       "    </tr>\n",
       "    <tr>\n",
       "      <th>5</th>\n",
       "      <td>37</td>\n",
       "      <td>2018-04-09T13:01:38Z</td>\n",
       "      <td>CA</td>\n",
       "      <td>3500.0</td>\n",
       "      <td>1750.0</td>\n",
       "      <td>R</td>\n",
       "      <td>12</td>\n",
       "      <td>12</td>\n",
       "      <td>BiMonthly</td>\n",
       "      <td>300.00</td>\n",
       "      <td>4/9/2018</td>\n",
       "      <td>4/25/2018</td>\n",
       "      <td>16</td>\n",
       "      <td>False</td>\n",
       "    </tr>\n",
       "    <tr>\n",
       "      <th>6</th>\n",
       "      <td>41</td>\n",
       "      <td>2018-04-09T12:02:01Z</td>\n",
       "      <td>CA</td>\n",
       "      <td>3000.0</td>\n",
       "      <td>1500.0</td>\n",
       "      <td>R</td>\n",
       "      <td>120</td>\n",
       "      <td>30</td>\n",
       "      <td>BiMonthly</td>\n",
       "      <td>235.30</td>\n",
       "      <td>4/9/2018</td>\n",
       "      <td>4/27/2018</td>\n",
       "      <td>18</td>\n",
       "      <td>False</td>\n",
       "    </tr>\n",
       "    <tr>\n",
       "      <th>7</th>\n",
       "      <td>45</td>\n",
       "      <td>2018-04-09T11:37:54Z</td>\n",
       "      <td>CA</td>\n",
       "      <td>5000.0</td>\n",
       "      <td>2500.0</td>\n",
       "      <td>O</td>\n",
       "      <td>108</td>\n",
       "      <td>6</td>\n",
       "      <td>BiWeekly</td>\n",
       "      <td>117.65</td>\n",
       "      <td>4/9/2018</td>\n",
       "      <td>4/18/2018</td>\n",
       "      <td>9</td>\n",
       "      <td>False</td>\n",
       "    </tr>\n",
       "    <tr>\n",
       "      <th>8</th>\n",
       "      <td>46</td>\n",
       "      <td>2018-04-09T11:34:34Z</td>\n",
       "      <td>CA</td>\n",
       "      <td>1820.0</td>\n",
       "      <td>910.0</td>\n",
       "      <td>R</td>\n",
       "      <td>12</td>\n",
       "      <td>36</td>\n",
       "      <td>BiWeekly</td>\n",
       "      <td>117.65</td>\n",
       "      <td>4/9/2018</td>\n",
       "      <td>4/27/2018</td>\n",
       "      <td>18</td>\n",
       "      <td>False</td>\n",
       "    </tr>\n",
       "    <tr>\n",
       "      <th>9</th>\n",
       "      <td>51</td>\n",
       "      <td>2018-04-09T11:06:47Z</td>\n",
       "      <td>TX</td>\n",
       "      <td>3000.0</td>\n",
       "      <td>3000.0</td>\n",
       "      <td>R</td>\n",
       "      <td>24</td>\n",
       "      <td>24</td>\n",
       "      <td>Monthly</td>\n",
       "      <td>641.91</td>\n",
       "      <td>4/9/2018</td>\n",
       "      <td>4/23/2018</td>\n",
       "      <td>14</td>\n",
       "      <td>False</td>\n",
       "    </tr>\n",
       "  </tbody>\n",
       "</table>\n",
       "</div>"
      ],
      "text/plain": [
       "  SetID   Time of Application State  Monthly Net Income  Paycheck Net Income  \\\n",
       "0  True  2018-04-09T23:25:18Z    CA              1894.0                947.0   \n",
       "1     4  2018-04-09T20:34:56Z    TX              5000.0               5000.0   \n",
       "2    14  2018-04-09T17:41:37Z    TX              2500.0               2500.0   \n",
       "3    19  2018-04-09T16:33:35Z    CA              2902.0               1451.0   \n",
       "4    28  2018-04-09T14:51:15Z    CA              5000.0               5000.0   \n",
       "5    37  2018-04-09T13:01:38Z    CA              3500.0               1750.0   \n",
       "6    41  2018-04-09T12:02:01Z    CA              3000.0               1500.0   \n",
       "7    45  2018-04-09T11:37:54Z    CA              5000.0               2500.0   \n",
       "8    46  2018-04-09T11:34:34Z    CA              1820.0                910.0   \n",
       "9    51  2018-04-09T11:06:47Z    TX              3000.0               3000.0   \n",
       "\n",
       "  Rent or Own Months at Residence  Bank Account Months  Pay Cycle  \\\n",
       "0           R                   8                   30   BiWeekly   \n",
       "1           O                  36                   36    Monthly   \n",
       "2           O                 108                    6    Monthly   \n",
       "3           R                  48                   36   BiWeekly   \n",
       "4           R                  12                   12    Monthly   \n",
       "5           R                  12                   12  BiMonthly   \n",
       "6           R                 120                   30  BiMonthly   \n",
       "7           O                 108                    6   BiWeekly   \n",
       "8           R                  12                   36   BiWeekly   \n",
       "9           R                  24                   24    Monthly   \n",
       "\n",
       "   Loan Amount Loan Funded Date Loan Due Date  Time_Diff  FirstPaymentDefault  \n",
       "0       300.00        4/10/2018     4/20/2018         10                False  \n",
       "1       642.46        4/10/2018     4/27/2018         17                False  \n",
       "2       644.24         4/9/2018     5/10/2018         31                False  \n",
       "3       300.00         4/9/2018     4/20/2018         11                False  \n",
       "4       235.30         4/9/2018     4/30/2018         21                False  \n",
       "5       300.00         4/9/2018     4/25/2018         16                False  \n",
       "6       235.30         4/9/2018     4/27/2018         18                False  \n",
       "7       117.65         4/9/2018     4/18/2018          9                False  \n",
       "8       117.65         4/9/2018     4/27/2018         18                False  \n",
       "9       641.91         4/9/2018     4/23/2018         14                False  "
      ]
     },
     "execution_count": 443,
     "metadata": {},
     "output_type": "execute_result"
    }
   ],
   "source": [
    "mymap ={0:False, 1:True}\n",
    "predictedData= predictedData.applymap(lambda s: mymap.get(s) if s in mymap else s)\n",
    "predictedData.head(10)"
   ]
  },
  {
   "cell_type": "code",
   "execution_count": 446,
   "metadata": {},
   "outputs": [
    {
     "data": {
      "text/plain": [
       "False    395\n",
       "True       5\n",
       "Name: FirstPaymentDefault, dtype: int64"
      ]
     },
     "execution_count": 446,
     "metadata": {},
     "output_type": "execute_result"
    }
   ],
   "source": [
    "predictedData['FirstPaymentDefault'].value_counts()"
   ]
  },
  {
   "cell_type": "markdown",
   "metadata": {},
   "source": [
    "###  Hence in test data set there are 395 True and and 5 False predictions using SVM Radial model."
   ]
  }
 ],
 "metadata": {
  "kernelspec": {
   "display_name": "Python 3",
   "language": "python",
   "name": "python3"
  }
 },
 "nbformat": 4,
 "nbformat_minor": 2
}
