{
 "cells": [
  {
   "cell_type": "markdown",
   "metadata": {},
   "source": [
    "### Import Libraries:"
   ]
  },
  {
   "cell_type": "code",
   "execution_count": 1,
   "metadata": {},
   "outputs": [],
   "source": [
    "import pandas as pd\n",
    "import numpy as np\n",
    "import matplotlib.pyplot as plt\n",
    "import seaborn as sns\n",
    "from sklearn import preprocessing\n",
    "%matplotlib inline\n",
    "pd.set_option('display.max_rows', 500)\n",
    "pd.set_option('display.max_columns', 500)"
   ]
  },
  {
   "cell_type": "markdown",
   "metadata": {},
   "source": [
    "### Read the Dataset:"
   ]
  },
  {
   "cell_type": "code",
   "execution_count": 2,
   "metadata": {},
   "outputs": [
    {
     "data": {
      "text/html": [
       "<div>\n",
       "<style scoped>\n",
       "    .dataframe tbody tr th:only-of-type {\n",
       "        vertical-align: middle;\n",
       "    }\n",
       "\n",
       "    .dataframe tbody tr th {\n",
       "        vertical-align: top;\n",
       "    }\n",
       "\n",
       "    .dataframe thead th {\n",
       "        text-align: right;\n",
       "    }\n",
       "</style>\n",
       "<table border=\"1\" class=\"dataframe\">\n",
       "  <thead>\n",
       "    <tr style=\"text-align: right;\">\n",
       "      <th></th>\n",
       "      <th>SetID</th>\n",
       "      <th>Time of Application</th>\n",
       "      <th>State</th>\n",
       "      <th>Monthly Net Income</th>\n",
       "      <th>Paycheck Net Income</th>\n",
       "      <th>Rent or Own</th>\n",
       "      <th>Months at Residence</th>\n",
       "      <th>Bank Account Months</th>\n",
       "      <th>Pay Cycle</th>\n",
       "      <th>Loan Amount</th>\n",
       "      <th>Loan Funded Date</th>\n",
       "      <th>Loan Due Date</th>\n",
       "      <th>First Payment Default</th>\n",
       "    </tr>\n",
       "  </thead>\n",
       "  <tbody>\n",
       "    <tr>\n",
       "      <th>0</th>\n",
       "      <td>436</td>\n",
       "      <td>2018-03-28T17:27:35Z</td>\n",
       "      <td>CA</td>\n",
       "      <td>2000.0</td>\n",
       "      <td>2000.0</td>\n",
       "      <td>R</td>\n",
       "      <td>12</td>\n",
       "      <td>6</td>\n",
       "      <td>Monthly</td>\n",
       "      <td>300.00</td>\n",
       "      <td>2018-03-28</td>\n",
       "      <td>2018-04-11</td>\n",
       "      <td>False</td>\n",
       "    </tr>\n",
       "    <tr>\n",
       "      <th>1</th>\n",
       "      <td>615</td>\n",
       "      <td>2018-03-23T13:19:32Z</td>\n",
       "      <td>TX</td>\n",
       "      <td>3500.0</td>\n",
       "      <td>3500.0</td>\n",
       "      <td>R</td>\n",
       "      <td>60</td>\n",
       "      <td>60</td>\n",
       "      <td>Monthly</td>\n",
       "      <td>641.91</td>\n",
       "      <td>2018-03-23</td>\n",
       "      <td>2018-04-06</td>\n",
       "      <td>False</td>\n",
       "    </tr>\n",
       "    <tr>\n",
       "      <th>2</th>\n",
       "      <td>1251</td>\n",
       "      <td>2018-02-28T12:04:56Z</td>\n",
       "      <td>CA</td>\n",
       "      <td>3000.0</td>\n",
       "      <td>3000.0</td>\n",
       "      <td>R</td>\n",
       "      <td>0</td>\n",
       "      <td>6</td>\n",
       "      <td>Monthly</td>\n",
       "      <td>117.65</td>\n",
       "      <td>2018-02-28</td>\n",
       "      <td>2018-03-30</td>\n",
       "      <td>True</td>\n",
       "    </tr>\n",
       "    <tr>\n",
       "      <th>3</th>\n",
       "      <td>440</td>\n",
       "      <td>2018-03-28T15:47:59Z</td>\n",
       "      <td>CA</td>\n",
       "      <td>1500.0</td>\n",
       "      <td>1500.0</td>\n",
       "      <td>R</td>\n",
       "      <td>12</td>\n",
       "      <td>6</td>\n",
       "      <td>Monthly</td>\n",
       "      <td>117.65</td>\n",
       "      <td>2018-03-28</td>\n",
       "      <td>2018-04-28</td>\n",
       "      <td>False</td>\n",
       "    </tr>\n",
       "    <tr>\n",
       "      <th>4</th>\n",
       "      <td>1692</td>\n",
       "      <td>2018-02-13T04:36:00Z</td>\n",
       "      <td>CA</td>\n",
       "      <td>2392.0</td>\n",
       "      <td>598.0</td>\n",
       "      <td>R</td>\n",
       "      <td>130</td>\n",
       "      <td>36</td>\n",
       "      <td>Weekly</td>\n",
       "      <td>300.00</td>\n",
       "      <td>2018-02-13</td>\n",
       "      <td>2018-02-23</td>\n",
       "      <td>False</td>\n",
       "    </tr>\n",
       "  </tbody>\n",
       "</table>\n",
       "</div>"
      ],
      "text/plain": [
       "   SetID   Time of Application State  Monthly Net Income  Paycheck Net Income  \\\n",
       "0    436  2018-03-28T17:27:35Z    CA              2000.0               2000.0   \n",
       "1    615  2018-03-23T13:19:32Z    TX              3500.0               3500.0   \n",
       "2   1251  2018-02-28T12:04:56Z    CA              3000.0               3000.0   \n",
       "3    440  2018-03-28T15:47:59Z    CA              1500.0               1500.0   \n",
       "4   1692  2018-02-13T04:36:00Z    CA              2392.0                598.0   \n",
       "\n",
       "  Rent or Own  Months at Residence  Bank Account Months Pay Cycle  \\\n",
       "0           R                   12                    6   Monthly   \n",
       "1           R                   60                   60   Monthly   \n",
       "2           R                    0                    6   Monthly   \n",
       "3           R                   12                    6   Monthly   \n",
       "4           R                  130                   36    Weekly   \n",
       "\n",
       "   Loan Amount Loan Funded Date Loan Due Date  First Payment Default  \n",
       "0       300.00       2018-03-28    2018-04-11                  False  \n",
       "1       641.91       2018-03-23    2018-04-06                  False  \n",
       "2       117.65       2018-02-28    2018-03-30                   True  \n",
       "3       117.65       2018-03-28    2018-04-28                  False  \n",
       "4       300.00       2018-02-13    2018-02-23                  False  "
      ]
     },
     "execution_count": 2,
     "metadata": {},
     "output_type": "execute_result"
    }
   ],
   "source": [
    "train = pd.read_csv(\"sample_train.csv\")\n",
    "train.head()"
   ]
  },
  {
   "cell_type": "markdown",
   "metadata": {},
   "source": [
    "### Rename the columns:"
   ]
  },
  {
   "cell_type": "code",
   "execution_count": 3,
   "metadata": {},
   "outputs": [],
   "source": [
    "train.rename(columns={'First Payment Default': 'First_Payment_Default','Loan Due Date': 'Loan_Due_Date',\n",
    "                  'Loan Funded Date': 'Loan_Funded_Date','Pay Cycle': 'Pay_Cycle','Rent or Own': 'Rent_or_Own',\n",
    "                  'Bank Account Months': 'Bank_Account_Months','Loan Amount': 'Loan_Amount',\n",
    "                  'Monthly Net Income': 'Monthly_Net_Income','Months at Residence': 'Months_at_Residence',\n",
    "                  'Paycheck Net Income': 'Paycheck_Net_Income'}, inplace=True)"
   ]
  },
  {
   "cell_type": "code",
   "execution_count": 4,
   "metadata": {},
   "outputs": [
    {
     "data": {
      "text/plain": [
       "(1600, 13)"
      ]
     },
     "execution_count": 4,
     "metadata": {},
     "output_type": "execute_result"
    }
   ],
   "source": [
    "train.shape"
   ]
  },
  {
   "cell_type": "code",
   "execution_count": 5,
   "metadata": {},
   "outputs": [
    {
     "name": "stdout",
     "output_type": "stream",
     "text": [
      "<class 'pandas.core.frame.DataFrame'>\n",
      "RangeIndex: 1600 entries, 0 to 1599\n",
      "Data columns (total 13 columns):\n",
      "SetID                    1600 non-null int64\n",
      "Time of Application      1600 non-null object\n",
      "State                    1600 non-null object\n",
      "Monthly_Net_Income       1600 non-null float64\n",
      "Paycheck_Net_Income      1600 non-null float64\n",
      "Rent_or_Own              1600 non-null object\n",
      "Months_at_Residence      1600 non-null int64\n",
      "Bank_Account_Months      1600 non-null int64\n",
      "Pay_Cycle                1600 non-null object\n",
      "Loan_Amount              1600 non-null float64\n",
      "Loan_Funded_Date         1600 non-null object\n",
      "Loan_Due_Date            1600 non-null object\n",
      "First_Payment_Default    1600 non-null bool\n",
      "dtypes: bool(1), float64(3), int64(3), object(6)\n",
      "memory usage: 151.6+ KB\n"
     ]
    }
   ],
   "source": [
    "train.info()"
   ]
  },
  {
   "cell_type": "markdown",
   "metadata": {},
   "source": [
    "### Convert Object type to Datetime and extract Month, Day and Hour:"
   ]
  },
  {
   "cell_type": "code",
   "execution_count": 6,
   "metadata": {},
   "outputs": [],
   "source": [
    "train[\"Time_of_application\"] = pd.to_datetime(train['Time of Application'])# removes alphabet (A->a)"
   ]
  },
  {
   "cell_type": "code",
   "execution_count": 7,
   "metadata": {},
   "outputs": [
    {
     "data": {
      "text/html": [
       "<div>\n",
       "<style scoped>\n",
       "    .dataframe tbody tr th:only-of-type {\n",
       "        vertical-align: middle;\n",
       "    }\n",
       "\n",
       "    .dataframe tbody tr th {\n",
       "        vertical-align: top;\n",
       "    }\n",
       "\n",
       "    .dataframe thead th {\n",
       "        text-align: right;\n",
       "    }\n",
       "</style>\n",
       "<table border=\"1\" class=\"dataframe\">\n",
       "  <thead>\n",
       "    <tr style=\"text-align: right;\">\n",
       "      <th></th>\n",
       "      <th>SetID</th>\n",
       "      <th>Time of Application</th>\n",
       "      <th>State</th>\n",
       "      <th>Monthly_Net_Income</th>\n",
       "      <th>Paycheck_Net_Income</th>\n",
       "      <th>Rent_or_Own</th>\n",
       "      <th>Months_at_Residence</th>\n",
       "      <th>Bank_Account_Months</th>\n",
       "      <th>Pay_Cycle</th>\n",
       "      <th>Loan_Amount</th>\n",
       "      <th>Loan_Funded_Date</th>\n",
       "      <th>Loan_Due_Date</th>\n",
       "      <th>First_Payment_Default</th>\n",
       "      <th>Time_of_application</th>\n",
       "    </tr>\n",
       "  </thead>\n",
       "  <tbody>\n",
       "    <tr>\n",
       "      <th>0</th>\n",
       "      <td>436</td>\n",
       "      <td>2018-03-28T17:27:35Z</td>\n",
       "      <td>CA</td>\n",
       "      <td>2000.0</td>\n",
       "      <td>2000.0</td>\n",
       "      <td>R</td>\n",
       "      <td>12</td>\n",
       "      <td>6</td>\n",
       "      <td>Monthly</td>\n",
       "      <td>300.00</td>\n",
       "      <td>2018-03-28</td>\n",
       "      <td>2018-04-11</td>\n",
       "      <td>False</td>\n",
       "      <td>2018-03-28 17:27:35</td>\n",
       "    </tr>\n",
       "    <tr>\n",
       "      <th>1</th>\n",
       "      <td>615</td>\n",
       "      <td>2018-03-23T13:19:32Z</td>\n",
       "      <td>TX</td>\n",
       "      <td>3500.0</td>\n",
       "      <td>3500.0</td>\n",
       "      <td>R</td>\n",
       "      <td>60</td>\n",
       "      <td>60</td>\n",
       "      <td>Monthly</td>\n",
       "      <td>641.91</td>\n",
       "      <td>2018-03-23</td>\n",
       "      <td>2018-04-06</td>\n",
       "      <td>False</td>\n",
       "      <td>2018-03-23 13:19:32</td>\n",
       "    </tr>\n",
       "  </tbody>\n",
       "</table>\n",
       "</div>"
      ],
      "text/plain": [
       "   SetID   Time of Application State  Monthly_Net_Income  Paycheck_Net_Income  \\\n",
       "0    436  2018-03-28T17:27:35Z    CA              2000.0               2000.0   \n",
       "1    615  2018-03-23T13:19:32Z    TX              3500.0               3500.0   \n",
       "\n",
       "  Rent_or_Own  Months_at_Residence  Bank_Account_Months Pay_Cycle  \\\n",
       "0           R                   12                    6   Monthly   \n",
       "1           R                   60                   60   Monthly   \n",
       "\n",
       "   Loan_Amount Loan_Funded_Date Loan_Due_Date  First_Payment_Default  \\\n",
       "0       300.00       2018-03-28    2018-04-11                  False   \n",
       "1       641.91       2018-03-23    2018-04-06                  False   \n",
       "\n",
       "  Time_of_application  \n",
       "0 2018-03-28 17:27:35  \n",
       "1 2018-03-23 13:19:32  "
      ]
     },
     "execution_count": 7,
     "metadata": {},
     "output_type": "execute_result"
    }
   ],
   "source": [
    "train.head(2)"
   ]
  },
  {
   "cell_type": "code",
   "execution_count": 8,
   "metadata": {},
   "outputs": [],
   "source": [
    "## Drop the original 'Time of Application' column\n",
    "train = train.drop(['Time of Application'], axis =1)"
   ]
  },
  {
   "cell_type": "code",
   "execution_count": 9,
   "metadata": {},
   "outputs": [
    {
     "data": {
      "text/html": [
       "<div>\n",
       "<style scoped>\n",
       "    .dataframe tbody tr th:only-of-type {\n",
       "        vertical-align: middle;\n",
       "    }\n",
       "\n",
       "    .dataframe tbody tr th {\n",
       "        vertical-align: top;\n",
       "    }\n",
       "\n",
       "    .dataframe thead th {\n",
       "        text-align: right;\n",
       "    }\n",
       "</style>\n",
       "<table border=\"1\" class=\"dataframe\">\n",
       "  <thead>\n",
       "    <tr style=\"text-align: right;\">\n",
       "      <th></th>\n",
       "      <th>SetID</th>\n",
       "      <th>State</th>\n",
       "      <th>Monthly_Net_Income</th>\n",
       "      <th>Paycheck_Net_Income</th>\n",
       "      <th>Rent_or_Own</th>\n",
       "      <th>Months_at_Residence</th>\n",
       "      <th>Bank_Account_Months</th>\n",
       "      <th>Pay_Cycle</th>\n",
       "      <th>Loan_Amount</th>\n",
       "      <th>Loan_Funded_Date</th>\n",
       "      <th>Loan_Due_Date</th>\n",
       "      <th>First_Payment_Default</th>\n",
       "      <th>Time_of_application</th>\n",
       "    </tr>\n",
       "  </thead>\n",
       "  <tbody>\n",
       "    <tr>\n",
       "      <th>0</th>\n",
       "      <td>436</td>\n",
       "      <td>CA</td>\n",
       "      <td>2000.0</td>\n",
       "      <td>2000.0</td>\n",
       "      <td>R</td>\n",
       "      <td>12</td>\n",
       "      <td>6</td>\n",
       "      <td>Monthly</td>\n",
       "      <td>300.00</td>\n",
       "      <td>2018-03-28</td>\n",
       "      <td>2018-04-11</td>\n",
       "      <td>False</td>\n",
       "      <td>2018-03-28 17:27:35</td>\n",
       "    </tr>\n",
       "    <tr>\n",
       "      <th>1</th>\n",
       "      <td>615</td>\n",
       "      <td>TX</td>\n",
       "      <td>3500.0</td>\n",
       "      <td>3500.0</td>\n",
       "      <td>R</td>\n",
       "      <td>60</td>\n",
       "      <td>60</td>\n",
       "      <td>Monthly</td>\n",
       "      <td>641.91</td>\n",
       "      <td>2018-03-23</td>\n",
       "      <td>2018-04-06</td>\n",
       "      <td>False</td>\n",
       "      <td>2018-03-23 13:19:32</td>\n",
       "    </tr>\n",
       "  </tbody>\n",
       "</table>\n",
       "</div>"
      ],
      "text/plain": [
       "   SetID State  Monthly_Net_Income  Paycheck_Net_Income Rent_or_Own  \\\n",
       "0    436    CA              2000.0               2000.0           R   \n",
       "1    615    TX              3500.0               3500.0           R   \n",
       "\n",
       "   Months_at_Residence  Bank_Account_Months Pay_Cycle  Loan_Amount  \\\n",
       "0                   12                    6   Monthly       300.00   \n",
       "1                   60                   60   Monthly       641.91   \n",
       "\n",
       "  Loan_Funded_Date Loan_Due_Date  First_Payment_Default Time_of_application  \n",
       "0       2018-03-28    2018-04-11                  False 2018-03-28 17:27:35  \n",
       "1       2018-03-23    2018-04-06                  False 2018-03-23 13:19:32  "
      ]
     },
     "execution_count": 9,
     "metadata": {},
     "output_type": "execute_result"
    }
   ],
   "source": [
    "train.head(2)"
   ]
  },
  {
   "cell_type": "code",
   "execution_count": 10,
   "metadata": {},
   "outputs": [],
   "source": [
    "train['Month_only']= train['Time_of_application'].dt.month\n",
    "train['Day_only']= train['Time_of_application'].dt.day\n",
    "train['Hour_only']= train['Time_of_application'].dt.hour"
   ]
  },
  {
   "cell_type": "code",
   "execution_count": 11,
   "metadata": {},
   "outputs": [
    {
     "data": {
      "text/html": [
       "<div>\n",
       "<style scoped>\n",
       "    .dataframe tbody tr th:only-of-type {\n",
       "        vertical-align: middle;\n",
       "    }\n",
       "\n",
       "    .dataframe tbody tr th {\n",
       "        vertical-align: top;\n",
       "    }\n",
       "\n",
       "    .dataframe thead th {\n",
       "        text-align: right;\n",
       "    }\n",
       "</style>\n",
       "<table border=\"1\" class=\"dataframe\">\n",
       "  <thead>\n",
       "    <tr style=\"text-align: right;\">\n",
       "      <th></th>\n",
       "      <th>SetID</th>\n",
       "      <th>State</th>\n",
       "      <th>Monthly_Net_Income</th>\n",
       "      <th>Paycheck_Net_Income</th>\n",
       "      <th>Rent_or_Own</th>\n",
       "      <th>Months_at_Residence</th>\n",
       "      <th>Bank_Account_Months</th>\n",
       "      <th>Pay_Cycle</th>\n",
       "      <th>Loan_Amount</th>\n",
       "      <th>Loan_Funded_Date</th>\n",
       "      <th>Loan_Due_Date</th>\n",
       "      <th>First_Payment_Default</th>\n",
       "      <th>Time_of_application</th>\n",
       "      <th>Month_only</th>\n",
       "      <th>Day_only</th>\n",
       "      <th>Hour_only</th>\n",
       "    </tr>\n",
       "  </thead>\n",
       "  <tbody>\n",
       "    <tr>\n",
       "      <th>0</th>\n",
       "      <td>436</td>\n",
       "      <td>CA</td>\n",
       "      <td>2000.0</td>\n",
       "      <td>2000.0</td>\n",
       "      <td>R</td>\n",
       "      <td>12</td>\n",
       "      <td>6</td>\n",
       "      <td>Monthly</td>\n",
       "      <td>300.00</td>\n",
       "      <td>2018-03-28</td>\n",
       "      <td>2018-04-11</td>\n",
       "      <td>False</td>\n",
       "      <td>2018-03-28 17:27:35</td>\n",
       "      <td>3</td>\n",
       "      <td>28</td>\n",
       "      <td>17</td>\n",
       "    </tr>\n",
       "    <tr>\n",
       "      <th>1</th>\n",
       "      <td>615</td>\n",
       "      <td>TX</td>\n",
       "      <td>3500.0</td>\n",
       "      <td>3500.0</td>\n",
       "      <td>R</td>\n",
       "      <td>60</td>\n",
       "      <td>60</td>\n",
       "      <td>Monthly</td>\n",
       "      <td>641.91</td>\n",
       "      <td>2018-03-23</td>\n",
       "      <td>2018-04-06</td>\n",
       "      <td>False</td>\n",
       "      <td>2018-03-23 13:19:32</td>\n",
       "      <td>3</td>\n",
       "      <td>23</td>\n",
       "      <td>13</td>\n",
       "    </tr>\n",
       "  </tbody>\n",
       "</table>\n",
       "</div>"
      ],
      "text/plain": [
       "   SetID State  Monthly_Net_Income  Paycheck_Net_Income Rent_or_Own  \\\n",
       "0    436    CA              2000.0               2000.0           R   \n",
       "1    615    TX              3500.0               3500.0           R   \n",
       "\n",
       "   Months_at_Residence  Bank_Account_Months Pay_Cycle  Loan_Amount  \\\n",
       "0                   12                    6   Monthly       300.00   \n",
       "1                   60                   60   Monthly       641.91   \n",
       "\n",
       "  Loan_Funded_Date Loan_Due_Date  First_Payment_Default Time_of_application  \\\n",
       "0       2018-03-28    2018-04-11                  False 2018-03-28 17:27:35   \n",
       "1       2018-03-23    2018-04-06                  False 2018-03-23 13:19:32   \n",
       "\n",
       "   Month_only  Day_only  Hour_only  \n",
       "0           3        28         17  \n",
       "1           3        23         13  "
      ]
     },
     "execution_count": 11,
     "metadata": {},
     "output_type": "execute_result"
    }
   ],
   "source": [
    "train.head(2)"
   ]
  },
  {
   "cell_type": "markdown",
   "metadata": {},
   "source": [
    "### Flag Variable:"
   ]
  },
  {
   "cell_type": "code",
   "execution_count": 12,
   "metadata": {},
   "outputs": [
    {
     "data": {
      "text/html": [
       "<div>\n",
       "<style scoped>\n",
       "    .dataframe tbody tr th:only-of-type {\n",
       "        vertical-align: middle;\n",
       "    }\n",
       "\n",
       "    .dataframe tbody tr th {\n",
       "        vertical-align: top;\n",
       "    }\n",
       "\n",
       "    .dataframe thead th {\n",
       "        text-align: right;\n",
       "    }\n",
       "</style>\n",
       "<table border=\"1\" class=\"dataframe\">\n",
       "  <thead>\n",
       "    <tr style=\"text-align: right;\">\n",
       "      <th></th>\n",
       "      <th>SetID</th>\n",
       "      <th>State</th>\n",
       "      <th>Monthly_Net_Income</th>\n",
       "      <th>Paycheck_Net_Income</th>\n",
       "      <th>Rent_or_Own</th>\n",
       "      <th>Months_at_Residence</th>\n",
       "      <th>Bank_Account_Months</th>\n",
       "      <th>Pay_Cycle</th>\n",
       "      <th>Loan_Amount</th>\n",
       "      <th>Loan_Funded_Date</th>\n",
       "      <th>Loan_Due_Date</th>\n",
       "      <th>First_Payment_Default</th>\n",
       "      <th>Time_of_application</th>\n",
       "      <th>Month_only</th>\n",
       "      <th>Day_only</th>\n",
       "      <th>Hour_only</th>\n",
       "      <th>time_part_only</th>\n",
       "      <th>application_time_flag</th>\n",
       "    </tr>\n",
       "  </thead>\n",
       "  <tbody>\n",
       "    <tr>\n",
       "      <th>0</th>\n",
       "      <td>436</td>\n",
       "      <td>CA</td>\n",
       "      <td>2000.0</td>\n",
       "      <td>2000.0</td>\n",
       "      <td>R</td>\n",
       "      <td>12</td>\n",
       "      <td>6</td>\n",
       "      <td>Monthly</td>\n",
       "      <td>300.00</td>\n",
       "      <td>2018-03-28</td>\n",
       "      <td>2018-04-11</td>\n",
       "      <td>False</td>\n",
       "      <td>2018-03-28 17:27:35</td>\n",
       "      <td>3</td>\n",
       "      <td>28</td>\n",
       "      <td>17</td>\n",
       "      <td>17:27:35</td>\n",
       "      <td>1</td>\n",
       "    </tr>\n",
       "    <tr>\n",
       "      <th>1</th>\n",
       "      <td>615</td>\n",
       "      <td>TX</td>\n",
       "      <td>3500.0</td>\n",
       "      <td>3500.0</td>\n",
       "      <td>R</td>\n",
       "      <td>60</td>\n",
       "      <td>60</td>\n",
       "      <td>Monthly</td>\n",
       "      <td>641.91</td>\n",
       "      <td>2018-03-23</td>\n",
       "      <td>2018-04-06</td>\n",
       "      <td>False</td>\n",
       "      <td>2018-03-23 13:19:32</td>\n",
       "      <td>3</td>\n",
       "      <td>23</td>\n",
       "      <td>13</td>\n",
       "      <td>13:19:32</td>\n",
       "      <td>1</td>\n",
       "    </tr>\n",
       "  </tbody>\n",
       "</table>\n",
       "</div>"
      ],
      "text/plain": [
       "   SetID State  Monthly_Net_Income  Paycheck_Net_Income Rent_or_Own  \\\n",
       "0    436    CA              2000.0               2000.0           R   \n",
       "1    615    TX              3500.0               3500.0           R   \n",
       "\n",
       "   Months_at_Residence  Bank_Account_Months Pay_Cycle  Loan_Amount  \\\n",
       "0                   12                    6   Monthly       300.00   \n",
       "1                   60                   60   Monthly       641.91   \n",
       "\n",
       "  Loan_Funded_Date Loan_Due_Date  First_Payment_Default Time_of_application  \\\n",
       "0       2018-03-28    2018-04-11                  False 2018-03-28 17:27:35   \n",
       "1       2018-03-23    2018-04-06                  False 2018-03-23 13:19:32   \n",
       "\n",
       "   Month_only  Day_only  Hour_only time_part_only  application_time_flag  \n",
       "0           3        28         17       17:27:35                      1  \n",
       "1           3        23         13       13:19:32                      1  "
      ]
     },
     "execution_count": 12,
     "metadata": {},
     "output_type": "execute_result"
    }
   ],
   "source": [
    "train['time_part_only']= pd.to_datetime(train['Time_of_application'], format = '%H:%M:%S').dt.time.astype(str)\n",
    "train['application_time_flag']= train['time_part_only'].apply(lambda x: 1 if x >= '08:00:00' and x <= '18:00:00' else (0))\n",
    "train.head(2)"
   ]
  },
  {
   "cell_type": "code",
   "execution_count": 13,
   "metadata": {},
   "outputs": [
    {
     "data": {
      "text/html": [
       "<div>\n",
       "<style scoped>\n",
       "    .dataframe tbody tr th:only-of-type {\n",
       "        vertical-align: middle;\n",
       "    }\n",
       "\n",
       "    .dataframe tbody tr th {\n",
       "        vertical-align: top;\n",
       "    }\n",
       "\n",
       "    .dataframe thead th {\n",
       "        text-align: right;\n",
       "    }\n",
       "</style>\n",
       "<table border=\"1\" class=\"dataframe\">\n",
       "  <thead>\n",
       "    <tr style=\"text-align: right;\">\n",
       "      <th></th>\n",
       "      <th>SetID</th>\n",
       "      <th>State</th>\n",
       "      <th>Monthly_Net_Income</th>\n",
       "      <th>Paycheck_Net_Income</th>\n",
       "      <th>Rent_or_Own</th>\n",
       "      <th>Months_at_Residence</th>\n",
       "      <th>Bank_Account_Months</th>\n",
       "      <th>Pay_Cycle</th>\n",
       "      <th>Loan_Amount</th>\n",
       "      <th>Loan_Funded_Date</th>\n",
       "      <th>Loan_Due_Date</th>\n",
       "      <th>First_Payment_Default</th>\n",
       "      <th>Time_of_application</th>\n",
       "      <th>Month_only</th>\n",
       "      <th>Day_only</th>\n",
       "      <th>Hour_only</th>\n",
       "      <th>application_time_flag</th>\n",
       "    </tr>\n",
       "  </thead>\n",
       "  <tbody>\n",
       "    <tr>\n",
       "      <th>0</th>\n",
       "      <td>436</td>\n",
       "      <td>CA</td>\n",
       "      <td>2000.0</td>\n",
       "      <td>2000.0</td>\n",
       "      <td>R</td>\n",
       "      <td>12</td>\n",
       "      <td>6</td>\n",
       "      <td>Monthly</td>\n",
       "      <td>300.00</td>\n",
       "      <td>2018-03-28</td>\n",
       "      <td>2018-04-11</td>\n",
       "      <td>False</td>\n",
       "      <td>2018-03-28 17:27:35</td>\n",
       "      <td>3</td>\n",
       "      <td>28</td>\n",
       "      <td>17</td>\n",
       "      <td>1</td>\n",
       "    </tr>\n",
       "    <tr>\n",
       "      <th>1</th>\n",
       "      <td>615</td>\n",
       "      <td>TX</td>\n",
       "      <td>3500.0</td>\n",
       "      <td>3500.0</td>\n",
       "      <td>R</td>\n",
       "      <td>60</td>\n",
       "      <td>60</td>\n",
       "      <td>Monthly</td>\n",
       "      <td>641.91</td>\n",
       "      <td>2018-03-23</td>\n",
       "      <td>2018-04-06</td>\n",
       "      <td>False</td>\n",
       "      <td>2018-03-23 13:19:32</td>\n",
       "      <td>3</td>\n",
       "      <td>23</td>\n",
       "      <td>13</td>\n",
       "      <td>1</td>\n",
       "    </tr>\n",
       "  </tbody>\n",
       "</table>\n",
       "</div>"
      ],
      "text/plain": [
       "   SetID State  Monthly_Net_Income  Paycheck_Net_Income Rent_or_Own  \\\n",
       "0    436    CA              2000.0               2000.0           R   \n",
       "1    615    TX              3500.0               3500.0           R   \n",
       "\n",
       "   Months_at_Residence  Bank_Account_Months Pay_Cycle  Loan_Amount  \\\n",
       "0                   12                    6   Monthly       300.00   \n",
       "1                   60                   60   Monthly       641.91   \n",
       "\n",
       "  Loan_Funded_Date Loan_Due_Date  First_Payment_Default Time_of_application  \\\n",
       "0       2018-03-28    2018-04-11                  False 2018-03-28 17:27:35   \n",
       "1       2018-03-23    2018-04-06                  False 2018-03-23 13:19:32   \n",
       "\n",
       "   Month_only  Day_only  Hour_only  application_time_flag  \n",
       "0           3        28         17                      1  \n",
       "1           3        23         13                      1  "
      ]
     },
     "execution_count": 13,
     "metadata": {},
     "output_type": "execute_result"
    }
   ],
   "source": [
    "# drop time_part_only column\n",
    "train = train.drop(['time_part_only'], axis =1)\n",
    "train.head(2)"
   ]
  },
  {
   "cell_type": "code",
   "execution_count": 14,
   "metadata": {},
   "outputs": [
    {
     "data": {
      "text/plain": [
       "1    1249\n",
       "0     351\n",
       "Name: application_time_flag, dtype: int64"
      ]
     },
     "execution_count": 14,
     "metadata": {},
     "output_type": "execute_result"
    }
   ],
   "source": [
    "train['application_time_flag'].value_counts()"
   ]
  },
  {
   "cell_type": "markdown",
   "metadata": {},
   "source": [
    "### Data Pre Processing:"
   ]
  },
  {
   "cell_type": "markdown",
   "metadata": {},
   "source": [
    "#### Check for Duplicates ID:"
   ]
  },
  {
   "cell_type": "code",
   "execution_count": 15,
   "metadata": {},
   "outputs": [
    {
     "data": {
      "text/html": [
       "<div>\n",
       "<style scoped>\n",
       "    .dataframe tbody tr th:only-of-type {\n",
       "        vertical-align: middle;\n",
       "    }\n",
       "\n",
       "    .dataframe tbody tr th {\n",
       "        vertical-align: top;\n",
       "    }\n",
       "\n",
       "    .dataframe thead th {\n",
       "        text-align: right;\n",
       "    }\n",
       "</style>\n",
       "<table border=\"1\" class=\"dataframe\">\n",
       "  <thead>\n",
       "    <tr style=\"text-align: right;\">\n",
       "      <th></th>\n",
       "      <th>SetID</th>\n",
       "      <th>State</th>\n",
       "      <th>Monthly_Net_Income</th>\n",
       "      <th>Paycheck_Net_Income</th>\n",
       "      <th>Rent_or_Own</th>\n",
       "      <th>Months_at_Residence</th>\n",
       "      <th>Bank_Account_Months</th>\n",
       "      <th>Pay_Cycle</th>\n",
       "      <th>Loan_Amount</th>\n",
       "      <th>Loan_Funded_Date</th>\n",
       "      <th>Loan_Due_Date</th>\n",
       "      <th>First_Payment_Default</th>\n",
       "      <th>Time_of_application</th>\n",
       "      <th>Month_only</th>\n",
       "      <th>Day_only</th>\n",
       "      <th>Hour_only</th>\n",
       "      <th>application_time_flag</th>\n",
       "    </tr>\n",
       "  </thead>\n",
       "  <tbody>\n",
       "  </tbody>\n",
       "</table>\n",
       "</div>"
      ],
      "text/plain": [
       "Empty DataFrame\n",
       "Columns: [SetID, State, Monthly_Net_Income, Paycheck_Net_Income, Rent_or_Own, Months_at_Residence, Bank_Account_Months, Pay_Cycle, Loan_Amount, Loan_Funded_Date, Loan_Due_Date, First_Payment_Default, Time_of_application, Month_only, Day_only, Hour_only, application_time_flag]\n",
       "Index: []"
      ]
     },
     "execution_count": 15,
     "metadata": {},
     "output_type": "execute_result"
    }
   ],
   "source": [
    "counts = train['SetID'].value_counts()\n",
    "train[train['SetID'].isin(counts.index[counts > 1])]"
   ]
  },
  {
   "cell_type": "markdown",
   "metadata": {},
   "source": [
    "This shows that we dont have any duplicates ID in the dataset, therefore ID is the unique key on the givendataset."
   ]
  },
  {
   "cell_type": "markdown",
   "metadata": {},
   "source": [
    "## Missing value assesment :"
   ]
  },
  {
   "cell_type": "markdown",
   "metadata": {},
   "source": [
    "### Observe data types with missing values"
   ]
  },
  {
   "cell_type": "code",
   "execution_count": 16,
   "metadata": {},
   "outputs": [
    {
     "name": "stdout",
     "output_type": "stream",
     "text": [
      "<class 'pandas.core.frame.DataFrame'>\n",
      "RangeIndex: 1600 entries, 0 to 1599\n",
      "Data columns (total 17 columns):\n",
      "SetID                    1600 non-null int64\n",
      "State                    1600 non-null object\n",
      "Monthly_Net_Income       1600 non-null float64\n",
      "Paycheck_Net_Income      1600 non-null float64\n",
      "Rent_or_Own              1600 non-null object\n",
      "Months_at_Residence      1600 non-null int64\n",
      "Bank_Account_Months      1600 non-null int64\n",
      "Pay_Cycle                1600 non-null object\n",
      "Loan_Amount              1600 non-null float64\n",
      "Loan_Funded_Date         1600 non-null object\n",
      "Loan_Due_Date            1600 non-null object\n",
      "First_Payment_Default    1600 non-null bool\n",
      "Time_of_application      1600 non-null datetime64[ns]\n",
      "Month_only               1600 non-null int64\n",
      "Day_only                 1600 non-null int64\n",
      "Hour_only                1600 non-null int64\n",
      "application_time_flag    1600 non-null int64\n",
      "dtypes: bool(1), datetime64[ns](1), float64(3), int64(7), object(5)\n",
      "memory usage: 201.6+ KB\n"
     ]
    }
   ],
   "source": [
    "train.info()"
   ]
  },
  {
   "cell_type": "code",
   "execution_count": 17,
   "metadata": {},
   "outputs": [
    {
     "data": {
      "text/plain": [
       "SetID                             int64\n",
       "State                            object\n",
       "Monthly_Net_Income              float64\n",
       "Paycheck_Net_Income             float64\n",
       "Rent_or_Own                      object\n",
       "Months_at_Residence               int64\n",
       "Bank_Account_Months               int64\n",
       "Pay_Cycle                        object\n",
       "Loan_Amount                     float64\n",
       "Loan_Funded_Date                 object\n",
       "Loan_Due_Date                    object\n",
       "First_Payment_Default              bool\n",
       "Time_of_application      datetime64[ns]\n",
       "Month_only                        int64\n",
       "Day_only                          int64\n",
       "Hour_only                         int64\n",
       "application_time_flag             int64\n",
       "dtype: object"
      ]
     },
     "execution_count": 17,
     "metadata": {},
     "output_type": "execute_result"
    }
   ],
   "source": [
    "train.dtypes"
   ]
  },
  {
   "cell_type": "code",
   "execution_count": 18,
   "metadata": {},
   "outputs": [
    {
     "data": {
      "text/plain": [
       "SetID                    0\n",
       "State                    0\n",
       "Monthly_Net_Income       0\n",
       "Paycheck_Net_Income      0\n",
       "Rent_or_Own              0\n",
       "Months_at_Residence      0\n",
       "Bank_Account_Months      0\n",
       "Pay_Cycle                0\n",
       "Loan_Amount              0\n",
       "Loan_Funded_Date         0\n",
       "Loan_Due_Date            0\n",
       "First_Payment_Default    0\n",
       "Time_of_application      0\n",
       "Month_only               0\n",
       "Day_only                 0\n",
       "Hour_only                0\n",
       "application_time_flag    0\n",
       "dtype: int64"
      ]
     },
     "execution_count": 18,
     "metadata": {},
     "output_type": "execute_result"
    }
   ],
   "source": [
    "train.isnull().sum()"
   ]
  },
  {
   "cell_type": "code",
   "execution_count": 19,
   "metadata": {},
   "outputs": [
    {
     "data": {
      "text/plain": [
       "SetID                    False\n",
       "State                    False\n",
       "Monthly_Net_Income       False\n",
       "Paycheck_Net_Income      False\n",
       "Rent_or_Own              False\n",
       "Months_at_Residence      False\n",
       "Bank_Account_Months      False\n",
       "Pay_Cycle                False\n",
       "Loan_Amount              False\n",
       "Loan_Funded_Date         False\n",
       "Loan_Due_Date            False\n",
       "First_Payment_Default    False\n",
       "Time_of_application      False\n",
       "Month_only               False\n",
       "Day_only                 False\n",
       "Hour_only                False\n",
       "application_time_flag    False\n",
       "dtype: bool"
      ]
     },
     "execution_count": 19,
     "metadata": {},
     "output_type": "execute_result"
    }
   ],
   "source": [
    "train.isnull().any()"
   ]
  },
  {
   "cell_type": "markdown",
   "metadata": {},
   "source": [
    "This clearly shows that there is no any missing values in the given dataset."
   ]
  },
  {
   "cell_type": "code",
   "execution_count": 20,
   "metadata": {},
   "outputs": [
    {
     "data": {
      "text/plain": [
       "5     124\n",
       "12     85\n",
       "9      83\n",
       "26     76\n",
       "8      73\n",
       "2      73\n",
       "14     71\n",
       "1      69\n",
       "27     68\n",
       "13     66\n",
       "15     62\n",
       "20     61\n",
       "6      60\n",
       "3      59\n",
       "22     57\n",
       "28     53\n",
       "4      51\n",
       "7      50\n",
       "19     47\n",
       "23     44\n",
       "21     42\n",
       "31     37\n",
       "29     31\n",
       "25     27\n",
       "16     25\n",
       "24     22\n",
       "10     21\n",
       "30     21\n",
       "17     18\n",
       "18     14\n",
       "11     10\n",
       "Name: Day_only, dtype: int64"
      ]
     },
     "execution_count": 20,
     "metadata": {},
     "output_type": "execute_result"
    }
   ],
   "source": [
    "train['Day_only'].value_counts() # Frequency of application for different days"
   ]
  },
  {
   "cell_type": "code",
   "execution_count": 21,
   "metadata": {},
   "outputs": [
    {
     "data": {
      "text/html": [
       "<div>\n",
       "<style scoped>\n",
       "    .dataframe tbody tr th:only-of-type {\n",
       "        vertical-align: middle;\n",
       "    }\n",
       "\n",
       "    .dataframe tbody tr th {\n",
       "        vertical-align: top;\n",
       "    }\n",
       "\n",
       "    .dataframe thead th {\n",
       "        text-align: right;\n",
       "    }\n",
       "</style>\n",
       "<table border=\"1\" class=\"dataframe\">\n",
       "  <thead>\n",
       "    <tr style=\"text-align: right;\">\n",
       "      <th></th>\n",
       "      <th>SetID</th>\n",
       "      <th>Monthly_Net_Income</th>\n",
       "      <th>Paycheck_Net_Income</th>\n",
       "      <th>Months_at_Residence</th>\n",
       "      <th>Bank_Account_Months</th>\n",
       "      <th>Loan_Amount</th>\n",
       "      <th>Month_only</th>\n",
       "      <th>Day_only</th>\n",
       "      <th>Hour_only</th>\n",
       "      <th>application_time_flag</th>\n",
       "    </tr>\n",
       "  </thead>\n",
       "  <tbody>\n",
       "    <tr>\n",
       "      <th>count</th>\n",
       "      <td>1600.0000</td>\n",
       "      <td>1600.000000</td>\n",
       "      <td>1600.000000</td>\n",
       "      <td>1600.000000</td>\n",
       "      <td>1600.000000</td>\n",
       "      <td>1600.000000</td>\n",
       "      <td>1600.000000</td>\n",
       "      <td>1600.000000</td>\n",
       "      <td>1600.000000</td>\n",
       "      <td>1600.000000</td>\n",
       "    </tr>\n",
       "    <tr>\n",
       "      <th>mean</th>\n",
       "      <td>1004.8700</td>\n",
       "      <td>4362.641250</td>\n",
       "      <td>2718.488750</td>\n",
       "      <td>63.285625</td>\n",
       "      <td>24.731250</td>\n",
       "      <td>317.974619</td>\n",
       "      <td>2.773750</td>\n",
       "      <td>14.233125</td>\n",
       "      <td>13.766250</td>\n",
       "      <td>0.780625</td>\n",
       "    </tr>\n",
       "    <tr>\n",
       "      <th>std</th>\n",
       "      <td>584.0755</td>\n",
       "      <td>5524.868265</td>\n",
       "      <td>4894.909919</td>\n",
       "      <td>70.777592</td>\n",
       "      <td>23.414134</td>\n",
       "      <td>176.993218</td>\n",
       "      <td>0.754431</td>\n",
       "      <td>9.041564</td>\n",
       "      <td>4.068256</td>\n",
       "      <td>0.413953</td>\n",
       "    </tr>\n",
       "    <tr>\n",
       "      <th>min</th>\n",
       "      <td>2.0000</td>\n",
       "      <td>70.000000</td>\n",
       "      <td>70.000000</td>\n",
       "      <td>0.000000</td>\n",
       "      <td>3.000000</td>\n",
       "      <td>117.650000</td>\n",
       "      <td>1.000000</td>\n",
       "      <td>1.000000</td>\n",
       "      <td>0.000000</td>\n",
       "      <td>0.000000</td>\n",
       "    </tr>\n",
       "    <tr>\n",
       "      <th>25%</th>\n",
       "      <td>492.7500</td>\n",
       "      <td>2000.000000</td>\n",
       "      <td>1250.000000</td>\n",
       "      <td>17.000000</td>\n",
       "      <td>6.000000</td>\n",
       "      <td>235.300000</td>\n",
       "      <td>2.000000</td>\n",
       "      <td>6.000000</td>\n",
       "      <td>11.000000</td>\n",
       "      <td>1.000000</td>\n",
       "    </tr>\n",
       "    <tr>\n",
       "      <th>50%</th>\n",
       "      <td>1012.5000</td>\n",
       "      <td>3200.000000</td>\n",
       "      <td>2100.000000</td>\n",
       "      <td>39.000000</td>\n",
       "      <td>24.000000</td>\n",
       "      <td>300.000000</td>\n",
       "      <td>3.000000</td>\n",
       "      <td>13.000000</td>\n",
       "      <td>14.000000</td>\n",
       "      <td>1.000000</td>\n",
       "    </tr>\n",
       "    <tr>\n",
       "      <th>75%</th>\n",
       "      <td>1514.2500</td>\n",
       "      <td>5139.000000</td>\n",
       "      <td>3500.000000</td>\n",
       "      <td>81.000000</td>\n",
       "      <td>36.000000</td>\n",
       "      <td>320.592500</td>\n",
       "      <td>3.000000</td>\n",
       "      <td>22.000000</td>\n",
       "      <td>17.000000</td>\n",
       "      <td>1.000000</td>\n",
       "    </tr>\n",
       "    <tr>\n",
       "      <th>max</th>\n",
       "      <td>2000.0000</td>\n",
       "      <td>184000.000000</td>\n",
       "      <td>184000.000000</td>\n",
       "      <td>690.000000</td>\n",
       "      <td>410.000000</td>\n",
       "      <td>644.240000</td>\n",
       "      <td>4.000000</td>\n",
       "      <td>31.000000</td>\n",
       "      <td>23.000000</td>\n",
       "      <td>1.000000</td>\n",
       "    </tr>\n",
       "  </tbody>\n",
       "</table>\n",
       "</div>"
      ],
      "text/plain": [
       "           SetID  Monthly_Net_Income  Paycheck_Net_Income  \\\n",
       "count  1600.0000         1600.000000          1600.000000   \n",
       "mean   1004.8700         4362.641250          2718.488750   \n",
       "std     584.0755         5524.868265          4894.909919   \n",
       "min       2.0000           70.000000            70.000000   \n",
       "25%     492.7500         2000.000000          1250.000000   \n",
       "50%    1012.5000         3200.000000          2100.000000   \n",
       "75%    1514.2500         5139.000000          3500.000000   \n",
       "max    2000.0000       184000.000000        184000.000000   \n",
       "\n",
       "       Months_at_Residence  Bank_Account_Months  Loan_Amount   Month_only  \\\n",
       "count          1600.000000          1600.000000  1600.000000  1600.000000   \n",
       "mean             63.285625            24.731250   317.974619     2.773750   \n",
       "std              70.777592            23.414134   176.993218     0.754431   \n",
       "min               0.000000             3.000000   117.650000     1.000000   \n",
       "25%              17.000000             6.000000   235.300000     2.000000   \n",
       "50%              39.000000            24.000000   300.000000     3.000000   \n",
       "75%              81.000000            36.000000   320.592500     3.000000   \n",
       "max             690.000000           410.000000   644.240000     4.000000   \n",
       "\n",
       "          Day_only    Hour_only  application_time_flag  \n",
       "count  1600.000000  1600.000000            1600.000000  \n",
       "mean     14.233125    13.766250               0.780625  \n",
       "std       9.041564     4.068256               0.413953  \n",
       "min       1.000000     0.000000               0.000000  \n",
       "25%       6.000000    11.000000               1.000000  \n",
       "50%      13.000000    14.000000               1.000000  \n",
       "75%      22.000000    17.000000               1.000000  \n",
       "max      31.000000    23.000000               1.000000  "
      ]
     },
     "execution_count": 21,
     "metadata": {},
     "output_type": "execute_result"
    }
   ],
   "source": [
    "train.describe()"
   ]
  },
  {
   "cell_type": "code",
   "execution_count": 22,
   "metadata": {},
   "outputs": [
    {
     "data": {
      "image/png": "[encoded data removed]",
      "text/plain": [
       "<Figure size 1080x576 with 1 Axes>"
      ]
     },
     "metadata": {
      "needs_background": "light"
     },
     "output_type": "display_data"
    }
   ],
   "source": [
    "plt.figure(figsize=(15,8))\n",
    "ax = train[\"Loan_Amount\"].hist(bins=15, density=True, stacked=True, color='teal', alpha=0.6)\n",
    "train[\"Loan_Amount\"].plot(kind='density', color='teal')\n",
    "ax.set(xlabel='Loan Amount')\n",
    "plt.show()"
   ]
  },
  {
   "cell_type": "markdown",
   "metadata": {},
   "source": [
    "### Dependent Variable Distribution:"
   ]
  },
  {
   "cell_type": "code",
   "execution_count": 23,
   "metadata": {},
   "outputs": [
    {
     "data": {
      "image/png": "[encoded data removed]",
      "text/plain": [
       "<Figure size 576x288 with 2 Axes>"
      ]
     },
     "metadata": {
      "needs_background": "light"
     },
     "output_type": "display_data"
    }
   ],
   "source": [
    "f,ax = plt.subplots(1,2, figsize= (8,4))\n",
    "train['First_Payment_Default'].value_counts().plot.pie(explode=[0,0.1], autopct = '%1.1f%%', ax= ax[0], shadow= True)\n",
    "ax[0].set_title(\"Label\")\n",
    "ax[0].set_ylabel('')\n",
    "sns.countplot('First_Payment_Default', data = train, ax= ax[1])\n",
    "ax[1].set_title('Label')\n",
    "plt.show()"
   ]
  },
  {
   "cell_type": "markdown",
   "metadata": {},
   "source": [
    "we observed that distribution of classes (False/True) is skewed so we need to do stratified sampling approach while training the model."
   ]
  },
  {
   "cell_type": "markdown",
   "metadata": {},
   "source": [
    "### Correlation between Continuous Variables:"
   ]
  },
  {
   "cell_type": "code",
   "execution_count": 24,
   "metadata": {},
   "outputs": [
    {
     "data": {
      "image/png": "[encoded data removed]",
      "text/plain": [
       "<Figure size 576x360 with 2 Axes>"
      ]
     },
     "metadata": {
      "needs_background": "light"
     },
     "output_type": "display_data"
    }
   ],
   "source": [
    "continuous_features = ['Monthly_Net_Income', 'Paycheck_Net_Income', 'Months_at_Residence', 'Bank_Account_Months', 'Loan_Amount']\n",
    "cont = train[continuous_features]\n",
    "plt.subplots(figsize=(8, 5))\n",
    "sns.heatmap(cont.corr(), annot=True, cmap=\"YlGnBu\") ##cmap=\"RdYlGn\" for red, yellow, and green\n",
    "plt.show()"
   ]
  },
  {
   "cell_type": "code",
   "execution_count": 25,
   "metadata": {},
   "outputs": [
    {
     "data": {
      "text/html": [
       "<div>\n",
       "<style scoped>\n",
       "    .dataframe tbody tr th:only-of-type {\n",
       "        vertical-align: middle;\n",
       "    }\n",
       "\n",
       "    .dataframe tbody tr th {\n",
       "        vertical-align: top;\n",
       "    }\n",
       "\n",
       "    .dataframe thead th {\n",
       "        text-align: right;\n",
       "    }\n",
       "</style>\n",
       "<table border=\"1\" class=\"dataframe\">\n",
       "  <thead>\n",
       "    <tr style=\"text-align: right;\">\n",
       "      <th></th>\n",
       "      <th>Monthly_Net_Income</th>\n",
       "      <th>Paycheck_Net_Income</th>\n",
       "      <th>Months_at_Residence</th>\n",
       "      <th>Bank_Account_Months</th>\n",
       "      <th>Loan_Amount</th>\n",
       "    </tr>\n",
       "  </thead>\n",
       "  <tbody>\n",
       "    <tr>\n",
       "      <th>Monthly_Net_Income</th>\n",
       "      <td>1.000000</td>\n",
       "      <td>0.936308</td>\n",
       "      <td>-0.030648</td>\n",
       "      <td>0.069021</td>\n",
       "      <td>0.179618</td>\n",
       "    </tr>\n",
       "    <tr>\n",
       "      <th>Paycheck_Net_Income</th>\n",
       "      <td>0.936308</td>\n",
       "      <td>1.000000</td>\n",
       "      <td>0.000516</td>\n",
       "      <td>0.045390</td>\n",
       "      <td>0.148856</td>\n",
       "    </tr>\n",
       "    <tr>\n",
       "      <th>Months_at_Residence</th>\n",
       "      <td>-0.030648</td>\n",
       "      <td>0.000516</td>\n",
       "      <td>1.000000</td>\n",
       "      <td>0.166267</td>\n",
       "      <td>0.046890</td>\n",
       "    </tr>\n",
       "    <tr>\n",
       "      <th>Bank_Account_Months</th>\n",
       "      <td>0.069021</td>\n",
       "      <td>0.045390</td>\n",
       "      <td>0.166267</td>\n",
       "      <td>1.000000</td>\n",
       "      <td>0.125348</td>\n",
       "    </tr>\n",
       "    <tr>\n",
       "      <th>Loan_Amount</th>\n",
       "      <td>0.179618</td>\n",
       "      <td>0.148856</td>\n",
       "      <td>0.046890</td>\n",
       "      <td>0.125348</td>\n",
       "      <td>1.000000</td>\n",
       "    </tr>\n",
       "  </tbody>\n",
       "</table>\n",
       "</div>"
      ],
      "text/plain": [
       "                     Monthly_Net_Income  Paycheck_Net_Income  \\\n",
       "Monthly_Net_Income             1.000000             0.936308   \n",
       "Paycheck_Net_Income            0.936308             1.000000   \n",
       "Months_at_Residence           -0.030648             0.000516   \n",
       "Bank_Account_Months            0.069021             0.045390   \n",
       "Loan_Amount                    0.179618             0.148856   \n",
       "\n",
       "                     Months_at_Residence  Bank_Account_Months  Loan_Amount  \n",
       "Monthly_Net_Income             -0.030648             0.069021     0.179618  \n",
       "Paycheck_Net_Income             0.000516             0.045390     0.148856  \n",
       "Months_at_Residence             1.000000             0.166267     0.046890  \n",
       "Bank_Account_Months             0.166267             1.000000     0.125348  \n",
       "Loan_Amount                     0.046890             0.125348     1.000000  "
      ]
     },
     "execution_count": 25,
     "metadata": {},
     "output_type": "execute_result"
    }
   ],
   "source": [
    "cont.corr()"
   ]
  },
  {
   "cell_type": "code",
   "execution_count": 26,
   "metadata": {},
   "outputs": [
    {
     "data": {
      "text/plain": [
       "<seaborn.axisgrid.PairGrid at 0x27dd11bd898>"
      ]
     },
     "execution_count": 26,
     "metadata": {},
     "output_type": "execute_result"
    },
    {
     "data": {
      "image/png": "[encoded data removed]",
      "text/plain": [
       "<Figure size 900x900 with 30 Axes>"
      ]
     },
     "metadata": {
      "needs_background": "light"
     },
     "output_type": "display_data"
    }
   ],
   "source": [
    "sns.pairplot(cont)"
   ]
  },
  {
   "cell_type": "code",
   "execution_count": 27,
   "metadata": {},
   "outputs": [
    {
     "data": {
      "image/png": "[encoded data removed]",
      "text/plain": [
       "<Figure size 432x288 with 25 Axes>"
      ]
     },
     "metadata": {
      "needs_background": "light"
     },
     "output_type": "display_data"
    }
   ],
   "source": [
    "# Multivariate Plots\n",
    "# Scatter plot matrix\n",
    "from pandas.plotting import scatter_matrix\n",
    "scatter_matrix(cont)\n",
    "plt.show()"
   ]
  },
  {
   "cell_type": "code",
   "execution_count": 30,
   "metadata": {},
   "outputs": [
    {
     "data": {
      "image/png": "[encoded data removed]",
      "text/plain": [
       "<Figure size 432x288 with 1 Axes>"
      ]
     },
     "metadata": {
      "needs_background": "light"
     },
     "output_type": "display_data"
    }
   ],
   "source": [
    "axes = sns.lineplot(data=train, x='Pay_Cycle', y='First_Payment_Default')"
   ]
  },
  {
   "cell_type": "code",
   "execution_count": 31,
   "metadata": {},
   "outputs": [
    {
     "data": {
      "text/plain": [
       "<seaborn.axisgrid.FacetGrid at 0x27dd36066a0>"
      ]
     },
     "execution_count": 31,
     "metadata": {},
     "output_type": "execute_result"
    },
    {
     "data": {
      "image/png": "[encoded data removed]",
      "text/plain": [
       "<Figure size 432x216 with 2 Axes>"
      ]
     },
     "metadata": {
      "needs_background": "light"
     },
     "output_type": "display_data"
    }
   ],
   "source": [
    "g = sns.FacetGrid(train, col='First_Payment_Default')\n",
    "g.map(plt.hist, 'Loan_Amount', bins=5)"
   ]
  },
  {
   "cell_type": "markdown",
   "metadata": {},
   "source": [
    "### More people with Loan Amaount 125-325 are not paying First_Payment_Default"
   ]
  },
  {
   "cell_type": "code",
   "execution_count": 32,
   "metadata": {},
   "outputs": [
    {
     "data": {
      "text/plain": [
       "<bound method Figure.autofmt_xdate of <Figure size 360x360 with 1 Axes>>"
      ]
     },
     "execution_count": 32,
     "metadata": {},
     "output_type": "execute_result"
    },
    {
     "data": {
      "image/png": "[encoded data removed]",
      "text/plain": [
       "<Figure size 360x360 with 1 Axes>"
      ]
     },
     "metadata": {
      "needs_background": "light"
     },
     "output_type": "display_data"
    }
   ],
   "source": [
    "g = sns.relplot(x=\"State\", y=\"Loan_Amount\", kind=\"line\", data=train)\n",
    "g.fig.autofmt_xdate"
   ]
  },
  {
   "cell_type": "code",
   "execution_count": 33,
   "metadata": {},
   "outputs": [
    {
     "data": {
      "text/plain": [
       "<bound method Figure.autofmt_xdate of <Figure size 360x360 with 1 Axes>>"
      ]
     },
     "execution_count": 33,
     "metadata": {},
     "output_type": "execute_result"
    },
    {
     "data": {
      "image/png": "[encoded data removed]",
      "text/plain": [
       "<Figure size 360x360 with 1 Axes>"
      ]
     },
     "metadata": {
      "needs_background": "light"
     },
     "output_type": "display_data"
    }
   ],
   "source": [
    "g = sns.relplot(x=\"Monthly_Net_Income\", y=\"Paycheck_Net_Income\", kind=\"line\", data=train)\n",
    "g.fig.autofmt_xdate"
   ]
  },
  {
   "cell_type": "code",
   "execution_count": 34,
   "metadata": {},
   "outputs": [
    {
     "data": {
      "text/plain": [
       "<matplotlib.axes._subplots.AxesSubplot at 0x27dd37d93c8>"
      ]
     },
     "execution_count": 34,
     "metadata": {},
     "output_type": "execute_result"
    },
    {
     "data": {
      "image/png": "[encoded data removed]",
      "text/plain": [
       "<Figure size 432x288 with 1 Axes>"
      ]
     },
     "metadata": {
      "needs_background": "light"
     },
     "output_type": "display_data"
    }
   ],
   "source": [
    "sns.countplot(data=train,x='Pay_Cycle',hue='First_Payment_Default')"
   ]
  },
  {
   "cell_type": "markdown",
   "metadata": {},
   "source": [
    "## Outlier Detection: \n",
    "### For this type of data we simply ignore outliers."
   ]
  },
  {
   "cell_type": "code",
   "execution_count": 35,
   "metadata": {
    "scrolled": true
   },
   "outputs": [
    {
     "data": {
      "image/png": "[encoded data removed]",
      "text/plain": [
       "<Figure size 432x288 with 6 Axes>"
      ]
     },
     "metadata": {
      "needs_background": "light"
     },
     "output_type": "display_data"
    }
   ],
   "source": [
    "## box and whisker plots\n",
    "cont.plot(kind='box', subplots=True, layout=(2,3), sharex=False, sharey=False)\n",
    "plt.show()"
   ]
  },
  {
   "cell_type": "code",
   "execution_count": 36,
   "metadata": {},
   "outputs": [
    {
     "data": {
      "text/plain": [
       "<matplotlib.axes._subplots.AxesSubplot at 0x27dd3981cf8>"
      ]
     },
     "execution_count": 36,
     "metadata": {},
     "output_type": "execute_result"
    },
    {
     "data": {
      "image/png": "[encoded data removed]",
      "text/plain": [
       "<Figure size 432x288 with 1 Axes>"
      ]
     },
     "metadata": {
      "needs_background": "light"
     },
     "output_type": "display_data"
    }
   ],
   "source": [
    "cont.plot.box() "
   ]
  },
  {
   "cell_type": "markdown",
   "metadata": {},
   "source": [
    "### Create the list of Columns Family:"
   ]
  },
  {
   "cell_type": "code",
   "execution_count": 37,
   "metadata": {
    "scrolled": true
   },
   "outputs": [
    {
     "data": {
      "text/plain": [
       "SetID                             int64\n",
       "State                            object\n",
       "Monthly_Net_Income              float64\n",
       "Paycheck_Net_Income             float64\n",
       "Rent_or_Own                      object\n",
       "Months_at_Residence               int64\n",
       "Bank_Account_Months               int64\n",
       "Pay_Cycle                        object\n",
       "Loan_Amount                     float64\n",
       "Loan_Funded_Date                 object\n",
       "Loan_Due_Date                    object\n",
       "First_Payment_Default              bool\n",
       "Time_of_application      datetime64[ns]\n",
       "Month_only                        int64\n",
       "Day_only                          int64\n",
       "Hour_only                         int64\n",
       "application_time_flag             int64\n",
       "dtype: object"
      ]
     },
     "execution_count": 37,
     "metadata": {},
     "output_type": "execute_result"
    }
   ],
   "source": [
    "train.dtypes"
   ]
  },
  {
   "cell_type": "code",
   "execution_count": 38,
   "metadata": {},
   "outputs": [
    {
     "data": {
      "text/html": [
       "<div>\n",
       "<style scoped>\n",
       "    .dataframe tbody tr th:only-of-type {\n",
       "        vertical-align: middle;\n",
       "    }\n",
       "\n",
       "    .dataframe tbody tr th {\n",
       "        vertical-align: top;\n",
       "    }\n",
       "\n",
       "    .dataframe thead th {\n",
       "        text-align: right;\n",
       "    }\n",
       "</style>\n",
       "<table border=\"1\" class=\"dataframe\">\n",
       "  <thead>\n",
       "    <tr style=\"text-align: right;\">\n",
       "      <th></th>\n",
       "      <th>State</th>\n",
       "      <th>Monthly_Net_Income</th>\n",
       "      <th>Paycheck_Net_Income</th>\n",
       "      <th>Rent_or_Own</th>\n",
       "      <th>Months_at_Residence</th>\n",
       "      <th>Bank_Account_Months</th>\n",
       "      <th>Pay_Cycle</th>\n",
       "      <th>Loan_Amount</th>\n",
       "      <th>Month_only</th>\n",
       "      <th>Day_only</th>\n",
       "      <th>Hour_only</th>\n",
       "      <th>application_time_flag</th>\n",
       "    </tr>\n",
       "  </thead>\n",
       "  <tbody>\n",
       "    <tr>\n",
       "      <th>0</th>\n",
       "      <td>CA</td>\n",
       "      <td>2000.0</td>\n",
       "      <td>2000.0</td>\n",
       "      <td>R</td>\n",
       "      <td>12</td>\n",
       "      <td>6</td>\n",
       "      <td>Monthly</td>\n",
       "      <td>300.00</td>\n",
       "      <td>3</td>\n",
       "      <td>28</td>\n",
       "      <td>17</td>\n",
       "      <td>1</td>\n",
       "    </tr>\n",
       "    <tr>\n",
       "      <th>1</th>\n",
       "      <td>TX</td>\n",
       "      <td>3500.0</td>\n",
       "      <td>3500.0</td>\n",
       "      <td>R</td>\n",
       "      <td>60</td>\n",
       "      <td>60</td>\n",
       "      <td>Monthly</td>\n",
       "      <td>641.91</td>\n",
       "      <td>3</td>\n",
       "      <td>23</td>\n",
       "      <td>13</td>\n",
       "      <td>1</td>\n",
       "    </tr>\n",
       "  </tbody>\n",
       "</table>\n",
       "</div>"
      ],
      "text/plain": [
       "  State  Monthly_Net_Income  Paycheck_Net_Income Rent_or_Own  \\\n",
       "0    CA              2000.0               2000.0           R   \n",
       "1    TX              3500.0               3500.0           R   \n",
       "\n",
       "   Months_at_Residence  Bank_Account_Months Pay_Cycle  Loan_Amount  \\\n",
       "0                   12                    6   Monthly       300.00   \n",
       "1                   60                   60   Monthly       641.91   \n",
       "\n",
       "   Month_only  Day_only  Hour_only  application_time_flag  \n",
       "0           3        28         17                      1  \n",
       "1           3        23         13                      1  "
      ]
     },
     "execution_count": 38,
     "metadata": {},
     "output_type": "execute_result"
    }
   ],
   "source": [
    "train1=train.drop(columns=['SetID','Time_of_application','First_Payment_Default','Loan_Due_Date','Loan_Funded_Date'])\n",
    "train1.head(2)"
   ]
  },
  {
   "cell_type": "code",
   "execution_count": 39,
   "metadata": {},
   "outputs": [],
   "source": [
    "ID_col = ['SetID']\n",
    "target_col = ['First_Payment_Default']\n",
    "cat_cols = ['State', 'Rent_or_Own','Pay_Cycle','application_time_flag']\n",
    "date_cols = ['Loan_Funded_Date','Loan_Due_Date','Time_of_application']\n",
    "num_cols = list(set(list(train.columns))- set(cat_cols)-set(ID_col)-set(target_col)-set(date_cols))"
   ]
  },
  {
   "cell_type": "code",
   "execution_count": 40,
   "metadata": {},
   "outputs": [
    {
     "data": {
      "text/plain": [
       "['Month_only',\n",
       " 'Hour_only',\n",
       " 'Months_at_Residence',\n",
       " 'Paycheck_Net_Income',\n",
       " 'Monthly_Net_Income',\n",
       " 'Bank_Account_Months',\n",
       " 'Loan_Amount',\n",
       " 'Day_only']"
      ]
     },
     "execution_count": 40,
     "metadata": {},
     "output_type": "execute_result"
    }
   ],
   "source": [
    "num_cols"
   ]
  },
  {
   "cell_type": "code",
   "execution_count": 41,
   "metadata": {},
   "outputs": [],
   "source": [
    "### combined numerical and categorical cols\n",
    "num_cat_cols = num_cols + cat_cols"
   ]
  },
  {
   "cell_type": "code",
   "execution_count": 42,
   "metadata": {},
   "outputs": [
    {
     "data": {
      "text/plain": [
       "['Month_only',\n",
       " 'Hour_only',\n",
       " 'Months_at_Residence',\n",
       " 'Paycheck_Net_Income',\n",
       " 'Monthly_Net_Income',\n",
       " 'Bank_Account_Months',\n",
       " 'Loan_Amount',\n",
       " 'Day_only',\n",
       " 'State',\n",
       " 'Rent_or_Own',\n",
       " 'Pay_Cycle',\n",
       " 'application_time_flag']"
      ]
     },
     "execution_count": 42,
     "metadata": {},
     "output_type": "execute_result"
    }
   ],
   "source": [
    "num_cat_cols"
   ]
  },
  {
   "cell_type": "markdown",
   "metadata": {},
   "source": [
    "### Rescaling:"
   ]
  },
  {
   "cell_type": "code",
   "execution_count": 43,
   "metadata": {},
   "outputs": [
    {
     "data": {
      "text/plain": [
       "Index(['Bank_Account_Months', 'Day_only', 'Hour_only', 'Loan_Amount',\n",
       "       'Month_only', 'Monthly_Net_Income', 'Months_at_Residence',\n",
       "       'Paycheck_Net_Income', 'application_time_flag'],\n",
       "      dtype='object')"
      ]
     },
     "execution_count": 43,
     "metadata": {},
     "output_type": "execute_result"
    }
   ],
   "source": [
    "cols_normalize = train.columns.difference(['SetID','Loan_Funded_Date','Loan_Due_Date','Time_of_application','State', \n",
    "                                           'Rent_or_Own','Pay_Cycle','First_Payment_Default'])\n",
    "cols_normalize   ### mean/sd so unitless"
   ]
  },
  {
   "cell_type": "code",
   "execution_count": 45,
   "metadata": {},
   "outputs": [
    {
     "name": "stderr",
     "output_type": "stream",
     "text": [
      "C:\\Users\\rc_as\\Anaconda3\\lib\\site-packages\\sklearn\\preprocessing\\data.py:323: DataConversionWarning: Data with input dtype int64, float64 were all converted to float64 by MinMaxScaler.\n",
      "  return self.partial_fit(X, y)\n"
     ]
    }
   ],
   "source": [
    "min_max_scaler = preprocessing.MinMaxScaler()\n",
    "norm_train_df = pd.DataFrame(min_max_scaler.fit_transform(train[cols_normalize]), columns= cols_normalize, index= train.index)\n",
    "train_df = pd.concat([train[train.columns.difference(cols_normalize)], norm_train_df], axis =1)"
   ]
  },
  {
   "cell_type": "code",
   "execution_count": 46,
   "metadata": {},
   "outputs": [
    {
     "data": {
      "text/html": [
       "<div>\n",
       "<style scoped>\n",
       "    .dataframe tbody tr th:only-of-type {\n",
       "        vertical-align: middle;\n",
       "    }\n",
       "\n",
       "    .dataframe tbody tr th {\n",
       "        vertical-align: top;\n",
       "    }\n",
       "\n",
       "    .dataframe thead th {\n",
       "        text-align: right;\n",
       "    }\n",
       "</style>\n",
       "<table border=\"1\" class=\"dataframe\">\n",
       "  <thead>\n",
       "    <tr style=\"text-align: right;\">\n",
       "      <th></th>\n",
       "      <th>First_Payment_Default</th>\n",
       "      <th>Loan_Due_Date</th>\n",
       "      <th>Loan_Funded_Date</th>\n",
       "      <th>Pay_Cycle</th>\n",
       "      <th>Rent_or_Own</th>\n",
       "      <th>SetID</th>\n",
       "      <th>State</th>\n",
       "      <th>Time_of_application</th>\n",
       "      <th>Bank_Account_Months</th>\n",
       "      <th>Day_only</th>\n",
       "      <th>Hour_only</th>\n",
       "      <th>Loan_Amount</th>\n",
       "      <th>Month_only</th>\n",
       "      <th>Monthly_Net_Income</th>\n",
       "      <th>Months_at_Residence</th>\n",
       "      <th>Paycheck_Net_Income</th>\n",
       "      <th>application_time_flag</th>\n",
       "    </tr>\n",
       "  </thead>\n",
       "  <tbody>\n",
       "    <tr>\n",
       "      <th>0</th>\n",
       "      <td>False</td>\n",
       "      <td>2018-04-11</td>\n",
       "      <td>2018-03-28</td>\n",
       "      <td>Monthly</td>\n",
       "      <td>R</td>\n",
       "      <td>436</td>\n",
       "      <td>CA</td>\n",
       "      <td>2018-03-28 17:27:35</td>\n",
       "      <td>0.007371</td>\n",
       "      <td>0.900000</td>\n",
       "      <td>0.739130</td>\n",
       "      <td>0.346285</td>\n",
       "      <td>0.666667</td>\n",
       "      <td>0.010493</td>\n",
       "      <td>0.017391</td>\n",
       "      <td>0.010493</td>\n",
       "      <td>1.0</td>\n",
       "    </tr>\n",
       "    <tr>\n",
       "      <th>1</th>\n",
       "      <td>False</td>\n",
       "      <td>2018-04-06</td>\n",
       "      <td>2018-03-23</td>\n",
       "      <td>Monthly</td>\n",
       "      <td>R</td>\n",
       "      <td>615</td>\n",
       "      <td>TX</td>\n",
       "      <td>2018-03-23 13:19:32</td>\n",
       "      <td>0.140049</td>\n",
       "      <td>0.733333</td>\n",
       "      <td>0.565217</td>\n",
       "      <td>0.995575</td>\n",
       "      <td>0.666667</td>\n",
       "      <td>0.018648</td>\n",
       "      <td>0.086957</td>\n",
       "      <td>0.018648</td>\n",
       "      <td>1.0</td>\n",
       "    </tr>\n",
       "    <tr>\n",
       "      <th>2</th>\n",
       "      <td>True</td>\n",
       "      <td>2018-03-30</td>\n",
       "      <td>2018-02-28</td>\n",
       "      <td>Monthly</td>\n",
       "      <td>R</td>\n",
       "      <td>1251</td>\n",
       "      <td>CA</td>\n",
       "      <td>2018-02-28 12:04:56</td>\n",
       "      <td>0.007371</td>\n",
       "      <td>0.900000</td>\n",
       "      <td>0.521739</td>\n",
       "      <td>0.000000</td>\n",
       "      <td>0.333333</td>\n",
       "      <td>0.015930</td>\n",
       "      <td>0.000000</td>\n",
       "      <td>0.015930</td>\n",
       "      <td>1.0</td>\n",
       "    </tr>\n",
       "    <tr>\n",
       "      <th>3</th>\n",
       "      <td>False</td>\n",
       "      <td>2018-04-28</td>\n",
       "      <td>2018-03-28</td>\n",
       "      <td>Monthly</td>\n",
       "      <td>R</td>\n",
       "      <td>440</td>\n",
       "      <td>CA</td>\n",
       "      <td>2018-03-28 15:47:59</td>\n",
       "      <td>0.007371</td>\n",
       "      <td>0.900000</td>\n",
       "      <td>0.652174</td>\n",
       "      <td>0.000000</td>\n",
       "      <td>0.666667</td>\n",
       "      <td>0.007775</td>\n",
       "      <td>0.017391</td>\n",
       "      <td>0.007775</td>\n",
       "      <td>1.0</td>\n",
       "    </tr>\n",
       "    <tr>\n",
       "      <th>4</th>\n",
       "      <td>False</td>\n",
       "      <td>2018-02-23</td>\n",
       "      <td>2018-02-13</td>\n",
       "      <td>Weekly</td>\n",
       "      <td>R</td>\n",
       "      <td>1692</td>\n",
       "      <td>CA</td>\n",
       "      <td>2018-02-13 04:36:00</td>\n",
       "      <td>0.081081</td>\n",
       "      <td>0.400000</td>\n",
       "      <td>0.173913</td>\n",
       "      <td>0.346285</td>\n",
       "      <td>0.333333</td>\n",
       "      <td>0.012624</td>\n",
       "      <td>0.188406</td>\n",
       "      <td>0.002871</td>\n",
       "      <td>0.0</td>\n",
       "    </tr>\n",
       "  </tbody>\n",
       "</table>\n",
       "</div>"
      ],
      "text/plain": [
       "   First_Payment_Default Loan_Due_Date Loan_Funded_Date Pay_Cycle Rent_or_Own  \\\n",
       "0                  False    2018-04-11       2018-03-28   Monthly           R   \n",
       "1                  False    2018-04-06       2018-03-23   Monthly           R   \n",
       "2                   True    2018-03-30       2018-02-28   Monthly           R   \n",
       "3                  False    2018-04-28       2018-03-28   Monthly           R   \n",
       "4                  False    2018-02-23       2018-02-13    Weekly           R   \n",
       "\n",
       "   SetID State Time_of_application  Bank_Account_Months  Day_only  Hour_only  \\\n",
       "0    436    CA 2018-03-28 17:27:35             0.007371  0.900000   0.739130   \n",
       "1    615    TX 2018-03-23 13:19:32             0.140049  0.733333   0.565217   \n",
       "2   1251    CA 2018-02-28 12:04:56             0.007371  0.900000   0.521739   \n",
       "3    440    CA 2018-03-28 15:47:59             0.007371  0.900000   0.652174   \n",
       "4   1692    CA 2018-02-13 04:36:00             0.081081  0.400000   0.173913   \n",
       "\n",
       "   Loan_Amount  Month_only  Monthly_Net_Income  Months_at_Residence  \\\n",
       "0     0.346285    0.666667            0.010493             0.017391   \n",
       "1     0.995575    0.666667            0.018648             0.086957   \n",
       "2     0.000000    0.333333            0.015930             0.000000   \n",
       "3     0.000000    0.666667            0.007775             0.017391   \n",
       "4     0.346285    0.333333            0.012624             0.188406   \n",
       "\n",
       "   Paycheck_Net_Income  application_time_flag  \n",
       "0             0.010493                    1.0  \n",
       "1             0.018648                    1.0  \n",
       "2             0.015930                    1.0  \n",
       "3             0.007775                    1.0  \n",
       "4             0.002871                    0.0  "
      ]
     },
     "execution_count": 46,
     "metadata": {},
     "output_type": "execute_result"
    }
   ],
   "source": [
    "train_df.head()"
   ]
  },
  {
   "cell_type": "markdown",
   "metadata": {},
   "source": [
    "### Label Encoding and One Hot Encoding:"
   ]
  },
  {
   "cell_type": "code",
   "execution_count": 47,
   "metadata": {},
   "outputs": [],
   "source": [
    "train_df = pd.get_dummies(train_df, columns = ['State', 'Rent_or_Own','Pay_Cycle','application_time_flag'], \n",
    "                          prefix = ['State', 'Rent_or_Own','Pay_Cycle','application_time_flag'])"
   ]
  },
  {
   "cell_type": "code",
   "execution_count": 48,
   "metadata": {},
   "outputs": [
    {
     "data": {
      "text/html": [
       "<div>\n",
       "<style scoped>\n",
       "    .dataframe tbody tr th:only-of-type {\n",
       "        vertical-align: middle;\n",
       "    }\n",
       "\n",
       "    .dataframe tbody tr th {\n",
       "        vertical-align: top;\n",
       "    }\n",
       "\n",
       "    .dataframe thead th {\n",
       "        text-align: right;\n",
       "    }\n",
       "</style>\n",
       "<table border=\"1\" class=\"dataframe\">\n",
       "  <thead>\n",
       "    <tr style=\"text-align: right;\">\n",
       "      <th></th>\n",
       "      <th>First_Payment_Default</th>\n",
       "      <th>Loan_Due_Date</th>\n",
       "      <th>Loan_Funded_Date</th>\n",
       "      <th>SetID</th>\n",
       "      <th>Time_of_application</th>\n",
       "      <th>Bank_Account_Months</th>\n",
       "      <th>Day_only</th>\n",
       "      <th>Hour_only</th>\n",
       "      <th>Loan_Amount</th>\n",
       "      <th>Month_only</th>\n",
       "      <th>Monthly_Net_Income</th>\n",
       "      <th>Months_at_Residence</th>\n",
       "      <th>Paycheck_Net_Income</th>\n",
       "      <th>State_CA</th>\n",
       "      <th>State_TX</th>\n",
       "      <th>Rent_or_Own_O</th>\n",
       "      <th>Rent_or_Own_R</th>\n",
       "      <th>Pay_Cycle_BiMonthly</th>\n",
       "      <th>Pay_Cycle_BiWeekly</th>\n",
       "      <th>Pay_Cycle_Monthly</th>\n",
       "      <th>Pay_Cycle_Weekly</th>\n",
       "      <th>application_time_flag_0.0</th>\n",
       "      <th>application_time_flag_1.0</th>\n",
       "    </tr>\n",
       "  </thead>\n",
       "  <tbody>\n",
       "    <tr>\n",
       "      <th>0</th>\n",
       "      <td>False</td>\n",
       "      <td>2018-04-11</td>\n",
       "      <td>2018-03-28</td>\n",
       "      <td>436</td>\n",
       "      <td>2018-03-28 17:27:35</td>\n",
       "      <td>0.007371</td>\n",
       "      <td>0.900000</td>\n",
       "      <td>0.739130</td>\n",
       "      <td>0.346285</td>\n",
       "      <td>0.666667</td>\n",
       "      <td>0.010493</td>\n",
       "      <td>0.017391</td>\n",
       "      <td>0.010493</td>\n",
       "      <td>1</td>\n",
       "      <td>0</td>\n",
       "      <td>0</td>\n",
       "      <td>1</td>\n",
       "      <td>0</td>\n",
       "      <td>0</td>\n",
       "      <td>1</td>\n",
       "      <td>0</td>\n",
       "      <td>0</td>\n",
       "      <td>1</td>\n",
       "    </tr>\n",
       "    <tr>\n",
       "      <th>1</th>\n",
       "      <td>False</td>\n",
       "      <td>2018-04-06</td>\n",
       "      <td>2018-03-23</td>\n",
       "      <td>615</td>\n",
       "      <td>2018-03-23 13:19:32</td>\n",
       "      <td>0.140049</td>\n",
       "      <td>0.733333</td>\n",
       "      <td>0.565217</td>\n",
       "      <td>0.995575</td>\n",
       "      <td>0.666667</td>\n",
       "      <td>0.018648</td>\n",
       "      <td>0.086957</td>\n",
       "      <td>0.018648</td>\n",
       "      <td>0</td>\n",
       "      <td>1</td>\n",
       "      <td>0</td>\n",
       "      <td>1</td>\n",
       "      <td>0</td>\n",
       "      <td>0</td>\n",
       "      <td>1</td>\n",
       "      <td>0</td>\n",
       "      <td>0</td>\n",
       "      <td>1</td>\n",
       "    </tr>\n",
       "    <tr>\n",
       "      <th>2</th>\n",
       "      <td>True</td>\n",
       "      <td>2018-03-30</td>\n",
       "      <td>2018-02-28</td>\n",
       "      <td>1251</td>\n",
       "      <td>2018-02-28 12:04:56</td>\n",
       "      <td>0.007371</td>\n",
       "      <td>0.900000</td>\n",
       "      <td>0.521739</td>\n",
       "      <td>0.000000</td>\n",
       "      <td>0.333333</td>\n",
       "      <td>0.015930</td>\n",
       "      <td>0.000000</td>\n",
       "      <td>0.015930</td>\n",
       "      <td>1</td>\n",
       "      <td>0</td>\n",
       "      <td>0</td>\n",
       "      <td>1</td>\n",
       "      <td>0</td>\n",
       "      <td>0</td>\n",
       "      <td>1</td>\n",
       "      <td>0</td>\n",
       "      <td>0</td>\n",
       "      <td>1</td>\n",
       "    </tr>\n",
       "    <tr>\n",
       "      <th>3</th>\n",
       "      <td>False</td>\n",
       "      <td>2018-04-28</td>\n",
       "      <td>2018-03-28</td>\n",
       "      <td>440</td>\n",
       "      <td>2018-03-28 15:47:59</td>\n",
       "      <td>0.007371</td>\n",
       "      <td>0.900000</td>\n",
       "      <td>0.652174</td>\n",
       "      <td>0.000000</td>\n",
       "      <td>0.666667</td>\n",
       "      <td>0.007775</td>\n",
       "      <td>0.017391</td>\n",
       "      <td>0.007775</td>\n",
       "      <td>1</td>\n",
       "      <td>0</td>\n",
       "      <td>0</td>\n",
       "      <td>1</td>\n",
       "      <td>0</td>\n",
       "      <td>0</td>\n",
       "      <td>1</td>\n",
       "      <td>0</td>\n",
       "      <td>0</td>\n",
       "      <td>1</td>\n",
       "    </tr>\n",
       "    <tr>\n",
       "      <th>4</th>\n",
       "      <td>False</td>\n",
       "      <td>2018-02-23</td>\n",
       "      <td>2018-02-13</td>\n",
       "      <td>1692</td>\n",
       "      <td>2018-02-13 04:36:00</td>\n",
       "      <td>0.081081</td>\n",
       "      <td>0.400000</td>\n",
       "      <td>0.173913</td>\n",
       "      <td>0.346285</td>\n",
       "      <td>0.333333</td>\n",
       "      <td>0.012624</td>\n",
       "      <td>0.188406</td>\n",
       "      <td>0.002871</td>\n",
       "      <td>1</td>\n",
       "      <td>0</td>\n",
       "      <td>0</td>\n",
       "      <td>1</td>\n",
       "      <td>0</td>\n",
       "      <td>0</td>\n",
       "      <td>0</td>\n",
       "      <td>1</td>\n",
       "      <td>1</td>\n",
       "      <td>0</td>\n",
       "    </tr>\n",
       "  </tbody>\n",
       "</table>\n",
       "</div>"
      ],
      "text/plain": [
       "   First_Payment_Default Loan_Due_Date Loan_Funded_Date  SetID  \\\n",
       "0                  False    2018-04-11       2018-03-28    436   \n",
       "1                  False    2018-04-06       2018-03-23    615   \n",
       "2                   True    2018-03-30       2018-02-28   1251   \n",
       "3                  False    2018-04-28       2018-03-28    440   \n",
       "4                  False    2018-02-23       2018-02-13   1692   \n",
       "\n",
       "  Time_of_application  Bank_Account_Months  Day_only  Hour_only  Loan_Amount  \\\n",
       "0 2018-03-28 17:27:35             0.007371  0.900000   0.739130     0.346285   \n",
       "1 2018-03-23 13:19:32             0.140049  0.733333   0.565217     0.995575   \n",
       "2 2018-02-28 12:04:56             0.007371  0.900000   0.521739     0.000000   \n",
       "3 2018-03-28 15:47:59             0.007371  0.900000   0.652174     0.000000   \n",
       "4 2018-02-13 04:36:00             0.081081  0.400000   0.173913     0.346285   \n",
       "\n",
       "   Month_only  Monthly_Net_Income  Months_at_Residence  Paycheck_Net_Income  \\\n",
       "0    0.666667            0.010493             0.017391             0.010493   \n",
       "1    0.666667            0.018648             0.086957             0.018648   \n",
       "2    0.333333            0.015930             0.000000             0.015930   \n",
       "3    0.666667            0.007775             0.017391             0.007775   \n",
       "4    0.333333            0.012624             0.188406             0.002871   \n",
       "\n",
       "   State_CA  State_TX  Rent_or_Own_O  Rent_or_Own_R  Pay_Cycle_BiMonthly  \\\n",
       "0         1         0              0              1                    0   \n",
       "1         0         1              0              1                    0   \n",
       "2         1         0              0              1                    0   \n",
       "3         1         0              0              1                    0   \n",
       "4         1         0              0              1                    0   \n",
       "\n",
       "   Pay_Cycle_BiWeekly  Pay_Cycle_Monthly  Pay_Cycle_Weekly  \\\n",
       "0                   0                  1                 0   \n",
       "1                   0                  1                 0   \n",
       "2                   0                  1                 0   \n",
       "3                   0                  1                 0   \n",
       "4                   0                  0                 1   \n",
       "\n",
       "   application_time_flag_0.0  application_time_flag_1.0  \n",
       "0                          0                          1  \n",
       "1                          0                          1  \n",
       "2                          0                          1  \n",
       "3                          0                          1  \n",
       "4                          1                          0  "
      ]
     },
     "execution_count": 48,
     "metadata": {},
     "output_type": "execute_result"
    }
   ],
   "source": [
    "train_df.head()"
   ]
  },
  {
   "cell_type": "markdown",
   "metadata": {},
   "source": [
    "### Encode Target Variable:"
   ]
  },
  {
   "cell_type": "code",
   "execution_count": 49,
   "metadata": {},
   "outputs": [],
   "source": [
    "from sklearn.preprocessing import LabelEncoder\n",
    "for var in target_col:\n",
    "    number = LabelEncoder()\n",
    "    train_df[var] = number.fit_transform(train_df[var].astype('category'))"
   ]
  },
  {
   "cell_type": "code",
   "execution_count": 50,
   "metadata": {},
   "outputs": [
    {
     "data": {
      "text/html": [
       "<div>\n",
       "<style scoped>\n",
       "    .dataframe tbody tr th:only-of-type {\n",
       "        vertical-align: middle;\n",
       "    }\n",
       "\n",
       "    .dataframe tbody tr th {\n",
       "        vertical-align: top;\n",
       "    }\n",
       "\n",
       "    .dataframe thead th {\n",
       "        text-align: right;\n",
       "    }\n",
       "</style>\n",
       "<table border=\"1\" class=\"dataframe\">\n",
       "  <thead>\n",
       "    <tr style=\"text-align: right;\">\n",
       "      <th></th>\n",
       "      <th>First_Payment_Default</th>\n",
       "      <th>Loan_Due_Date</th>\n",
       "      <th>Loan_Funded_Date</th>\n",
       "      <th>SetID</th>\n",
       "      <th>Time_of_application</th>\n",
       "      <th>Bank_Account_Months</th>\n",
       "      <th>Day_only</th>\n",
       "      <th>Hour_only</th>\n",
       "      <th>Loan_Amount</th>\n",
       "      <th>Month_only</th>\n",
       "      <th>Monthly_Net_Income</th>\n",
       "      <th>Months_at_Residence</th>\n",
       "      <th>Paycheck_Net_Income</th>\n",
       "      <th>State_CA</th>\n",
       "      <th>State_TX</th>\n",
       "      <th>Rent_or_Own_O</th>\n",
       "      <th>Rent_or_Own_R</th>\n",
       "      <th>Pay_Cycle_BiMonthly</th>\n",
       "      <th>Pay_Cycle_BiWeekly</th>\n",
       "      <th>Pay_Cycle_Monthly</th>\n",
       "      <th>Pay_Cycle_Weekly</th>\n",
       "      <th>application_time_flag_0.0</th>\n",
       "      <th>application_time_flag_1.0</th>\n",
       "    </tr>\n",
       "  </thead>\n",
       "  <tbody>\n",
       "    <tr>\n",
       "      <th>0</th>\n",
       "      <td>0</td>\n",
       "      <td>2018-04-11</td>\n",
       "      <td>2018-03-28</td>\n",
       "      <td>436</td>\n",
       "      <td>2018-03-28 17:27:35</td>\n",
       "      <td>0.007371</td>\n",
       "      <td>0.900000</td>\n",
       "      <td>0.739130</td>\n",
       "      <td>0.346285</td>\n",
       "      <td>0.666667</td>\n",
       "      <td>0.010493</td>\n",
       "      <td>0.017391</td>\n",
       "      <td>0.010493</td>\n",
       "      <td>1</td>\n",
       "      <td>0</td>\n",
       "      <td>0</td>\n",
       "      <td>1</td>\n",
       "      <td>0</td>\n",
       "      <td>0</td>\n",
       "      <td>1</td>\n",
       "      <td>0</td>\n",
       "      <td>0</td>\n",
       "      <td>1</td>\n",
       "    </tr>\n",
       "    <tr>\n",
       "      <th>1</th>\n",
       "      <td>0</td>\n",
       "      <td>2018-04-06</td>\n",
       "      <td>2018-03-23</td>\n",
       "      <td>615</td>\n",
       "      <td>2018-03-23 13:19:32</td>\n",
       "      <td>0.140049</td>\n",
       "      <td>0.733333</td>\n",
       "      <td>0.565217</td>\n",
       "      <td>0.995575</td>\n",
       "      <td>0.666667</td>\n",
       "      <td>0.018648</td>\n",
       "      <td>0.086957</td>\n",
       "      <td>0.018648</td>\n",
       "      <td>0</td>\n",
       "      <td>1</td>\n",
       "      <td>0</td>\n",
       "      <td>1</td>\n",
       "      <td>0</td>\n",
       "      <td>0</td>\n",
       "      <td>1</td>\n",
       "      <td>0</td>\n",
       "      <td>0</td>\n",
       "      <td>1</td>\n",
       "    </tr>\n",
       "    <tr>\n",
       "      <th>2</th>\n",
       "      <td>1</td>\n",
       "      <td>2018-03-30</td>\n",
       "      <td>2018-02-28</td>\n",
       "      <td>1251</td>\n",
       "      <td>2018-02-28 12:04:56</td>\n",
       "      <td>0.007371</td>\n",
       "      <td>0.900000</td>\n",
       "      <td>0.521739</td>\n",
       "      <td>0.000000</td>\n",
       "      <td>0.333333</td>\n",
       "      <td>0.015930</td>\n",
       "      <td>0.000000</td>\n",
       "      <td>0.015930</td>\n",
       "      <td>1</td>\n",
       "      <td>0</td>\n",
       "      <td>0</td>\n",
       "      <td>1</td>\n",
       "      <td>0</td>\n",
       "      <td>0</td>\n",
       "      <td>1</td>\n",
       "      <td>0</td>\n",
       "      <td>0</td>\n",
       "      <td>1</td>\n",
       "    </tr>\n",
       "    <tr>\n",
       "      <th>3</th>\n",
       "      <td>0</td>\n",
       "      <td>2018-04-28</td>\n",
       "      <td>2018-03-28</td>\n",
       "      <td>440</td>\n",
       "      <td>2018-03-28 15:47:59</td>\n",
       "      <td>0.007371</td>\n",
       "      <td>0.900000</td>\n",
       "      <td>0.652174</td>\n",
       "      <td>0.000000</td>\n",
       "      <td>0.666667</td>\n",
       "      <td>0.007775</td>\n",
       "      <td>0.017391</td>\n",
       "      <td>0.007775</td>\n",
       "      <td>1</td>\n",
       "      <td>0</td>\n",
       "      <td>0</td>\n",
       "      <td>1</td>\n",
       "      <td>0</td>\n",
       "      <td>0</td>\n",
       "      <td>1</td>\n",
       "      <td>0</td>\n",
       "      <td>0</td>\n",
       "      <td>1</td>\n",
       "    </tr>\n",
       "    <tr>\n",
       "      <th>4</th>\n",
       "      <td>0</td>\n",
       "      <td>2018-02-23</td>\n",
       "      <td>2018-02-13</td>\n",
       "      <td>1692</td>\n",
       "      <td>2018-02-13 04:36:00</td>\n",
       "      <td>0.081081</td>\n",
       "      <td>0.400000</td>\n",
       "      <td>0.173913</td>\n",
       "      <td>0.346285</td>\n",
       "      <td>0.333333</td>\n",
       "      <td>0.012624</td>\n",
       "      <td>0.188406</td>\n",
       "      <td>0.002871</td>\n",
       "      <td>1</td>\n",
       "      <td>0</td>\n",
       "      <td>0</td>\n",
       "      <td>1</td>\n",
       "      <td>0</td>\n",
       "      <td>0</td>\n",
       "      <td>0</td>\n",
       "      <td>1</td>\n",
       "      <td>1</td>\n",
       "      <td>0</td>\n",
       "    </tr>\n",
       "  </tbody>\n",
       "</table>\n",
       "</div>"
      ],
      "text/plain": [
       "   First_Payment_Default Loan_Due_Date Loan_Funded_Date  SetID  \\\n",
       "0                      0    2018-04-11       2018-03-28    436   \n",
       "1                      0    2018-04-06       2018-03-23    615   \n",
       "2                      1    2018-03-30       2018-02-28   1251   \n",
       "3                      0    2018-04-28       2018-03-28    440   \n",
       "4                      0    2018-02-23       2018-02-13   1692   \n",
       "\n",
       "  Time_of_application  Bank_Account_Months  Day_only  Hour_only  Loan_Amount  \\\n",
       "0 2018-03-28 17:27:35             0.007371  0.900000   0.739130     0.346285   \n",
       "1 2018-03-23 13:19:32             0.140049  0.733333   0.565217     0.995575   \n",
       "2 2018-02-28 12:04:56             0.007371  0.900000   0.521739     0.000000   \n",
       "3 2018-03-28 15:47:59             0.007371  0.900000   0.652174     0.000000   \n",
       "4 2018-02-13 04:36:00             0.081081  0.400000   0.173913     0.346285   \n",
       "\n",
       "   Month_only  Monthly_Net_Income  Months_at_Residence  Paycheck_Net_Income  \\\n",
       "0    0.666667            0.010493             0.017391             0.010493   \n",
       "1    0.666667            0.018648             0.086957             0.018648   \n",
       "2    0.333333            0.015930             0.000000             0.015930   \n",
       "3    0.666667            0.007775             0.017391             0.007775   \n",
       "4    0.333333            0.012624             0.188406             0.002871   \n",
       "\n",
       "   State_CA  State_TX  Rent_or_Own_O  Rent_or_Own_R  Pay_Cycle_BiMonthly  \\\n",
       "0         1         0              0              1                    0   \n",
       "1         0         1              0              1                    0   \n",
       "2         1         0              0              1                    0   \n",
       "3         1         0              0              1                    0   \n",
       "4         1         0              0              1                    0   \n",
       "\n",
       "   Pay_Cycle_BiWeekly  Pay_Cycle_Monthly  Pay_Cycle_Weekly  \\\n",
       "0                   0                  1                 0   \n",
       "1                   0                  1                 0   \n",
       "2                   0                  1                 0   \n",
       "3                   0                  1                 0   \n",
       "4                   0                  0                 1   \n",
       "\n",
       "   application_time_flag_0.0  application_time_flag_1.0  \n",
       "0                          0                          1  \n",
       "1                          0                          1  \n",
       "2                          0                          1  \n",
       "3                          0                          1  \n",
       "4                          1                          0  "
      ]
     },
     "execution_count": 50,
     "metadata": {},
     "output_type": "execute_result"
    }
   ],
   "source": [
    "train_df.head()"
   ]
  },
  {
   "cell_type": "markdown",
   "metadata": {},
   "source": [
    "### Train and Test Split (Stratified Sampling: independent groupings)"
   ]
  },
  {
   "cell_type": "markdown",
   "metadata": {},
   "source": [
    "### Drop unnecessary columns for train dataset"
   ]
  },
  {
   "cell_type": "code",
   "execution_count": 51,
   "metadata": {},
   "outputs": [],
   "source": [
    "### Create a dataframe with all training data except the target column \n",
    "train_X = train_df.drop(['Loan_Due_Date','Loan_Funded_Date','SetID','Time_of_application','First_Payment_Default'], axis =1)"
   ]
  },
  {
   "cell_type": "code",
   "execution_count": 52,
   "metadata": {},
   "outputs": [
    {
     "data": {
      "text/plain": [
       "array([0, 0, 1, ..., 1, 0, 0])"
      ]
     },
     "execution_count": 52,
     "metadata": {},
     "output_type": "execute_result"
    }
   ],
   "source": [
    "### Create a dataframe with only the target column\n",
    "train_y = train_df['First_Payment_Default'].values\n",
    "train_y"
   ]
  },
  {
   "cell_type": "code",
   "execution_count": 53,
   "metadata": {},
   "outputs": [],
   "source": [
    "from sklearn.model_selection import train_test_split\n",
    "X_train, X_test, y_train, y_test = train_test_split(train_X,train_y,test_size=0.3, random_state=12)"
   ]
  },
  {
   "cell_type": "code",
   "execution_count": 54,
   "metadata": {},
   "outputs": [
    {
     "name": "stdout",
     "output_type": "stream",
     "text": [
      "(1120, 18)\n",
      "(480, 18)\n"
     ]
    }
   ],
   "source": [
    "print (X_train.shape)\n",
    "print (X_test.shape)"
   ]
  },
  {
   "cell_type": "markdown",
   "metadata": {},
   "source": [
    "## 1.  Logistic Regression"
   ]
  },
  {
   "cell_type": "code",
   "execution_count": 55,
   "metadata": {},
   "outputs": [
    {
     "name": "stdout",
     "output_type": "stream",
     "text": [
      "f1=0.000 auc = 0.311, ap = 0.316\n"
     ]
    },
    {
     "name": "stderr",
     "output_type": "stream",
     "text": [
      "C:\\Users\\rc_as\\Anaconda3\\lib\\site-packages\\sklearn\\linear_model\\logistic.py:433: FutureWarning: Default solver will be changed to 'lbfgs' in 0.22. Specify a solver to silence this warning.\n",
      "  FutureWarning)\n",
      "C:\\Users\\rc_as\\Anaconda3\\lib\\site-packages\\sklearn\\metrics\\classification.py:1143: UndefinedMetricWarning: F-score is ill-defined and being set to 0.0 due to no predicted samples.\n",
      "  'precision', 'predicted', average, warn_for)\n"
     ]
    }
   ],
   "source": [
    "from sklearn.linear_model import LogisticRegression\n",
    "from sklearn.metrics import accuracy_score, precision_recall_curve, average_precision_score, f1_score, auc\n",
    "logisticRegr = LogisticRegression()\n",
    "logisticRegr = logisticRegr.fit(X_train,y_train)\n",
    "# predict probabilities \n",
    "probs = logisticRegr.predict_proba(X_test)\n",
    "## Keep Probabilities for the positive outcome only \n",
    "probs = probs[:,1]\n",
    "## Test Data Accuracy \n",
    "yhat = logisticRegr.predict(X_test)\n",
    "accuracy_score(y_test, yhat)\n",
    "## Calculate precision-recall curve\n",
    "precision, recall, thresholds = precision_recall_curve(y_test, probs)\n",
    "## Calculate F1 Score \n",
    "f1= f1_score(y_test, yhat)\n",
    "## Calculate precison recall auc\n",
    "auc = auc (recall, precision)\n",
    "## Calculate average precision score \n",
    "ap = average_precision_score(y_test, probs)\n",
    "print('f1=%.3f auc = %.3f, ap = %.3f' % (f1, auc, ap))"
   ]
  },
  {
   "cell_type": "code",
   "execution_count": 56,
   "metadata": {},
   "outputs": [
    {
     "data": {
      "image/png": "[encoded data removed]",
      "text/plain": [
       "<Figure size 432x288 with 1 Axes>"
      ]
     },
     "metadata": {
      "needs_background": "light"
     },
     "output_type": "display_data"
    }
   ],
   "source": [
    "from matplotlib import pyplot\n",
    "pyplot.plot([0,1], [0.5,0.5], linestyle= '--')\n",
    "pyplot.plot(recall, precision, marker = '.')\n",
    "pyplot.show()"
   ]
  },
  {
   "cell_type": "code",
   "execution_count": 57,
   "metadata": {},
   "outputs": [
    {
     "name": "stdout",
     "output_type": "stream",
     "text": [
      "AUC: 0.538\n"
     ]
    },
    {
     "data": {
      "image/png": "[encoded data removed]",
      "text/plain": [
       "<Figure size 432x288 with 1 Axes>"
      ]
     },
     "metadata": {
      "needs_background": "light"
     },
     "output_type": "display_data"
    }
   ],
   "source": [
    "from sklearn.metrics import roc_auc_score, roc_curve\n",
    "auc = roc_auc_score(y_test, probs)\n",
    "print ('AUC: %.3f' % auc)\n",
    "\n",
    "#calculate roc curve \n",
    "fpr, tpr, thresholds = roc_curve(y_test, probs)\n",
    "\n",
    "pyplot.plot([0,1], [0, 1], linestyle= '--')\n",
    "pyplot.plot(fpr, tpr, marker = '.')\n",
    "pyplot.show()"
   ]
  },
  {
   "cell_type": "markdown",
   "metadata": {},
   "source": [
    "### Plot in Training data:"
   ]
  },
  {
   "cell_type": "code",
   "execution_count": 58,
   "metadata": {},
   "outputs": [
    {
     "name": "stdout",
     "output_type": "stream",
     "text": [
      "AUC: 0.608\n"
     ]
    },
    {
     "data": {
      "image/png": "[encoded data removed]",
      "text/plain": [
       "<Figure size 432x288 with 1 Axes>"
      ]
     },
     "metadata": {
      "needs_background": "light"
     },
     "output_type": "display_data"
    }
   ],
   "source": [
    "# predict probabilities \n",
    "probs1 = logisticRegr.predict_proba(X_train)\n",
    "## Keep Probabilities for the positive outcome only \n",
    "probs1 = probs1[:,1]\n",
    "from sklearn.metrics import roc_auc_score, roc_curve\n",
    "auc = roc_auc_score(y_train, probs1)\n",
    "print ('AUC: %.3f' % auc)\n",
    "#calculate roc curve \n",
    "fpr, tpr, thresholds = roc_curve(y_train, probs1)\n",
    "pyplot.plot([0,1], [0, 1], linestyle= '--')\n",
    "pyplot.plot(fpr, tpr, marker = '.')\n",
    "pyplot.show()"
   ]
  },
  {
   "cell_type": "code",
   "execution_count": 59,
   "metadata": {},
   "outputs": [
    {
     "data": {
      "text/plain": [
       "array([[352,   0],\n",
       "       [128,   0]], dtype=int64)"
      ]
     },
     "execution_count": 59,
     "metadata": {},
     "output_type": "execute_result"
    }
   ],
   "source": [
    "from sklearn.metrics import confusion_matrix\n",
    "cnf_matrix = confusion_matrix(y_test, yhat)\n",
    "cnf_matrix"
   ]
  },
  {
   "cell_type": "markdown",
   "metadata": {},
   "source": [
    "## 2. Decision Tree"
   ]
  },
  {
   "cell_type": "code",
   "execution_count": 60,
   "metadata": {},
   "outputs": [
    {
     "name": "stdout",
     "output_type": "stream",
     "text": [
      "f1=0.275 auc = 0.382, ap = 0.360\n"
     ]
    },
    {
     "name": "stderr",
     "output_type": "stream",
     "text": [
      "C:\\Users\\rc_as\\Anaconda3\\lib\\site-packages\\sklearn\\ensemble\\forest.py:246: FutureWarning: The default value of n_estimators will change from 10 in version 0.20 to 100 in 0.22.\n",
      "  \"10 in version 0.20 to 100 in 0.22.\", FutureWarning)\n"
     ]
    }
   ],
   "source": [
    "from sklearn.ensemble import ExtraTreesClassifier\n",
    "from sklearn.metrics import accuracy_score, precision_recall_curve, average_precision_score, f1_score, auc\n",
    "#Fit the model \n",
    "logisticRegr = ExtraTreesClassifier()\n",
    "logisticRegr = logisticRegr.fit(X_train,y_train)\n",
    "\n",
    "# predict probabilities \n",
    "probs = logisticRegr.predict_proba(X_test)\n",
    "\n",
    "## Keep Probabilities for the positive outcome only \n",
    "probs = probs[:,1]\n",
    "\n",
    "## Test Data Accuracy \n",
    "yhat = logisticRegr.predict(X_test)\n",
    "accuracy_score(y_test, yhat)\n",
    "\n",
    "## Calculate precision-recall curve\n",
    "precision, recall, thresholds = precision_recall_curve(y_test, probs)\n",
    "\n",
    "## Calculate F1 Score \n",
    "f1= f1_score(y_test, yhat)\n",
    "\n",
    "## Calculate precison recall auc\n",
    "auc = auc (recall, precision)\n",
    "\n",
    "## Calculate average precision score \n",
    "ap = average_precision_score(y_test, probs)\n",
    "print('f1=%.3f auc = %.3f, ap = %.3f' % (f1, auc, ap))"
   ]
  },
  {
   "cell_type": "code",
   "execution_count": 374,
   "metadata": {},
   "outputs": [
    {
     "data": {
      "image/png": "[encoded data removed]",
      "text/plain": [
       "<Figure size 432x288 with 1 Axes>"
      ]
     },
     "metadata": {
      "needs_background": "light"
     },
     "output_type": "display_data"
    }
   ],
   "source": [
    "from matplotlib import pyplot\n",
    "\n",
    "pyplot.plot([0,1], [0.5,0.5], linestyle= '--')\n",
    "pyplot.plot(recall, precision, marker = '.')\n",
    "pyplot.show()"
   ]
  },
  {
   "cell_type": "code",
   "execution_count": 61,
   "metadata": {},
   "outputs": [
    {
     "name": "stdout",
     "output_type": "stream",
     "text": [
      "AUC: 0.566\n"
     ]
    },
    {
     "data": {
      "image/png": "[encoded data removed]",
      "text/plain": [
       "<Figure size 432x288 with 1 Axes>"
      ]
     },
     "metadata": {
      "needs_background": "light"
     },
     "output_type": "display_data"
    }
   ],
   "source": [
    "from sklearn.metrics import roc_auc_score, roc_curve\n",
    "auc = roc_auc_score(y_test, probs)\n",
    "print ('AUC: %.3f' % auc)\n",
    "#calculate roc curve \n",
    "fpr, tpr, thresholds = roc_curve(y_test, probs)\n",
    "pyplot.plot([0,1], [0, 1], linestyle= '--')\n",
    "pyplot.plot(fpr, tpr, marker = '.')\n",
    "pyplot.show()"
   ]
  },
  {
   "cell_type": "markdown",
   "metadata": {},
   "source": [
    "## 3. Random Forest"
   ]
  },
  {
   "cell_type": "code",
   "execution_count": 62,
   "metadata": {
    "scrolled": true
   },
   "outputs": [
    {
     "name": "stdout",
     "output_type": "stream",
     "text": [
      "Accuracy of RF on training data: 1.0\n"
     ]
    },
    {
     "data": {
      "text/plain": [
       "0.7416666666666667"
      ]
     },
     "execution_count": 62,
     "metadata": {},
     "output_type": "execute_result"
    }
   ],
   "source": [
    "from sklearn.ensemble import RandomForestClassifier\n",
    "rf = RandomForestClassifier(n_estimators=500, n_jobs=-1, random_state=42)\n",
    "rf.fit(X_train,y_train)\n",
    "print('Accuracy of RF on training data: {}'.format(rf.score(X_train, y_train)))\n",
    "rf=rf.score(X_test, y_test)\n",
    "rf"
   ]
  },
  {
   "cell_type": "markdown",
   "metadata": {},
   "source": [
    "## 4. Support Vector Machine (SVM)"
   ]
  },
  {
   "cell_type": "code",
   "execution_count": 63,
   "metadata": {},
   "outputs": [
    {
     "name": "stdout",
     "output_type": "stream",
     "text": [
      "Accuracy of SVM_Linear on training data: 0.7348214285714286\n"
     ]
    },
    {
     "name": "stderr",
     "output_type": "stream",
     "text": [
      "C:\\Users\\rc_as\\Anaconda3\\lib\\site-packages\\sklearn\\svm\\base.py:922: ConvergenceWarning: Liblinear failed to converge, increase the number of iterations.\n",
      "  \"the number of iterations.\", ConvergenceWarning)\n"
     ]
    },
    {
     "data": {
      "text/plain": [
       "0.7291666666666666"
      ]
     },
     "execution_count": 63,
     "metadata": {},
     "output_type": "execute_result"
    }
   ],
   "source": [
    "from sklearn.svm import LinearSVC\n",
    "svm_linear = LinearSVC(penalty ='l1', dual =False)\n",
    "svm_linear.fit(X_train, y_train)\n",
    "print('Accuracy of SVM_Linear on training data: {}'.format(svm_linear.score(X_train, y_train)))\n",
    "svm=svm_linear.score(X_test, y_test)\n",
    "svm"
   ]
  },
  {
   "cell_type": "markdown",
   "metadata": {},
   "source": [
    "## 5. SVM Radial "
   ]
  },
  {
   "cell_type": "code",
   "execution_count": 64,
   "metadata": {},
   "outputs": [
    {
     "name": "stdout",
     "output_type": "stream",
     "text": [
      "[[352   0]\n",
      " [128   0]]\n",
      "              precision    recall  f1-score   support\n",
      "\n",
      "           0       0.73      1.00      0.85       352\n",
      "           1       0.00      0.00      0.00       128\n",
      "\n",
      "   micro avg       0.73      0.73      0.73       480\n",
      "   macro avg       0.37      0.50      0.42       480\n",
      "weighted avg       0.54      0.73      0.62       480\n",
      "\n"
     ]
    },
    {
     "name": "stderr",
     "output_type": "stream",
     "text": [
      "C:\\Users\\rc_as\\Anaconda3\\lib\\site-packages\\sklearn\\svm\\base.py:196: FutureWarning: The default value of gamma will change from 'auto' to 'scale' in version 0.22 to account better for unscaled features. Set gamma explicitly to 'auto' or 'scale' to avoid this warning.\n",
      "  \"avoid this warning.\", FutureWarning)\n",
      "C:\\Users\\rc_as\\Anaconda3\\lib\\site-packages\\sklearn\\metrics\\classification.py:1143: UndefinedMetricWarning: Precision and F-score are ill-defined and being set to 0.0 in labels with no predicted samples.\n",
      "  'precision', 'predicted', average, warn_for)\n",
      "C:\\Users\\rc_as\\Anaconda3\\lib\\site-packages\\sklearn\\metrics\\classification.py:1143: UndefinedMetricWarning: Precision and F-score are ill-defined and being set to 0.0 in labels with no predicted samples.\n",
      "  'precision', 'predicted', average, warn_for)\n",
      "C:\\Users\\rc_as\\Anaconda3\\lib\\site-packages\\sklearn\\metrics\\classification.py:1143: UndefinedMetricWarning: Precision and F-score are ill-defined and being set to 0.0 in labels with no predicted samples.\n",
      "  'precision', 'predicted', average, warn_for)\n"
     ]
    }
   ],
   "source": [
    "from sklearn.svm import SVC\n",
    "svm_radial = SVC(kernel='rbf')\n",
    "svm_radial.fit(X_train, y_train)\n",
    "Y_pred = svm_radial.predict(X_test)\n",
    "from sklearn.metrics import classification_report, confusion_matrix  \n",
    "print(confusion_matrix(y_test,Y_pred))  \n",
    "print(classification_report(y_test,Y_pred))"
   ]
  },
  {
   "cell_type": "code",
   "execution_count": 65,
   "metadata": {},
   "outputs": [
    {
     "data": {
      "text/plain": [
       "0.7333333333333333"
      ]
     },
     "execution_count": 65,
     "metadata": {},
     "output_type": "execute_result"
    }
   ],
   "source": [
    "svmr=svm_radial.score(X_test, y_test)\n",
    "svmr"
   ]
  },
  {
   "cell_type": "code",
   "execution_count": 66,
   "metadata": {},
   "outputs": [
    {
     "data": {
      "text/html": [
       "<div>\n",
       "<style scoped>\n",
       "    .dataframe tbody tr th:only-of-type {\n",
       "        vertical-align: middle;\n",
       "    }\n",
       "\n",
       "    .dataframe tbody tr th {\n",
       "        vertical-align: top;\n",
       "    }\n",
       "\n",
       "    .dataframe thead th {\n",
       "        text-align: right;\n",
       "    }\n",
       "</style>\n",
       "<table border=\"1\" class=\"dataframe\">\n",
       "  <thead>\n",
       "    <tr style=\"text-align: right;\">\n",
       "      <th></th>\n",
       "      <th>Model</th>\n",
       "      <th>Score</th>\n",
       "    </tr>\n",
       "  </thead>\n",
       "  <tbody>\n",
       "    <tr>\n",
       "      <th>0</th>\n",
       "      <td>Random Forest</td>\n",
       "      <td>0.741667</td>\n",
       "    </tr>\n",
       "    <tr>\n",
       "      <th>2</th>\n",
       "      <td>SVM Radial</td>\n",
       "      <td>0.733333</td>\n",
       "    </tr>\n",
       "    <tr>\n",
       "      <th>1</th>\n",
       "      <td>Support Vector Machines</td>\n",
       "      <td>0.729167</td>\n",
       "    </tr>\n",
       "  </tbody>\n",
       "</table>\n",
       "</div>"
      ],
      "text/plain": [
       "                     Model     Score\n",
       "0            Random Forest  0.741667\n",
       "2               SVM Radial  0.733333\n",
       "1  Support Vector Machines  0.729167"
      ]
     },
     "execution_count": 66,
     "metadata": {},
     "output_type": "execute_result"
    }
   ],
   "source": [
    "models = pd.DataFrame({\n",
    "    'Model': ['Random Forest','Support Vector Machines',\"SVM Radial\" ],\n",
    "    'Score': [ rf, svm, svmr]})\n",
    "models.sort_values(by='Score', ascending=False)"
   ]
  },
  {
   "cell_type": "markdown",
   "metadata": {},
   "source": [
    "## Prediction on Test data"
   ]
  },
  {
   "cell_type": "code",
   "execution_count": 94,
   "metadata": {},
   "outputs": [
    {
     "data": {
      "text/html": [
       "<div>\n",
       "<style scoped>\n",
       "    .dataframe tbody tr th:only-of-type {\n",
       "        vertical-align: middle;\n",
       "    }\n",
       "\n",
       "    .dataframe tbody tr th {\n",
       "        vertical-align: top;\n",
       "    }\n",
       "\n",
       "    .dataframe thead th {\n",
       "        text-align: right;\n",
       "    }\n",
       "</style>\n",
       "<table border=\"1\" class=\"dataframe\">\n",
       "  <thead>\n",
       "    <tr style=\"text-align: right;\">\n",
       "      <th></th>\n",
       "      <th>SetID</th>\n",
       "      <th>Time of Application</th>\n",
       "      <th>State</th>\n",
       "      <th>Monthly Net Income</th>\n",
       "      <th>Paycheck Net Income</th>\n",
       "      <th>Rent or Own</th>\n",
       "      <th>Months at Residence</th>\n",
       "      <th>Bank Account Months</th>\n",
       "      <th>Pay Cycle</th>\n",
       "      <th>Loan Amount</th>\n",
       "      <th>Loan Funded Date</th>\n",
       "      <th>Loan Due Date</th>\n",
       "      <th>First Payment Default</th>\n",
       "    </tr>\n",
       "  </thead>\n",
       "  <tbody>\n",
       "    <tr>\n",
       "      <th>0</th>\n",
       "      <td>1</td>\n",
       "      <td>2018-04-09T23:25:18Z</td>\n",
       "      <td>CA</td>\n",
       "      <td>1894.0</td>\n",
       "      <td>947.0</td>\n",
       "      <td>R</td>\n",
       "      <td>8</td>\n",
       "      <td>30</td>\n",
       "      <td>BiWeekly</td>\n",
       "      <td>300.00</td>\n",
       "      <td>2018-04-10</td>\n",
       "      <td>2018-04-20</td>\n",
       "      <td>NaN</td>\n",
       "    </tr>\n",
       "    <tr>\n",
       "      <th>1</th>\n",
       "      <td>4</td>\n",
       "      <td>2018-04-09T20:34:56Z</td>\n",
       "      <td>TX</td>\n",
       "      <td>5000.0</td>\n",
       "      <td>5000.0</td>\n",
       "      <td>O</td>\n",
       "      <td>36</td>\n",
       "      <td>36</td>\n",
       "      <td>Monthly</td>\n",
       "      <td>642.46</td>\n",
       "      <td>2018-04-10</td>\n",
       "      <td>2018-04-27</td>\n",
       "      <td>NaN</td>\n",
       "    </tr>\n",
       "  </tbody>\n",
       "</table>\n",
       "</div>"
      ],
      "text/plain": [
       "   SetID   Time of Application State  Monthly Net Income  Paycheck Net Income  \\\n",
       "0      1  2018-04-09T23:25:18Z    CA              1894.0                947.0   \n",
       "1      4  2018-04-09T20:34:56Z    TX              5000.0               5000.0   \n",
       "\n",
       "  Rent or Own  Months at Residence  Bank Account Months Pay Cycle  \\\n",
       "0           R                    8                   30  BiWeekly   \n",
       "1           O                   36                   36   Monthly   \n",
       "\n",
       "   Loan Amount Loan Funded Date Loan Due Date  First Payment Default  \n",
       "0       300.00       2018-04-10    2018-04-20                    NaN  \n",
       "1       642.46       2018-04-10    2018-04-27                    NaN  "
      ]
     },
     "execution_count": 94,
     "metadata": {},
     "output_type": "execute_result"
    }
   ],
   "source": [
    "predictedData  = pd.read_csv(\"Sample_Test.csv\")\n",
    "predictedData.head(2)"
   ]
  },
  {
   "cell_type": "code",
   "execution_count": 95,
   "metadata": {},
   "outputs": [],
   "source": [
    "test = predictedData"
   ]
  },
  {
   "cell_type": "code",
   "execution_count": 96,
   "metadata": {},
   "outputs": [],
   "source": [
    "test.rename(columns={'First Payment Default': 'First_Payment_Default','Loan Due Date': 'Loan_Due_Date',\n",
    "                  'Loan Funded Date': 'Loan_Funded_Date','Pay Cycle': 'Pay_Cycle','Rent or Own': 'Rent_or_Own',\n",
    "                  'Bank Account Months': 'Bank_Account_Months','Loan Amount': 'Loan_Amount',\n",
    "                  'Monthly Net Income': 'Monthly_Net_Income','Months at Residence': 'Months_at_Residence',\n",
    "                  'Paycheck Net Income': 'Paycheck_Net_Income'}, inplace=True)"
   ]
  },
  {
   "cell_type": "code",
   "execution_count": 97,
   "metadata": {},
   "outputs": [
    {
     "data": {
      "text/plain": [
       "Index(['SetID', 'Time of Application', 'State', 'Monthly_Net_Income',\n",
       "       'Paycheck_Net_Income', 'Rent_or_Own', 'Months_at_Residence',\n",
       "       'Bank_Account_Months', 'Pay_Cycle', 'Loan_Amount', 'Loan_Funded_Date',\n",
       "       'Loan_Due_Date', 'First_Payment_Default'],\n",
       "      dtype='object')"
      ]
     },
     "execution_count": 97,
     "metadata": {},
     "output_type": "execute_result"
    }
   ],
   "source": [
    "test.columns"
   ]
  },
  {
   "cell_type": "code",
   "execution_count": 98,
   "metadata": {},
   "outputs": [
    {
     "data": {
      "text/plain": [
       "(400, 13)"
      ]
     },
     "execution_count": 98,
     "metadata": {},
     "output_type": "execute_result"
    }
   ],
   "source": [
    "test.shape"
   ]
  },
  {
   "cell_type": "code",
   "execution_count": 99,
   "metadata": {},
   "outputs": [
    {
     "name": "stdout",
     "output_type": "stream",
     "text": [
      "<class 'pandas.core.frame.DataFrame'>\n",
      "RangeIndex: 400 entries, 0 to 399\n",
      "Data columns (total 13 columns):\n",
      "SetID                    400 non-null int64\n",
      "Time of Application      400 non-null object\n",
      "State                    400 non-null object\n",
      "Monthly_Net_Income       400 non-null float64\n",
      "Paycheck_Net_Income      400 non-null float64\n",
      "Rent_or_Own              400 non-null object\n",
      "Months_at_Residence      400 non-null int64\n",
      "Bank_Account_Months      400 non-null int64\n",
      "Pay_Cycle                400 non-null object\n",
      "Loan_Amount              400 non-null float64\n",
      "Loan_Funded_Date         400 non-null object\n",
      "Loan_Due_Date            400 non-null object\n",
      "First_Payment_Default    0 non-null float64\n",
      "dtypes: float64(4), int64(3), object(6)\n",
      "memory usage: 40.7+ KB\n"
     ]
    }
   ],
   "source": [
    "test.info()"
   ]
  },
  {
   "cell_type": "markdown",
   "metadata": {},
   "source": [
    "### Convert Object type to Datetime and extract Month, Day and Hour:"
   ]
  },
  {
   "cell_type": "code",
   "execution_count": 100,
   "metadata": {},
   "outputs": [],
   "source": [
    "test[\"Time_of_application\"] = pd.to_datetime(test['Time of Application'])# removes alphabet (A->a)"
   ]
  },
  {
   "cell_type": "code",
   "execution_count": 101,
   "metadata": {},
   "outputs": [
    {
     "data": {
      "text/html": [
       "<div>\n",
       "<style scoped>\n",
       "    .dataframe tbody tr th:only-of-type {\n",
       "        vertical-align: middle;\n",
       "    }\n",
       "\n",
       "    .dataframe tbody tr th {\n",
       "        vertical-align: top;\n",
       "    }\n",
       "\n",
       "    .dataframe thead th {\n",
       "        text-align: right;\n",
       "    }\n",
       "</style>\n",
       "<table border=\"1\" class=\"dataframe\">\n",
       "  <thead>\n",
       "    <tr style=\"text-align: right;\">\n",
       "      <th></th>\n",
       "      <th>SetID</th>\n",
       "      <th>Time of Application</th>\n",
       "      <th>State</th>\n",
       "      <th>Monthly_Net_Income</th>\n",
       "      <th>Paycheck_Net_Income</th>\n",
       "      <th>Rent_or_Own</th>\n",
       "      <th>Months_at_Residence</th>\n",
       "      <th>Bank_Account_Months</th>\n",
       "      <th>Pay_Cycle</th>\n",
       "      <th>Loan_Amount</th>\n",
       "      <th>Loan_Funded_Date</th>\n",
       "      <th>Loan_Due_Date</th>\n",
       "      <th>First_Payment_Default</th>\n",
       "      <th>Time_of_application</th>\n",
       "    </tr>\n",
       "  </thead>\n",
       "  <tbody>\n",
       "    <tr>\n",
       "      <th>0</th>\n",
       "      <td>1</td>\n",
       "      <td>2018-04-09T23:25:18Z</td>\n",
       "      <td>CA</td>\n",
       "      <td>1894.0</td>\n",
       "      <td>947.0</td>\n",
       "      <td>R</td>\n",
       "      <td>8</td>\n",
       "      <td>30</td>\n",
       "      <td>BiWeekly</td>\n",
       "      <td>300.00</td>\n",
       "      <td>2018-04-10</td>\n",
       "      <td>2018-04-20</td>\n",
       "      <td>NaN</td>\n",
       "      <td>2018-04-09 23:25:18</td>\n",
       "    </tr>\n",
       "    <tr>\n",
       "      <th>1</th>\n",
       "      <td>4</td>\n",
       "      <td>2018-04-09T20:34:56Z</td>\n",
       "      <td>TX</td>\n",
       "      <td>5000.0</td>\n",
       "      <td>5000.0</td>\n",
       "      <td>O</td>\n",
       "      <td>36</td>\n",
       "      <td>36</td>\n",
       "      <td>Monthly</td>\n",
       "      <td>642.46</td>\n",
       "      <td>2018-04-10</td>\n",
       "      <td>2018-04-27</td>\n",
       "      <td>NaN</td>\n",
       "      <td>2018-04-09 20:34:56</td>\n",
       "    </tr>\n",
       "  </tbody>\n",
       "</table>\n",
       "</div>"
      ],
      "text/plain": [
       "   SetID   Time of Application State  Monthly_Net_Income  Paycheck_Net_Income  \\\n",
       "0      1  2018-04-09T23:25:18Z    CA              1894.0                947.0   \n",
       "1      4  2018-04-09T20:34:56Z    TX              5000.0               5000.0   \n",
       "\n",
       "  Rent_or_Own  Months_at_Residence  Bank_Account_Months Pay_Cycle  \\\n",
       "0           R                    8                   30  BiWeekly   \n",
       "1           O                   36                   36   Monthly   \n",
       "\n",
       "   Loan_Amount Loan_Funded_Date Loan_Due_Date  First_Payment_Default  \\\n",
       "0       300.00       2018-04-10    2018-04-20                    NaN   \n",
       "1       642.46       2018-04-10    2018-04-27                    NaN   \n",
       "\n",
       "  Time_of_application  \n",
       "0 2018-04-09 23:25:18  \n",
       "1 2018-04-09 20:34:56  "
      ]
     },
     "execution_count": 101,
     "metadata": {},
     "output_type": "execute_result"
    }
   ],
   "source": [
    "test.head(2)"
   ]
  },
  {
   "cell_type": "code",
   "execution_count": 102,
   "metadata": {},
   "outputs": [],
   "source": [
    "## Drop the original 'Time of Application' column\n",
    "test = test.drop(['Time of Application', 'First_Payment_Default'], axis =1)"
   ]
  },
  {
   "cell_type": "code",
   "execution_count": 103,
   "metadata": {},
   "outputs": [
    {
     "data": {
      "text/html": [
       "<div>\n",
       "<style scoped>\n",
       "    .dataframe tbody tr th:only-of-type {\n",
       "        vertical-align: middle;\n",
       "    }\n",
       "\n",
       "    .dataframe tbody tr th {\n",
       "        vertical-align: top;\n",
       "    }\n",
       "\n",
       "    .dataframe thead th {\n",
       "        text-align: right;\n",
       "    }\n",
       "</style>\n",
       "<table border=\"1\" class=\"dataframe\">\n",
       "  <thead>\n",
       "    <tr style=\"text-align: right;\">\n",
       "      <th></th>\n",
       "      <th>SetID</th>\n",
       "      <th>State</th>\n",
       "      <th>Monthly_Net_Income</th>\n",
       "      <th>Paycheck_Net_Income</th>\n",
       "      <th>Rent_or_Own</th>\n",
       "      <th>Months_at_Residence</th>\n",
       "      <th>Bank_Account_Months</th>\n",
       "      <th>Pay_Cycle</th>\n",
       "      <th>Loan_Amount</th>\n",
       "      <th>Loan_Funded_Date</th>\n",
       "      <th>Loan_Due_Date</th>\n",
       "      <th>Time_of_application</th>\n",
       "    </tr>\n",
       "  </thead>\n",
       "  <tbody>\n",
       "    <tr>\n",
       "      <th>0</th>\n",
       "      <td>1</td>\n",
       "      <td>CA</td>\n",
       "      <td>1894.0</td>\n",
       "      <td>947.0</td>\n",
       "      <td>R</td>\n",
       "      <td>8</td>\n",
       "      <td>30</td>\n",
       "      <td>BiWeekly</td>\n",
       "      <td>300.00</td>\n",
       "      <td>2018-04-10</td>\n",
       "      <td>2018-04-20</td>\n",
       "      <td>2018-04-09 23:25:18</td>\n",
       "    </tr>\n",
       "    <tr>\n",
       "      <th>1</th>\n",
       "      <td>4</td>\n",
       "      <td>TX</td>\n",
       "      <td>5000.0</td>\n",
       "      <td>5000.0</td>\n",
       "      <td>O</td>\n",
       "      <td>36</td>\n",
       "      <td>36</td>\n",
       "      <td>Monthly</td>\n",
       "      <td>642.46</td>\n",
       "      <td>2018-04-10</td>\n",
       "      <td>2018-04-27</td>\n",
       "      <td>2018-04-09 20:34:56</td>\n",
       "    </tr>\n",
       "  </tbody>\n",
       "</table>\n",
       "</div>"
      ],
      "text/plain": [
       "   SetID State  Monthly_Net_Income  Paycheck_Net_Income Rent_or_Own  \\\n",
       "0      1    CA              1894.0                947.0           R   \n",
       "1      4    TX              5000.0               5000.0           O   \n",
       "\n",
       "   Months_at_Residence  Bank_Account_Months Pay_Cycle  Loan_Amount  \\\n",
       "0                    8                   30  BiWeekly       300.00   \n",
       "1                   36                   36   Monthly       642.46   \n",
       "\n",
       "  Loan_Funded_Date Loan_Due_Date Time_of_application  \n",
       "0       2018-04-10    2018-04-20 2018-04-09 23:25:18  \n",
       "1       2018-04-10    2018-04-27 2018-04-09 20:34:56  "
      ]
     },
     "execution_count": 103,
     "metadata": {},
     "output_type": "execute_result"
    }
   ],
   "source": [
    "test.head(2)"
   ]
  },
  {
   "cell_type": "code",
   "execution_count": 104,
   "metadata": {},
   "outputs": [],
   "source": [
    "test['Month_only']= test['Time_of_application'].dt.month\n",
    "test['Day_only']= test['Time_of_application'].dt.day\n",
    "test['Hour_only']= test['Time_of_application'].dt.hour"
   ]
  },
  {
   "cell_type": "code",
   "execution_count": 105,
   "metadata": {},
   "outputs": [
    {
     "data": {
      "text/html": [
       "<div>\n",
       "<style scoped>\n",
       "    .dataframe tbody tr th:only-of-type {\n",
       "        vertical-align: middle;\n",
       "    }\n",
       "\n",
       "    .dataframe tbody tr th {\n",
       "        vertical-align: top;\n",
       "    }\n",
       "\n",
       "    .dataframe thead th {\n",
       "        text-align: right;\n",
       "    }\n",
       "</style>\n",
       "<table border=\"1\" class=\"dataframe\">\n",
       "  <thead>\n",
       "    <tr style=\"text-align: right;\">\n",
       "      <th></th>\n",
       "      <th>SetID</th>\n",
       "      <th>State</th>\n",
       "      <th>Monthly_Net_Income</th>\n",
       "      <th>Paycheck_Net_Income</th>\n",
       "      <th>Rent_or_Own</th>\n",
       "      <th>Months_at_Residence</th>\n",
       "      <th>Bank_Account_Months</th>\n",
       "      <th>Pay_Cycle</th>\n",
       "      <th>Loan_Amount</th>\n",
       "      <th>Loan_Funded_Date</th>\n",
       "      <th>Loan_Due_Date</th>\n",
       "      <th>Time_of_application</th>\n",
       "      <th>Month_only</th>\n",
       "      <th>Day_only</th>\n",
       "      <th>Hour_only</th>\n",
       "    </tr>\n",
       "  </thead>\n",
       "  <tbody>\n",
       "    <tr>\n",
       "      <th>0</th>\n",
       "      <td>1</td>\n",
       "      <td>CA</td>\n",
       "      <td>1894.0</td>\n",
       "      <td>947.0</td>\n",
       "      <td>R</td>\n",
       "      <td>8</td>\n",
       "      <td>30</td>\n",
       "      <td>BiWeekly</td>\n",
       "      <td>300.00</td>\n",
       "      <td>2018-04-10</td>\n",
       "      <td>2018-04-20</td>\n",
       "      <td>2018-04-09 23:25:18</td>\n",
       "      <td>4</td>\n",
       "      <td>9</td>\n",
       "      <td>23</td>\n",
       "    </tr>\n",
       "    <tr>\n",
       "      <th>1</th>\n",
       "      <td>4</td>\n",
       "      <td>TX</td>\n",
       "      <td>5000.0</td>\n",
       "      <td>5000.0</td>\n",
       "      <td>O</td>\n",
       "      <td>36</td>\n",
       "      <td>36</td>\n",
       "      <td>Monthly</td>\n",
       "      <td>642.46</td>\n",
       "      <td>2018-04-10</td>\n",
       "      <td>2018-04-27</td>\n",
       "      <td>2018-04-09 20:34:56</td>\n",
       "      <td>4</td>\n",
       "      <td>9</td>\n",
       "      <td>20</td>\n",
       "    </tr>\n",
       "  </tbody>\n",
       "</table>\n",
       "</div>"
      ],
      "text/plain": [
       "   SetID State  Monthly_Net_Income  Paycheck_Net_Income Rent_or_Own  \\\n",
       "0      1    CA              1894.0                947.0           R   \n",
       "1      4    TX              5000.0               5000.0           O   \n",
       "\n",
       "   Months_at_Residence  Bank_Account_Months Pay_Cycle  Loan_Amount  \\\n",
       "0                    8                   30  BiWeekly       300.00   \n",
       "1                   36                   36   Monthly       642.46   \n",
       "\n",
       "  Loan_Funded_Date Loan_Due_Date Time_of_application  Month_only  Day_only  \\\n",
       "0       2018-04-10    2018-04-20 2018-04-09 23:25:18           4         9   \n",
       "1       2018-04-10    2018-04-27 2018-04-09 20:34:56           4         9   \n",
       "\n",
       "   Hour_only  \n",
       "0         23  \n",
       "1         20  "
      ]
     },
     "execution_count": 105,
     "metadata": {},
     "output_type": "execute_result"
    }
   ],
   "source": [
    "test.head(2)"
   ]
  },
  {
   "cell_type": "markdown",
   "metadata": {},
   "source": [
    "### Flag Variable:"
   ]
  },
  {
   "cell_type": "code",
   "execution_count": 108,
   "metadata": {},
   "outputs": [
    {
     "data": {
      "text/html": [
       "<div>\n",
       "<style scoped>\n",
       "    .dataframe tbody tr th:only-of-type {\n",
       "        vertical-align: middle;\n",
       "    }\n",
       "\n",
       "    .dataframe tbody tr th {\n",
       "        vertical-align: top;\n",
       "    }\n",
       "\n",
       "    .dataframe thead th {\n",
       "        text-align: right;\n",
       "    }\n",
       "</style>\n",
       "<table border=\"1\" class=\"dataframe\">\n",
       "  <thead>\n",
       "    <tr style=\"text-align: right;\">\n",
       "      <th></th>\n",
       "      <th>SetID</th>\n",
       "      <th>State</th>\n",
       "      <th>Monthly_Net_Income</th>\n",
       "      <th>Paycheck_Net_Income</th>\n",
       "      <th>Rent_or_Own</th>\n",
       "      <th>Months_at_Residence</th>\n",
       "      <th>Bank_Account_Months</th>\n",
       "      <th>Pay_Cycle</th>\n",
       "      <th>Loan_Amount</th>\n",
       "      <th>Loan_Funded_Date</th>\n",
       "      <th>Loan_Due_Date</th>\n",
       "      <th>Time_of_application</th>\n",
       "      <th>Month_only</th>\n",
       "      <th>Day_only</th>\n",
       "      <th>Hour_only</th>\n",
       "      <th>time_part_only</th>\n",
       "      <th>application_time_flag</th>\n",
       "    </tr>\n",
       "  </thead>\n",
       "  <tbody>\n",
       "    <tr>\n",
       "      <th>0</th>\n",
       "      <td>1</td>\n",
       "      <td>CA</td>\n",
       "      <td>1894.0</td>\n",
       "      <td>947.0</td>\n",
       "      <td>R</td>\n",
       "      <td>8</td>\n",
       "      <td>30</td>\n",
       "      <td>BiWeekly</td>\n",
       "      <td>300.00</td>\n",
       "      <td>2018-04-10</td>\n",
       "      <td>2018-04-20</td>\n",
       "      <td>2018-04-09 23:25:18</td>\n",
       "      <td>4</td>\n",
       "      <td>9</td>\n",
       "      <td>23</td>\n",
       "      <td>23:25:18</td>\n",
       "      <td>0</td>\n",
       "    </tr>\n",
       "    <tr>\n",
       "      <th>1</th>\n",
       "      <td>4</td>\n",
       "      <td>TX</td>\n",
       "      <td>5000.0</td>\n",
       "      <td>5000.0</td>\n",
       "      <td>O</td>\n",
       "      <td>36</td>\n",
       "      <td>36</td>\n",
       "      <td>Monthly</td>\n",
       "      <td>642.46</td>\n",
       "      <td>2018-04-10</td>\n",
       "      <td>2018-04-27</td>\n",
       "      <td>2018-04-09 20:34:56</td>\n",
       "      <td>4</td>\n",
       "      <td>9</td>\n",
       "      <td>20</td>\n",
       "      <td>20:34:56</td>\n",
       "      <td>0</td>\n",
       "    </tr>\n",
       "  </tbody>\n",
       "</table>\n",
       "</div>"
      ],
      "text/plain": [
       "   SetID State  Monthly_Net_Income  Paycheck_Net_Income Rent_or_Own  \\\n",
       "0      1    CA              1894.0                947.0           R   \n",
       "1      4    TX              5000.0               5000.0           O   \n",
       "\n",
       "   Months_at_Residence  Bank_Account_Months Pay_Cycle  Loan_Amount  \\\n",
       "0                    8                   30  BiWeekly       300.00   \n",
       "1                   36                   36   Monthly       642.46   \n",
       "\n",
       "  Loan_Funded_Date Loan_Due_Date Time_of_application  Month_only  Day_only  \\\n",
       "0       2018-04-10    2018-04-20 2018-04-09 23:25:18           4         9   \n",
       "1       2018-04-10    2018-04-27 2018-04-09 20:34:56           4         9   \n",
       "\n",
       "   Hour_only time_part_only  application_time_flag  \n",
       "0         23       23:25:18                      0  \n",
       "1         20       20:34:56                      0  "
      ]
     },
     "execution_count": 108,
     "metadata": {},
     "output_type": "execute_result"
    }
   ],
   "source": [
    "test['time_part_only']= pd.to_datetime(test['Time_of_application'], format = '%H:%M:%S').dt.time.astype(str)\n",
    "test['application_time_flag']= test['time_part_only'].apply(lambda x: 1 if x >= '08:00:00' and x <= '18:00:00' else (0))\n",
    "test.head(2)"
   ]
  },
  {
   "cell_type": "code",
   "execution_count": 109,
   "metadata": {},
   "outputs": [
    {
     "data": {
      "text/html": [
       "<div>\n",
       "<style scoped>\n",
       "    .dataframe tbody tr th:only-of-type {\n",
       "        vertical-align: middle;\n",
       "    }\n",
       "\n",
       "    .dataframe tbody tr th {\n",
       "        vertical-align: top;\n",
       "    }\n",
       "\n",
       "    .dataframe thead th {\n",
       "        text-align: right;\n",
       "    }\n",
       "</style>\n",
       "<table border=\"1\" class=\"dataframe\">\n",
       "  <thead>\n",
       "    <tr style=\"text-align: right;\">\n",
       "      <th></th>\n",
       "      <th>SetID</th>\n",
       "      <th>State</th>\n",
       "      <th>Monthly_Net_Income</th>\n",
       "      <th>Paycheck_Net_Income</th>\n",
       "      <th>Rent_or_Own</th>\n",
       "      <th>Months_at_Residence</th>\n",
       "      <th>Bank_Account_Months</th>\n",
       "      <th>Pay_Cycle</th>\n",
       "      <th>Loan_Amount</th>\n",
       "      <th>Loan_Funded_Date</th>\n",
       "      <th>Loan_Due_Date</th>\n",
       "      <th>Time_of_application</th>\n",
       "      <th>Month_only</th>\n",
       "      <th>Day_only</th>\n",
       "      <th>Hour_only</th>\n",
       "      <th>application_time_flag</th>\n",
       "    </tr>\n",
       "  </thead>\n",
       "  <tbody>\n",
       "    <tr>\n",
       "      <th>0</th>\n",
       "      <td>1</td>\n",
       "      <td>CA</td>\n",
       "      <td>1894.0</td>\n",
       "      <td>947.0</td>\n",
       "      <td>R</td>\n",
       "      <td>8</td>\n",
       "      <td>30</td>\n",
       "      <td>BiWeekly</td>\n",
       "      <td>300.00</td>\n",
       "      <td>2018-04-10</td>\n",
       "      <td>2018-04-20</td>\n",
       "      <td>2018-04-09 23:25:18</td>\n",
       "      <td>4</td>\n",
       "      <td>9</td>\n",
       "      <td>23</td>\n",
       "      <td>0</td>\n",
       "    </tr>\n",
       "    <tr>\n",
       "      <th>1</th>\n",
       "      <td>4</td>\n",
       "      <td>TX</td>\n",
       "      <td>5000.0</td>\n",
       "      <td>5000.0</td>\n",
       "      <td>O</td>\n",
       "      <td>36</td>\n",
       "      <td>36</td>\n",
       "      <td>Monthly</td>\n",
       "      <td>642.46</td>\n",
       "      <td>2018-04-10</td>\n",
       "      <td>2018-04-27</td>\n",
       "      <td>2018-04-09 20:34:56</td>\n",
       "      <td>4</td>\n",
       "      <td>9</td>\n",
       "      <td>20</td>\n",
       "      <td>0</td>\n",
       "    </tr>\n",
       "  </tbody>\n",
       "</table>\n",
       "</div>"
      ],
      "text/plain": [
       "   SetID State  Monthly_Net_Income  Paycheck_Net_Income Rent_or_Own  \\\n",
       "0      1    CA              1894.0                947.0           R   \n",
       "1      4    TX              5000.0               5000.0           O   \n",
       "\n",
       "   Months_at_Residence  Bank_Account_Months Pay_Cycle  Loan_Amount  \\\n",
       "0                    8                   30  BiWeekly       300.00   \n",
       "1                   36                   36   Monthly       642.46   \n",
       "\n",
       "  Loan_Funded_Date Loan_Due_Date Time_of_application  Month_only  Day_only  \\\n",
       "0       2018-04-10    2018-04-20 2018-04-09 23:25:18           4         9   \n",
       "1       2018-04-10    2018-04-27 2018-04-09 20:34:56           4         9   \n",
       "\n",
       "   Hour_only  application_time_flag  \n",
       "0         23                      0  \n",
       "1         20                      0  "
      ]
     },
     "execution_count": 109,
     "metadata": {},
     "output_type": "execute_result"
    }
   ],
   "source": [
    "# drop time_part_only column\n",
    "test = test.drop(['time_part_only'], axis =1)\n",
    "test.head(2)"
   ]
  },
  {
   "cell_type": "code",
   "execution_count": 110,
   "metadata": {},
   "outputs": [
    {
     "data": {
      "text/plain": [
       "1    330\n",
       "0     70\n",
       "Name: application_time_flag, dtype: int64"
      ]
     },
     "execution_count": 110,
     "metadata": {},
     "output_type": "execute_result"
    }
   ],
   "source": [
    "test['application_time_flag'].value_counts()"
   ]
  },
  {
   "cell_type": "code",
   "execution_count": 111,
   "metadata": {},
   "outputs": [
    {
     "data": {
      "text/html": [
       "<div>\n",
       "<style scoped>\n",
       "    .dataframe tbody tr th:only-of-type {\n",
       "        vertical-align: middle;\n",
       "    }\n",
       "\n",
       "    .dataframe tbody tr th {\n",
       "        vertical-align: top;\n",
       "    }\n",
       "\n",
       "    .dataframe thead th {\n",
       "        text-align: right;\n",
       "    }\n",
       "</style>\n",
       "<table border=\"1\" class=\"dataframe\">\n",
       "  <thead>\n",
       "    <tr style=\"text-align: right;\">\n",
       "      <th></th>\n",
       "      <th>SetID</th>\n",
       "      <th>State</th>\n",
       "      <th>Monthly_Net_Income</th>\n",
       "      <th>Paycheck_Net_Income</th>\n",
       "      <th>Rent_or_Own</th>\n",
       "      <th>Months_at_Residence</th>\n",
       "      <th>Bank_Account_Months</th>\n",
       "      <th>Pay_Cycle</th>\n",
       "      <th>Loan_Amount</th>\n",
       "      <th>Loan_Funded_Date</th>\n",
       "      <th>Loan_Due_Date</th>\n",
       "      <th>Time_of_application</th>\n",
       "      <th>Month_only</th>\n",
       "      <th>Day_only</th>\n",
       "      <th>Hour_only</th>\n",
       "      <th>application_time_flag</th>\n",
       "    </tr>\n",
       "  </thead>\n",
       "  <tbody>\n",
       "  </tbody>\n",
       "</table>\n",
       "</div>"
      ],
      "text/plain": [
       "Empty DataFrame\n",
       "Columns: [SetID, State, Monthly_Net_Income, Paycheck_Net_Income, Rent_or_Own, Months_at_Residence, Bank_Account_Months, Pay_Cycle, Loan_Amount, Loan_Funded_Date, Loan_Due_Date, Time_of_application, Month_only, Day_only, Hour_only, application_time_flag]\n",
       "Index: []"
      ]
     },
     "execution_count": 111,
     "metadata": {},
     "output_type": "execute_result"
    }
   ],
   "source": [
    "## Check for Duplicates ID:\n",
    "counts = test['SetID'].value_counts()\n",
    "test[test['SetID'].isin(counts.index[counts > 1])]"
   ]
  },
  {
   "cell_type": "markdown",
   "metadata": {},
   "source": [
    "This shows that we dont have any duplicates ID in test dataset, therefore ID is the unique key on the givendataset."
   ]
  },
  {
   "cell_type": "code",
   "execution_count": 128,
   "metadata": {},
   "outputs": [
    {
     "data": {
      "text/html": [
       "<div>\n",
       "<style scoped>\n",
       "    .dataframe tbody tr th:only-of-type {\n",
       "        vertical-align: middle;\n",
       "    }\n",
       "\n",
       "    .dataframe tbody tr th {\n",
       "        vertical-align: top;\n",
       "    }\n",
       "\n",
       "    .dataframe thead th {\n",
       "        text-align: right;\n",
       "    }\n",
       "</style>\n",
       "<table border=\"1\" class=\"dataframe\">\n",
       "  <thead>\n",
       "    <tr style=\"text-align: right;\">\n",
       "      <th></th>\n",
       "      <th>State</th>\n",
       "      <th>Monthly_Net_Income</th>\n",
       "      <th>Paycheck_Net_Income</th>\n",
       "      <th>Rent_or_Own</th>\n",
       "      <th>Months_at_Residence</th>\n",
       "      <th>Bank_Account_Months</th>\n",
       "      <th>Pay_Cycle</th>\n",
       "      <th>Loan_Amount</th>\n",
       "      <th>Month_only</th>\n",
       "      <th>Day_only</th>\n",
       "      <th>Hour_only</th>\n",
       "      <th>application_time_flag</th>\n",
       "    </tr>\n",
       "  </thead>\n",
       "  <tbody>\n",
       "    <tr>\n",
       "      <th>0</th>\n",
       "      <td>CA</td>\n",
       "      <td>1894.0</td>\n",
       "      <td>947.0</td>\n",
       "      <td>R</td>\n",
       "      <td>8</td>\n",
       "      <td>30</td>\n",
       "      <td>BiWeekly</td>\n",
       "      <td>300.00</td>\n",
       "      <td>4</td>\n",
       "      <td>9</td>\n",
       "      <td>23</td>\n",
       "      <td>0</td>\n",
       "    </tr>\n",
       "    <tr>\n",
       "      <th>1</th>\n",
       "      <td>TX</td>\n",
       "      <td>5000.0</td>\n",
       "      <td>5000.0</td>\n",
       "      <td>O</td>\n",
       "      <td>36</td>\n",
       "      <td>36</td>\n",
       "      <td>Monthly</td>\n",
       "      <td>642.46</td>\n",
       "      <td>4</td>\n",
       "      <td>9</td>\n",
       "      <td>20</td>\n",
       "      <td>0</td>\n",
       "    </tr>\n",
       "  </tbody>\n",
       "</table>\n",
       "</div>"
      ],
      "text/plain": [
       "  State  Monthly_Net_Income  Paycheck_Net_Income Rent_or_Own  \\\n",
       "0    CA              1894.0                947.0           R   \n",
       "1    TX              5000.0               5000.0           O   \n",
       "\n",
       "   Months_at_Residence  Bank_Account_Months Pay_Cycle  Loan_Amount  \\\n",
       "0                    8                   30  BiWeekly       300.00   \n",
       "1                   36                   36   Monthly       642.46   \n",
       "\n",
       "   Month_only  Day_only  Hour_only  application_time_flag  \n",
       "0           4         9         23                      0  \n",
       "1           4         9         20                      0  "
      ]
     },
     "execution_count": 128,
     "metadata": {},
     "output_type": "execute_result"
    }
   ],
   "source": [
    "test1=test.drop(columns=['SetID','Time_of_application','Loan_Due_Date','Loan_Funded_Date'])\n",
    "test1.head(2)"
   ]
  },
  {
   "cell_type": "markdown",
   "metadata": {},
   "source": [
    "### Label Encoding and One Hot Encoding:"
   ]
  },
  {
   "cell_type": "code",
   "execution_count": 130,
   "metadata": {},
   "outputs": [],
   "source": [
    "test1 = pd.get_dummies(test1, columns = ['State', 'Rent_or_Own','Pay_Cycle','application_time_flag'], \n",
    "                          prefix = ['State', 'Rent_or_Own','Pay_Cycle','application_time_flag'])"
   ]
  },
  {
   "cell_type": "code",
   "execution_count": 131,
   "metadata": {},
   "outputs": [],
   "source": [
    "test2=test1"
   ]
  },
  {
   "cell_type": "code",
   "execution_count": 132,
   "metadata": {},
   "outputs": [
    {
     "data": {
      "text/plain": [
       "Index(['Monthly_Net_Income', 'Paycheck_Net_Income', 'Months_at_Residence',\n",
       "       'Bank_Account_Months', 'Loan_Amount', 'Month_only', 'Day_only',\n",
       "       'Hour_only', 'State_CA', 'State_TX', 'Rent_or_Own_O', 'Rent_or_Own_R',\n",
       "       'Pay_Cycle_BiMonthly', 'Pay_Cycle_BiWeekly', 'Pay_Cycle_Monthly',\n",
       "       'Pay_Cycle_Weekly', 'application_time_flag_0',\n",
       "       'application_time_flag_1'],\n",
       "      dtype='object')"
      ]
     },
     "execution_count": 132,
     "metadata": {},
     "output_type": "execute_result"
    }
   ],
   "source": [
    "test2.columns"
   ]
  },
  {
   "cell_type": "code",
   "execution_count": 133,
   "metadata": {},
   "outputs": [],
   "source": [
    "Y = test2"
   ]
  },
  {
   "cell_type": "markdown",
   "metadata": {},
   "source": [
    "## SVM Radial for Prediction"
   ]
  },
  {
   "cell_type": "code",
   "execution_count": 134,
   "metadata": {},
   "outputs": [
    {
     "data": {
      "text/html": [
       "<div>\n",
       "<style scoped>\n",
       "    .dataframe tbody tr th:only-of-type {\n",
       "        vertical-align: middle;\n",
       "    }\n",
       "\n",
       "    .dataframe tbody tr th {\n",
       "        vertical-align: top;\n",
       "    }\n",
       "\n",
       "    .dataframe thead th {\n",
       "        text-align: right;\n",
       "    }\n",
       "</style>\n",
       "<table border=\"1\" class=\"dataframe\">\n",
       "  <thead>\n",
       "    <tr style=\"text-align: right;\">\n",
       "      <th></th>\n",
       "      <th>Monthly_Net_Income</th>\n",
       "      <th>Paycheck_Net_Income</th>\n",
       "      <th>Months_at_Residence</th>\n",
       "      <th>Bank_Account_Months</th>\n",
       "      <th>Loan_Amount</th>\n",
       "      <th>Month_only</th>\n",
       "      <th>Day_only</th>\n",
       "      <th>Hour_only</th>\n",
       "      <th>State_CA</th>\n",
       "      <th>State_TX</th>\n",
       "      <th>Rent_or_Own_O</th>\n",
       "      <th>Rent_or_Own_R</th>\n",
       "      <th>Pay_Cycle_BiMonthly</th>\n",
       "      <th>Pay_Cycle_BiWeekly</th>\n",
       "      <th>Pay_Cycle_Monthly</th>\n",
       "      <th>Pay_Cycle_Weekly</th>\n",
       "      <th>application_time_flag_0</th>\n",
       "      <th>application_time_flag_1</th>\n",
       "      <th>First Payment Default</th>\n",
       "    </tr>\n",
       "  </thead>\n",
       "  <tbody>\n",
       "    <tr>\n",
       "      <th>0</th>\n",
       "      <td>1894.0</td>\n",
       "      <td>947.0</td>\n",
       "      <td>8</td>\n",
       "      <td>30</td>\n",
       "      <td>300.00</td>\n",
       "      <td>4</td>\n",
       "      <td>9</td>\n",
       "      <td>23</td>\n",
       "      <td>1</td>\n",
       "      <td>0</td>\n",
       "      <td>0</td>\n",
       "      <td>1</td>\n",
       "      <td>0</td>\n",
       "      <td>1</td>\n",
       "      <td>0</td>\n",
       "      <td>0</td>\n",
       "      <td>1</td>\n",
       "      <td>0</td>\n",
       "      <td>0</td>\n",
       "    </tr>\n",
       "    <tr>\n",
       "      <th>1</th>\n",
       "      <td>5000.0</td>\n",
       "      <td>5000.0</td>\n",
       "      <td>36</td>\n",
       "      <td>36</td>\n",
       "      <td>642.46</td>\n",
       "      <td>4</td>\n",
       "      <td>9</td>\n",
       "      <td>20</td>\n",
       "      <td>0</td>\n",
       "      <td>1</td>\n",
       "      <td>1</td>\n",
       "      <td>0</td>\n",
       "      <td>0</td>\n",
       "      <td>0</td>\n",
       "      <td>1</td>\n",
       "      <td>0</td>\n",
       "      <td>1</td>\n",
       "      <td>0</td>\n",
       "      <td>0</td>\n",
       "    </tr>\n",
       "    <tr>\n",
       "      <th>2</th>\n",
       "      <td>2500.0</td>\n",
       "      <td>2500.0</td>\n",
       "      <td>108</td>\n",
       "      <td>6</td>\n",
       "      <td>644.24</td>\n",
       "      <td>4</td>\n",
       "      <td>9</td>\n",
       "      <td>17</td>\n",
       "      <td>0</td>\n",
       "      <td>1</td>\n",
       "      <td>1</td>\n",
       "      <td>0</td>\n",
       "      <td>0</td>\n",
       "      <td>0</td>\n",
       "      <td>1</td>\n",
       "      <td>0</td>\n",
       "      <td>0</td>\n",
       "      <td>1</td>\n",
       "      <td>0</td>\n",
       "    </tr>\n",
       "    <tr>\n",
       "      <th>3</th>\n",
       "      <td>2902.0</td>\n",
       "      <td>1451.0</td>\n",
       "      <td>48</td>\n",
       "      <td>36</td>\n",
       "      <td>300.00</td>\n",
       "      <td>4</td>\n",
       "      <td>9</td>\n",
       "      <td>16</td>\n",
       "      <td>1</td>\n",
       "      <td>0</td>\n",
       "      <td>0</td>\n",
       "      <td>1</td>\n",
       "      <td>0</td>\n",
       "      <td>1</td>\n",
       "      <td>0</td>\n",
       "      <td>0</td>\n",
       "      <td>0</td>\n",
       "      <td>1</td>\n",
       "      <td>0</td>\n",
       "    </tr>\n",
       "    <tr>\n",
       "      <th>4</th>\n",
       "      <td>5000.0</td>\n",
       "      <td>5000.0</td>\n",
       "      <td>12</td>\n",
       "      <td>12</td>\n",
       "      <td>235.30</td>\n",
       "      <td>4</td>\n",
       "      <td>9</td>\n",
       "      <td>14</td>\n",
       "      <td>1</td>\n",
       "      <td>0</td>\n",
       "      <td>0</td>\n",
       "      <td>1</td>\n",
       "      <td>0</td>\n",
       "      <td>0</td>\n",
       "      <td>1</td>\n",
       "      <td>0</td>\n",
       "      <td>0</td>\n",
       "      <td>1</td>\n",
       "      <td>0</td>\n",
       "    </tr>\n",
       "    <tr>\n",
       "      <th>5</th>\n",
       "      <td>3500.0</td>\n",
       "      <td>1750.0</td>\n",
       "      <td>12</td>\n",
       "      <td>12</td>\n",
       "      <td>300.00</td>\n",
       "      <td>4</td>\n",
       "      <td>9</td>\n",
       "      <td>13</td>\n",
       "      <td>1</td>\n",
       "      <td>0</td>\n",
       "      <td>0</td>\n",
       "      <td>1</td>\n",
       "      <td>1</td>\n",
       "      <td>0</td>\n",
       "      <td>0</td>\n",
       "      <td>0</td>\n",
       "      <td>0</td>\n",
       "      <td>1</td>\n",
       "      <td>0</td>\n",
       "    </tr>\n",
       "    <tr>\n",
       "      <th>6</th>\n",
       "      <td>3000.0</td>\n",
       "      <td>1500.0</td>\n",
       "      <td>120</td>\n",
       "      <td>30</td>\n",
       "      <td>235.30</td>\n",
       "      <td>4</td>\n",
       "      <td>9</td>\n",
       "      <td>12</td>\n",
       "      <td>1</td>\n",
       "      <td>0</td>\n",
       "      <td>0</td>\n",
       "      <td>1</td>\n",
       "      <td>1</td>\n",
       "      <td>0</td>\n",
       "      <td>0</td>\n",
       "      <td>0</td>\n",
       "      <td>0</td>\n",
       "      <td>1</td>\n",
       "      <td>0</td>\n",
       "    </tr>\n",
       "    <tr>\n",
       "      <th>7</th>\n",
       "      <td>5000.0</td>\n",
       "      <td>2500.0</td>\n",
       "      <td>108</td>\n",
       "      <td>6</td>\n",
       "      <td>117.65</td>\n",
       "      <td>4</td>\n",
       "      <td>9</td>\n",
       "      <td>11</td>\n",
       "      <td>1</td>\n",
       "      <td>0</td>\n",
       "      <td>1</td>\n",
       "      <td>0</td>\n",
       "      <td>0</td>\n",
       "      <td>1</td>\n",
       "      <td>0</td>\n",
       "      <td>0</td>\n",
       "      <td>0</td>\n",
       "      <td>1</td>\n",
       "      <td>0</td>\n",
       "    </tr>\n",
       "    <tr>\n",
       "      <th>8</th>\n",
       "      <td>1820.0</td>\n",
       "      <td>910.0</td>\n",
       "      <td>12</td>\n",
       "      <td>36</td>\n",
       "      <td>117.65</td>\n",
       "      <td>4</td>\n",
       "      <td>9</td>\n",
       "      <td>11</td>\n",
       "      <td>1</td>\n",
       "      <td>0</td>\n",
       "      <td>0</td>\n",
       "      <td>1</td>\n",
       "      <td>0</td>\n",
       "      <td>1</td>\n",
       "      <td>0</td>\n",
       "      <td>0</td>\n",
       "      <td>0</td>\n",
       "      <td>1</td>\n",
       "      <td>0</td>\n",
       "    </tr>\n",
       "    <tr>\n",
       "      <th>9</th>\n",
       "      <td>3000.0</td>\n",
       "      <td>3000.0</td>\n",
       "      <td>24</td>\n",
       "      <td>24</td>\n",
       "      <td>641.91</td>\n",
       "      <td>4</td>\n",
       "      <td>9</td>\n",
       "      <td>11</td>\n",
       "      <td>0</td>\n",
       "      <td>1</td>\n",
       "      <td>0</td>\n",
       "      <td>1</td>\n",
       "      <td>0</td>\n",
       "      <td>0</td>\n",
       "      <td>1</td>\n",
       "      <td>0</td>\n",
       "      <td>0</td>\n",
       "      <td>1</td>\n",
       "      <td>0</td>\n",
       "    </tr>\n",
       "  </tbody>\n",
       "</table>\n",
       "</div>"
      ],
      "text/plain": [
       "   Monthly_Net_Income  Paycheck_Net_Income  Months_at_Residence  \\\n",
       "0              1894.0                947.0                    8   \n",
       "1              5000.0               5000.0                   36   \n",
       "2              2500.0               2500.0                  108   \n",
       "3              2902.0               1451.0                   48   \n",
       "4              5000.0               5000.0                   12   \n",
       "5              3500.0               1750.0                   12   \n",
       "6              3000.0               1500.0                  120   \n",
       "7              5000.0               2500.0                  108   \n",
       "8              1820.0                910.0                   12   \n",
       "9              3000.0               3000.0                   24   \n",
       "\n",
       "   Bank_Account_Months  Loan_Amount  Month_only  Day_only  Hour_only  \\\n",
       "0                   30       300.00           4         9         23   \n",
       "1                   36       642.46           4         9         20   \n",
       "2                    6       644.24           4         9         17   \n",
       "3                   36       300.00           4         9         16   \n",
       "4                   12       235.30           4         9         14   \n",
       "5                   12       300.00           4         9         13   \n",
       "6                   30       235.30           4         9         12   \n",
       "7                    6       117.65           4         9         11   \n",
       "8                   36       117.65           4         9         11   \n",
       "9                   24       641.91           4         9         11   \n",
       "\n",
       "   State_CA  State_TX  Rent_or_Own_O  Rent_or_Own_R  Pay_Cycle_BiMonthly  \\\n",
       "0         1         0              0              1                    0   \n",
       "1         0         1              1              0                    0   \n",
       "2         0         1              1              0                    0   \n",
       "3         1         0              0              1                    0   \n",
       "4         1         0              0              1                    0   \n",
       "5         1         0              0              1                    1   \n",
       "6         1         0              0              1                    1   \n",
       "7         1         0              1              0                    0   \n",
       "8         1         0              0              1                    0   \n",
       "9         0         1              0              1                    0   \n",
       "\n",
       "   Pay_Cycle_BiWeekly  Pay_Cycle_Monthly  Pay_Cycle_Weekly  \\\n",
       "0                   1                  0                 0   \n",
       "1                   0                  1                 0   \n",
       "2                   0                  1                 0   \n",
       "3                   1                  0                 0   \n",
       "4                   0                  1                 0   \n",
       "5                   0                  0                 0   \n",
       "6                   0                  0                 0   \n",
       "7                   1                  0                 0   \n",
       "8                   1                  0                 0   \n",
       "9                   0                  1                 0   \n",
       "\n",
       "   application_time_flag_0  application_time_flag_1  First Payment Default  \n",
       "0                        1                        0                      0  \n",
       "1                        1                        0                      0  \n",
       "2                        0                        1                      0  \n",
       "3                        0                        1                      0  \n",
       "4                        0                        1                      0  \n",
       "5                        0                        1                      0  \n",
       "6                        0                        1                      0  \n",
       "7                        0                        1                      0  \n",
       "8                        0                        1                      0  \n",
       "9                        0                        1                      0  "
      ]
     },
     "execution_count": 134,
     "metadata": {},
     "output_type": "execute_result"
    }
   ],
   "source": [
    "test1['First Payment Default'] = svm_radial.predict(Y)\n",
    "test1.head(10)"
   ]
  },
  {
   "cell_type": "code",
   "execution_count": 135,
   "metadata": {},
   "outputs": [
    {
     "data": {
      "text/plain": [
       "0    400\n",
       "Name: First Payment Default, dtype: int64"
      ]
     },
     "execution_count": 135,
     "metadata": {},
     "output_type": "execute_result"
    }
   ],
   "source": [
    "test1['First Payment Default'].value_counts()"
   ]
  },
  {
   "cell_type": "markdown",
   "metadata": {},
   "source": [
    "## Thenk you!\n",
    "\n",
    "#### Ram Tiwari"
   ]
  }
 ],
 "metadata": {
  "kernelspec": {
   "display_name": "Python 3",
   "language": "python",
   "name": "python3"
  },
  "language_info": {
   "codemirror_mode": {
    "name": "ipython",
    "version": 3
   },
   "file_extension": ".py",
   "mimetype": "text/x-python",
   "name": "python",
   "nbconvert_exporter": "python",
   "pygments_lexer": "ipython3",
   "version": "3.7.1"
  }
 },
 "nbformat": 4,
 "nbformat_minor": 2
}
